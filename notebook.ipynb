{
 "cells": [
  {
   "cell_type": "markdown",
   "source": [
    "Projet d'intelligence artificielle\n",
    "===============\n",
    "---\n",
    "Edy Diehl TCHEUTCHOA DEFFO\n",
    "---"
   ],
   "metadata": {
    "collapsed": false
   }
  },
  {
   "cell_type": "markdown",
   "source": [
    "L'objectif est d'entrainer un réseau de neurones pour jouer au jeu de Go. Nous avons expérimenté les architectures MobileNet, ShuffleNet et ResidualNet afin d'atteindre des performances optimales."
   ],
   "metadata": {
    "collapsed": false
   }
  },
  {
   "cell_type": "markdown",
   "source": [
    "## 0. Packages, configurations et initialisation des données"
   ],
   "metadata": {
    "collapsed": false
   }
  },
  {
   "cell_type": "code",
   "execution_count": null,
   "metadata": {
    "colab": {
     "base_uri": "https://localhost:8080/"
    },
    "id": "-PmYv_j4QB2v",
    "outputId": "a787d2f4-cc31-4d4d-ecd0-d07212989f8a",
    "tags": []
   },
   "outputs": [],
   "source": [
    "!wget https://www.lamsade.dauphine.fr/~cazenave/project2022.zip\n",
    "!unzip project2022.zip"
   ]
  },
  {
   "cell_type": "code",
   "execution_count": 1,
   "metadata": {
    "execution": {
     "iopub.execute_input": "2024-01-02T17:06:36.674605Z",
     "iopub.status.busy": "2024-01-02T17:06:36.674222Z",
     "iopub.status.idle": "2024-01-02T17:06:39.009341Z",
     "shell.execute_reply": "2024-01-02T17:06:39.008510Z",
     "shell.execute_reply.started": "2024-01-02T17:06:36.674577Z"
    },
    "id": "2Ackf9Jjv0QW",
    "tags": []
   },
   "outputs": [
    {
     "name": "stderr",
     "output_type": "stream",
     "text": [
      "2024-01-02 17:06:37.311450: I tensorflow/core/util/port.cc:113] oneDNN custom operations are on. You may see slightly different numerical results due to floating-point round-off errors from different computation orders. To turn them off, set the environment variable `TF_ENABLE_ONEDNN_OPTS=0`.\n",
      "2024-01-02 17:06:37.357126: E external/local_xla/xla/stream_executor/cuda/cuda_dnn.cc:9261] Unable to register cuDNN factory: Attempting to register factory for plugin cuDNN when one has already been registered\n",
      "2024-01-02 17:06:37.357161: E external/local_xla/xla/stream_executor/cuda/cuda_fft.cc:607] Unable to register cuFFT factory: Attempting to register factory for plugin cuFFT when one has already been registered\n",
      "2024-01-02 17:06:37.358436: E external/local_xla/xla/stream_executor/cuda/cuda_blas.cc:1515] Unable to register cuBLAS factory: Attempting to register factory for plugin cuBLAS when one has already been registered\n",
      "2024-01-02 17:06:37.366070: I tensorflow/core/platform/cpu_feature_guard.cc:182] This TensorFlow binary is optimized to use available CPU instructions in performance-critical operations.\n",
      "To enable the following instructions: AVX2 AVX512F AVX512_VNNI FMA, in other operations, rebuild TensorFlow with the appropriate compiler flags.\n",
      "2024-01-02 17:06:38.295461: W tensorflow/compiler/tf2tensorrt/utils/py_utils.cc:38] TF-TRT Warning: Could not find TensorRT\n"
     ]
    }
   ],
   "source": [
    "import gc\n",
    "\n",
    "import golois\n",
    "import numpy as np\n",
    "import pandas as pd\n",
    "import tensorflow as tf\n",
    "import tensorflow.keras as keras\n",
    "from tensorflow.keras import layers\n",
    "from tensorflow.keras import regularizers\n",
    "from tensorflow.keras.layers import Concatenate, Add, ReLU, BatchNormalization\n",
    "from tensorflow.keras.layers import Conv2D, DepthwiseConv2D\n",
    "from tensorflow.keras.layers import GlobalAveragePooling2D, Reshape\n",
    "from tensorflow.keras.layers import Permute"
   ]
  },
  {
   "cell_type": "code",
   "execution_count": 2,
   "metadata": {
    "colab": {
     "base_uri": "https://localhost:8080/"
    },
    "execution": {
     "iopub.execute_input": "2024-01-02T17:06:51.402543Z",
     "iopub.status.busy": "2024-01-02T17:06:51.401988Z",
     "iopub.status.idle": "2024-01-02T17:07:18.298857Z",
     "shell.execute_reply": "2024-01-02T17:07:18.298076Z",
     "shell.execute_reply.started": "2024-01-02T17:06:51.402513Z"
    },
    "id": "hzduHCuFv6BJ",
    "outputId": "63d4b043-fc1e-47d2-ea2b-8e9225aedd1b",
    "tags": []
   },
   "outputs": [
    {
     "name": "stdout",
     "output_type": "stream",
     "text": [
      "getValidation\n"
     ]
    },
    {
     "name": "stderr",
     "output_type": "stream",
     "text": [
      "r.shape = (30000, 19, 19, 31)\n",
      "nbExamples = 30000\n",
      "nbPositionsSGF = 29425326\n",
      "nbPositionsSGF = 29425326\n",
      "loading validation.data\n"
     ]
    }
   ],
   "source": [
    "planes = 31\n",
    "moves = 361\n",
    "N = 30000\n",
    "epochs = 100\n",
    "\n",
    "input_data = np.random.randint(2, size=(N, 19, 19, planes))\n",
    "input_data = input_data.astype('float32')\n",
    "\n",
    "policy = np.random.randint(moves, size=(N,))\n",
    "policy = keras.utils.to_categorical(policy)\n",
    "\n",
    "value = np.random.randint(2, size=(N,))\n",
    "value = value.astype('float32')\n",
    "\n",
    "end = np.random.randint(2, size=(N, 19, 19, 2))\n",
    "end = end.astype('float32')\n",
    "\n",
    "groups = np.zeros((N, 19, 19, 1))\n",
    "groups = groups.astype('float32')\n",
    "\n",
    "policy = np.random.randint(moves, size=(N,))\n",
    "policy = keras.utils.to_categorical(policy)\n",
    "\n",
    "print(\"getValidation\", flush=True)\n",
    "golois.getValidation(input_data, policy, value, end)\n",
    "\n",
    "input = keras.Input(shape=(19, 19, planes), name='board')"
   ]
  },
  {
   "cell_type": "markdown",
   "metadata": {
    "id": "gSWveLpch0GB"
   },
   "source": [
    "## 1. Mobile network\n",
    "\n",
    "\n",
    "Entrainons un modèle MobileNet et notons ces performances."
   ]
  },
  {
   "cell_type": "code",
   "execution_count": null,
   "metadata": {
    "id": "ahh_Jb4e-zjP"
   },
   "outputs": [],
   "source": [
    "batch = 1024\n",
    "filters = 32\n",
    "\n",
    "\n",
    "def bottleneck_block(x, expand=6 * filters, squeeze=filters):\n",
    "    m = layers.Conv2D(expand, (1, 1))(x)\n",
    "    m = layers.BatchNormalization()(m)\n",
    "    m = layers.Activation('relu')(m)\n",
    "    m = layers.DepthwiseConv2D((3, 3), padding='same')(m)\n",
    "    m = layers.BatchNormalization()(m)\n",
    "    m = layers.Activation('relu')(m)\n",
    "    m = layers.Conv2D(squeeze, (1, 1))(m)\n",
    "    m = layers.BatchNormalization()(m)\n",
    "    return layers.Add()([m, x])"
   ]
  },
  {
   "cell_type": "code",
   "execution_count": null,
   "metadata": {
    "id": "tmtgJgIy-5go"
   },
   "outputs": [],
   "source": [
    "x = layers.Conv2D(filters, 1, activation='relu', padding='same')(input)\n",
    "\n",
    "for i in range(5):\n",
    "    x = bottleneck_block(x)\n",
    "\n",
    "policy_head = layers.Conv2D(1, 1, activation='relu', padding='same', kernel_regularizer=regularizers.l2(0.001))(x)\n",
    "policy_head = layers.Flatten()(policy_head)\n",
    "policy_head = layers.Activation('softmax', name='policy')(policy_head)\n",
    "\n",
    "value_head = layers.Conv2D(1, 1, activation='relu', padding='same')(x)\n",
    "value_head = layers.Flatten()(value_head)\n",
    "value_head = layers.Dense(50, activation='relu')(value_head)\n",
    "value_head = layers.Dense(1, activation='sigmoid', name='value')(value_head)\n",
    "\n",
    "model = keras.Model(inputs=input, outputs=[policy_head, value_head])\n",
    "\n",
    "#model.summary()"
   ]
  },
  {
   "cell_type": "code",
   "execution_count": null,
   "metadata": {
    "colab": {
     "background_save": true,
     "base_uri": "https://localhost:8080/"
    },
    "id": "nzlcNGSanVZu",
    "outputId": "f7f64370-0ff4-4240-f60b-d6fbafa67b8e"
   },
   "outputs": [
    {
     "name": "stdout",
     "output_type": "stream",
     "text": [
      "epoch 1\n",
      "24/24 [==============================] - 28s 637ms/step - loss: 18.4779 - policy_loss: 5.7074 - value_loss: 1.4188 - policy_categorical_accuracy: 0.0242 - value_mse: 0.1459 - val_loss: 12.0692 - val_policy_loss: 5.8271 - val_value_loss: 0.6935 - val_policy_categorical_accuracy: 0.0193 - val_value_mse: 0.1209\n",
      "epoch 2\n",
      "24/24 [==============================] - 14s 566ms/step - loss: 10.6655 - policy_loss: 4.4364 - value_loss: 0.6920 - policy_categorical_accuracy: 0.1166 - value_mse: 0.1182 - val_loss: 11.9463 - val_policy_loss: 5.7050 - val_value_loss: 0.6934 - val_policy_categorical_accuracy: 0.0565 - val_value_mse: 0.1218\n",
      "epoch 3\n",
      "24/24 [==============================] - 14s 575ms/step - loss: 10.1038 - policy_loss: 3.8778 - value_loss: 0.6917 - policy_categorical_accuracy: 0.1812 - value_mse: 0.1189 - val_loss: 11.8823 - val_policy_loss: 5.6420 - val_value_loss: 0.6933 - val_policy_categorical_accuracy: 0.0632 - val_value_mse: 0.1203\n",
      "epoch 4\n",
      "24/24 [==============================] - 13s 555ms/step - loss: 9.8450 - policy_loss: 3.6136 - value_loss: 0.6923 - policy_categorical_accuracy: 0.2225 - value_mse: 0.1188 - val_loss: 11.8439 - val_policy_loss: 5.6054 - val_value_loss: 0.6931 - val_policy_categorical_accuracy: 0.0493 - val_value_mse: 0.1178\n",
      "epoch 5\n",
      "24/24 [==============================] - 14s 570ms/step - loss: 9.6862 - policy_loss: 3.4640 - value_loss: 0.6913 - policy_categorical_accuracy: 0.2441 - value_mse: 0.1179 - val_loss: 11.7818 - val_policy_loss: 5.5424 - val_value_loss: 0.6932 - val_policy_categorical_accuracy: 0.0420 - val_value_mse: 0.1196\n",
      "epoch 6\n",
      "24/24 [==============================] - 13s 550ms/step - loss: 9.5297 - policy_loss: 3.3231 - value_loss: 0.6895 - policy_categorical_accuracy: 0.2643 - value_mse: 0.1174 - val_loss: 11.6775 - val_policy_loss: 5.4356 - val_value_loss: 0.6934 - val_policy_categorical_accuracy: 0.0592 - val_value_mse: 0.1218\n",
      "epoch 7\n",
      "24/24 [==============================] - 13s 558ms/step - loss: 9.3921 - policy_loss: 3.1997 - value_loss: 0.6879 - policy_categorical_accuracy: 0.2764 - value_mse: 0.1174 - val_loss: 11.5762 - val_policy_loss: 5.3331 - val_value_loss: 0.6936 - val_policy_categorical_accuracy: 0.0705 - val_value_mse: 0.1192\n",
      "epoch 8\n",
      "24/24 [==============================] - 13s 555ms/step - loss: 9.3650 - policy_loss: 3.1694 - value_loss: 0.6883 - policy_categorical_accuracy: 0.2859 - value_mse: 0.1168 - val_loss: 11.4491 - val_policy_loss: 5.2045 - val_value_loss: 0.6938 - val_policy_categorical_accuracy: 0.0813 - val_value_mse: 0.1191\n",
      "epoch 9\n",
      "24/24 [==============================] - 13s 554ms/step - loss: 9.2596 - policy_loss: 3.0686 - value_loss: 0.6878 - policy_categorical_accuracy: 0.3007 - value_mse: 0.1173 - val_loss: 11.2683 - val_policy_loss: 5.0278 - val_value_loss: 0.6933 - val_policy_categorical_accuracy: 0.0785 - val_value_mse: 0.1184\n",
      "epoch 10\n",
      "24/24 [==============================] - 13s 557ms/step - loss: 9.2140 - policy_loss: 3.0366 - value_loss: 0.6863 - policy_categorical_accuracy: 0.3028 - value_mse: 0.1156 - val_loss: 11.0399 - val_policy_loss: 4.7939 - val_value_loss: 0.6939 - val_policy_categorical_accuracy: 0.1028 - val_value_mse: 0.1185\n",
      "epoch 11\n",
      "24/24 [==============================] - 14s 582ms/step - loss: 9.2142 - policy_loss: 3.0295 - value_loss: 0.6871 - policy_categorical_accuracy: 0.3030 - value_mse: 0.1162 - val_loss: 10.8505 - val_policy_loss: 4.5986 - val_value_loss: 0.6946 - val_policy_categorical_accuracy: 0.1228 - val_value_mse: 0.1182\n",
      "epoch 12\n",
      "24/24 [==============================] - 13s 546ms/step - loss: 9.1621 - policy_loss: 2.9875 - value_loss: 0.6860 - policy_categorical_accuracy: 0.3130 - value_mse: 0.1170 - val_loss: 10.5854 - val_policy_loss: 4.3425 - val_value_loss: 0.6936 - val_policy_categorical_accuracy: 0.1432 - val_value_mse: 0.1201\n",
      "epoch 13\n",
      "24/24 [==============================] - 14s 570ms/step - loss: 9.1773 - policy_loss: 2.9914 - value_loss: 0.6872 - policy_categorical_accuracy: 0.3085 - value_mse: 0.1154 - val_loss: 10.4112 - val_policy_loss: 4.1759 - val_value_loss: 0.6927 - val_policy_categorical_accuracy: 0.1658 - val_value_mse: 0.1188\n",
      "epoch 14\n",
      "24/24 [==============================] - 13s 555ms/step - loss: 9.0863 - policy_loss: 2.9073 - value_loss: 0.6865 - policy_categorical_accuracy: 0.3227 - value_mse: 0.1163 - val_loss: 10.1334 - val_policy_loss: 3.8996 - val_value_loss: 0.6926 - val_policy_categorical_accuracy: 0.2013 - val_value_mse: 0.1200\n",
      "epoch 15\n",
      "24/24 [==============================] - 14s 574ms/step - loss: 9.0733 - policy_loss: 2.9073 - value_loss: 0.6850 - policy_categorical_accuracy: 0.3218 - value_mse: 0.1157 - val_loss: 9.8257 - val_policy_loss: 3.6049 - val_value_loss: 0.6911 - val_policy_categorical_accuracy: 0.2383 - val_value_mse: 0.1192\n",
      "epoch 16\n",
      "24/24 [==============================] - 13s 551ms/step - loss: 9.0779 - policy_loss: 2.8983 - value_loss: 0.6865 - policy_categorical_accuracy: 0.3226 - value_mse: 0.1172 - val_loss: 9.8399 - val_policy_loss: 3.6204 - val_value_loss: 0.6910 - val_policy_categorical_accuracy: 0.2337 - val_value_mse: 0.1206\n",
      "epoch 17\n",
      "24/24 [==============================] - 13s 555ms/step - loss: 9.0539 - policy_loss: 2.8907 - value_loss: 0.6847 - policy_categorical_accuracy: 0.3213 - value_mse: 0.1150 - val_loss: 9.5767 - val_policy_loss: 3.3919 - val_value_loss: 0.6871 - val_policy_categorical_accuracy: 0.2608 - val_value_mse: 0.1172\n",
      "epoch 18\n",
      "24/24 [==============================] - 13s 551ms/step - loss: 9.0272 - policy_loss: 2.8737 - value_loss: 0.6836 - policy_categorical_accuracy: 0.3300 - value_mse: 0.1145 - val_loss: 9.4548 - val_policy_loss: 3.2739 - val_value_loss: 0.6867 - val_policy_categorical_accuracy: 0.2643 - val_value_mse: 0.1179\n",
      "epoch 19\n",
      "24/24 [==============================] - 13s 541ms/step - loss: 9.0596 - policy_loss: 2.8918 - value_loss: 0.6852 - policy_categorical_accuracy: 0.3260 - value_mse: 0.1169 - val_loss: 9.2834 - val_policy_loss: 3.1024 - val_value_loss: 0.6867 - val_policy_categorical_accuracy: 0.2955 - val_value_mse: 0.1161\n",
      "epoch 20\n",
      "24/24 [==============================] - 14s 570ms/step - loss: 8.9826 - policy_loss: 2.8399 - value_loss: 0.6824 - policy_categorical_accuracy: 0.3305 - value_mse: 0.1145 - val_loss: 9.4020 - val_policy_loss: 3.1920 - val_value_loss: 0.6899 - val_policy_categorical_accuracy: 0.2755 - val_value_mse: 0.1190\n",
      "epoch 21\n",
      "24/24 [==============================] - 14s 572ms/step - loss: 8.9570 - policy_loss: 2.8148 - value_loss: 0.6824 - policy_categorical_accuracy: 0.3344 - value_mse: 0.1140 - val_loss: 9.1555 - val_policy_loss: 3.0042 - val_value_loss: 0.6834 - val_policy_categorical_accuracy: 0.3028 - val_value_mse: 0.1157\n",
      "epoch 22\n",
      "24/24 [==============================] - 13s 548ms/step - loss: 8.9588 - policy_loss: 2.8343 - value_loss: 0.6804 - policy_categorical_accuracy: 0.3330 - value_mse: 0.1122 - val_loss: 9.1748 - val_policy_loss: 3.0063 - val_value_loss: 0.6853 - val_policy_categorical_accuracy: 0.3088 - val_value_mse: 0.1168\n",
      "epoch 23\n",
      "24/24 [==============================] - 14s 567ms/step - loss: 8.9485 - policy_loss: 2.8293 - value_loss: 0.6798 - policy_categorical_accuracy: 0.3346 - value_mse: 0.1133 - val_loss: 9.2015 - val_policy_loss: 3.0179 - val_value_loss: 0.6870 - val_policy_categorical_accuracy: 0.3057 - val_value_mse: 0.1170\n",
      "epoch 24\n",
      "24/24 [==============================] - 14s 570ms/step - loss: 8.9073 - policy_loss: 2.8076 - value_loss: 0.6777 - policy_categorical_accuracy: 0.3372 - value_mse: 0.1109 - val_loss: 9.0927 - val_policy_loss: 2.9722 - val_value_loss: 0.6800 - val_policy_categorical_accuracy: 0.3053 - val_value_mse: 0.1114\n",
      "epoch 25\n",
      "24/24 [==============================] - 14s 568ms/step - loss: 8.9070 - policy_loss: 2.8157 - value_loss: 0.6767 - policy_categorical_accuracy: 0.3333 - value_mse: 0.1107 - val_loss: 10.0082 - val_policy_loss: 3.0191 - val_value_loss: 0.7765 - val_policy_categorical_accuracy: 0.2993 - val_value_mse: 0.1509\n",
      "epoch 26\n",
      "24/24 [==============================] - 14s 572ms/step - loss: 8.8691 - policy_loss: 2.7842 - value_loss: 0.6760 - policy_categorical_accuracy: 0.3388 - value_mse: 0.1113 - val_loss: 9.3532 - val_policy_loss: 3.0565 - val_value_loss: 0.6995 - val_policy_categorical_accuracy: 0.2885 - val_value_mse: 0.1213\n",
      "epoch 27\n",
      "24/24 [==============================] - 13s 556ms/step - loss: 8.8759 - policy_loss: 2.7889 - value_loss: 0.6763 - policy_categorical_accuracy: 0.3363 - value_mse: 0.1108 - val_loss: 10.0063 - val_policy_loss: 3.0413 - val_value_loss: 0.7738 - val_policy_categorical_accuracy: 0.2978 - val_value_mse: 0.1473\n",
      "epoch 28\n",
      "24/24 [==============================] - 14s 574ms/step - loss: 8.8596 - policy_loss: 2.7754 - value_loss: 0.6759 - policy_categorical_accuracy: 0.3397 - value_mse: 0.1104 - val_loss: 9.5456 - val_policy_loss: 3.0026 - val_value_loss: 0.7269 - val_policy_categorical_accuracy: 0.3133 - val_value_mse: 0.1324\n",
      "epoch 29\n",
      "24/24 [==============================] - 14s 570ms/step - loss: 8.7914 - policy_loss: 2.7521 - value_loss: 0.6710 - policy_categorical_accuracy: 0.3439 - value_mse: 0.1098 - val_loss: 9.9924 - val_policy_loss: 3.0611 - val_value_loss: 0.7701 - val_policy_categorical_accuracy: 0.2965 - val_value_mse: 0.1448\n",
      "epoch 30\n",
      "24/24 [==============================] - 14s 573ms/step - loss: 8.8202 - policy_loss: 2.7785 - value_loss: 0.6712 - policy_categorical_accuracy: 0.3410 - value_mse: 0.1099 - val_loss: 9.3271 - val_policy_loss: 3.0815 - val_value_loss: 0.6939 - val_policy_categorical_accuracy: 0.2838 - val_value_mse: 0.1184\n",
      "epoch 31\n",
      "24/24 [==============================] - 13s 555ms/step - loss: 8.7876 - policy_loss: 2.7607 - value_loss: 0.6696 - policy_categorical_accuracy: 0.3405 - value_mse: 0.1088 - val_loss: 9.5131 - val_policy_loss: 3.1070 - val_value_loss: 0.7117 - val_policy_categorical_accuracy: 0.2830 - val_value_mse: 0.1252\n",
      "epoch 32\n",
      "24/24 [==============================] - 13s 552ms/step - loss: 8.7993 - policy_loss: 2.7492 - value_loss: 0.6722 - policy_categorical_accuracy: 0.3416 - value_mse: 0.1100 - val_loss: 9.5266 - val_policy_loss: 3.1765 - val_value_loss: 0.7055 - val_policy_categorical_accuracy: 0.2688 - val_value_mse: 0.1238\n",
      "epoch 33\n",
      "24/24 [==============================] - 14s 570ms/step - loss: 8.7632 - policy_loss: 2.7441 - value_loss: 0.6687 - policy_categorical_accuracy: 0.3420 - value_mse: 0.1081 - val_loss: 9.9756 - val_policy_loss: 3.0594 - val_value_loss: 0.7684 - val_policy_categorical_accuracy: 0.2995 - val_value_mse: 0.1361\n",
      "epoch 34\n",
      "24/24 [==============================] - 13s 547ms/step - loss: 8.7466 - policy_loss: 2.7308 - value_loss: 0.6683 - policy_categorical_accuracy: 0.3431 - value_mse: 0.1072 - val_loss: 9.0484 - val_policy_loss: 2.8844 - val_value_loss: 0.6848 - val_policy_categorical_accuracy: 0.3273 - val_value_mse: 0.1149\n",
      "epoch 35\n",
      "24/24 [==============================] - 14s 569ms/step - loss: 8.7628 - policy_loss: 2.7376 - value_loss: 0.6694 - policy_categorical_accuracy: 0.3426 - value_mse: 0.1082 - val_loss: 8.9780 - val_policy_loss: 2.8744 - val_value_loss: 0.6781 - val_policy_categorical_accuracy: 0.3302 - val_value_mse: 0.1137\n",
      "epoch 36\n",
      "24/24 [==============================] - 13s 554ms/step - loss: 8.7317 - policy_loss: 2.7357 - value_loss: 0.6661 - policy_categorical_accuracy: 0.3423 - value_mse: 0.1073 - val_loss: 10.3009 - val_policy_loss: 2.8613 - val_value_loss: 0.8265 - val_policy_categorical_accuracy: 0.3355 - val_value_mse: 0.1525\n",
      "epoch 37\n",
      "24/24 [==============================] - 14s 575ms/step - loss: 8.7346 - policy_loss: 2.7218 - value_loss: 0.6680 - policy_categorical_accuracy: 0.3425 - value_mse: 0.1067 - val_loss: 8.9577 - val_policy_loss: 2.8538 - val_value_loss: 0.6781 - val_policy_categorical_accuracy: 0.3252 - val_value_mse: 0.1133\n",
      "epoch 38\n",
      "24/24 [==============================] - 13s 555ms/step - loss: 8.6961 - policy_loss: 2.6998 - value_loss: 0.6662 - policy_categorical_accuracy: 0.3515 - value_mse: 0.1061 - val_loss: 9.1797 - val_policy_loss: 3.0005 - val_value_loss: 0.6865 - val_policy_categorical_accuracy: 0.3143 - val_value_mse: 0.1159\n",
      "epoch 39\n",
      "24/24 [==============================] - 14s 573ms/step - loss: 8.7146 - policy_loss: 2.7226 - value_loss: 0.6657 - policy_categorical_accuracy: 0.3475 - value_mse: 0.1066 - val_loss: 8.8001 - val_policy_loss: 2.8162 - val_value_loss: 0.6648 - val_policy_categorical_accuracy: 0.3225 - val_value_mse: 0.1018\n",
      "epoch 40\n",
      "24/24 [==============================] - 13s 549ms/step - loss: 8.7158 - policy_loss: 2.7059 - value_loss: 0.6677 - policy_categorical_accuracy: 0.3492 - value_mse: 0.1070 - val_loss: 8.8214 - val_policy_loss: 2.8094 - val_value_loss: 0.6679 - val_policy_categorical_accuracy: 0.3420 - val_value_mse: 0.1054\n",
      "epoch 41\n",
      "24/24 [==============================] - 13s 548ms/step - loss: 8.6583 - policy_loss: 2.6986 - value_loss: 0.6621 - policy_categorical_accuracy: 0.3496 - value_mse: 0.1048 - val_loss: 8.9057 - val_policy_loss: 2.8282 - val_value_loss: 0.6752 - val_policy_categorical_accuracy: 0.3300 - val_value_mse: 0.1129\n",
      "epoch 42\n",
      "24/24 [==============================] - 13s 544ms/step - loss: 8.6692 - policy_loss: 2.6843 - value_loss: 0.6649 - policy_categorical_accuracy: 0.3493 - value_mse: 0.1064 - val_loss: 9.1478 - val_policy_loss: 2.7871 - val_value_loss: 0.7067 - val_policy_categorical_accuracy: 0.3442 - val_value_mse: 0.1228\n",
      "epoch 43\n",
      "24/24 [==============================] - 13s 547ms/step - loss: 8.6478 - policy_loss: 2.6762 - value_loss: 0.6634 - policy_categorical_accuracy: 0.3535 - value_mse: 0.1061 - val_loss: 9.2328 - val_policy_loss: 2.8999 - val_value_loss: 0.7036 - val_policy_categorical_accuracy: 0.3280 - val_value_mse: 0.1195\n",
      "epoch 44\n",
      "24/24 [==============================] - 13s 549ms/step - loss: 8.6490 - policy_loss: 2.6887 - value_loss: 0.6622 - policy_categorical_accuracy: 0.3519 - value_mse: 0.1047 - val_loss: 9.4295 - val_policy_loss: 2.8881 - val_value_loss: 0.7267 - val_policy_categorical_accuracy: 0.3228 - val_value_mse: 0.1277\n",
      "epoch 45\n",
      "24/24 [==============================] - 14s 566ms/step - loss: 8.6208 - policy_loss: 2.6701 - value_loss: 0.6611 - policy_categorical_accuracy: 0.3558 - value_mse: 0.1035 - val_loss: 8.8471 - val_policy_loss: 2.8872 - val_value_loss: 0.6621 - val_policy_categorical_accuracy: 0.3383 - val_value_mse: 0.1024\n",
      "epoch 46\n",
      "24/24 [==============================] - 14s 575ms/step - loss: 8.6259 - policy_loss: 2.6677 - value_loss: 0.6619 - policy_categorical_accuracy: 0.3559 - value_mse: 0.1047 - val_loss: 8.9004 - val_policy_loss: 2.8679 - val_value_loss: 0.6702 - val_policy_categorical_accuracy: 0.3402 - val_value_mse: 0.1081\n",
      "epoch 47\n",
      "24/24 [==============================] - 13s 556ms/step - loss: 8.6292 - policy_loss: 2.6693 - value_loss: 0.6621 - policy_categorical_accuracy: 0.3535 - value_mse: 0.1060 - val_loss: 9.0419 - val_policy_loss: 2.9812 - val_value_loss: 0.6733 - val_policy_categorical_accuracy: 0.3207 - val_value_mse: 0.1095\n",
      "epoch 48\n",
      "24/24 [==============================] - 14s 570ms/step - loss: 8.6142 - policy_loss: 2.6560 - value_loss: 0.6619 - policy_categorical_accuracy: 0.3577 - value_mse: 0.1051 - val_loss: 9.9814 - val_policy_loss: 3.0919 - val_value_loss: 0.7654 - val_policy_categorical_accuracy: 0.2948 - val_value_mse: 0.1437\n",
      "epoch 49\n",
      "24/24 [==============================] - 13s 551ms/step - loss: 8.5982 - policy_loss: 2.6540 - value_loss: 0.6604 - policy_categorical_accuracy: 0.3576 - value_mse: 0.1042 - val_loss: 8.9197 - val_policy_loss: 2.8103 - val_value_loss: 0.6788 - val_policy_categorical_accuracy: 0.3362 - val_value_mse: 0.1131\n",
      "epoch 50\n",
      "24/24 [==============================] - 13s 557ms/step - loss: 8.6236 - policy_loss: 2.6802 - value_loss: 0.6603 - policy_categorical_accuracy: 0.3568 - value_mse: 0.1038 - val_loss: 8.7160 - val_policy_loss: 2.7280 - val_value_loss: 0.6653 - val_policy_categorical_accuracy: 0.3478 - val_value_mse: 0.1060\n",
      "epoch 51\n",
      "24/24 [==============================] - 14s 570ms/step - loss: 8.5800 - policy_loss: 2.6500 - value_loss: 0.6588 - policy_categorical_accuracy: 0.3570 - value_mse: 0.1038 - val_loss: 9.2670 - val_policy_loss: 2.7988 - val_value_loss: 0.7186 - val_policy_categorical_accuracy: 0.3345 - val_value_mse: 0.1265\n",
      "epoch 52\n",
      "24/24 [==============================] - 14s 571ms/step - loss: 8.5779 - policy_loss: 2.6455 - value_loss: 0.6591 - policy_categorical_accuracy: 0.3577 - value_mse: 0.1040 - val_loss: 9.2296 - val_policy_loss: 2.7754 - val_value_loss: 0.7171 - val_policy_categorical_accuracy: 0.3425 - val_value_mse: 0.1273\n",
      "epoch 53\n",
      "24/24 [==============================] - 14s 570ms/step - loss: 8.6000 - policy_loss: 2.6478 - value_loss: 0.6613 - policy_categorical_accuracy: 0.3598 - value_mse: 0.1048 - val_loss: 8.7815 - val_policy_loss: 2.7708 - val_value_loss: 0.6678 - val_policy_categorical_accuracy: 0.3478 - val_value_mse: 0.1059\n",
      "epoch 54\n",
      "24/24 [==============================] - 14s 568ms/step - loss: 8.5536 - policy_loss: 2.6314 - value_loss: 0.6579 - policy_categorical_accuracy: 0.3625 - value_mse: 0.1036 - val_loss: 8.9473 - val_policy_loss: 2.7556 - val_value_loss: 0.6879 - val_policy_categorical_accuracy: 0.3395 - val_value_mse: 0.1134\n",
      "epoch 55\n",
      "24/24 [==============================] - 13s 545ms/step - loss: 8.5371 - policy_loss: 2.6101 - value_loss: 0.6585 - policy_categorical_accuracy: 0.3629 - value_mse: 0.1034 - val_loss: 8.6873 - val_policy_loss: 2.7849 - val_value_loss: 0.6557 - val_policy_categorical_accuracy: 0.3428 - val_value_mse: 0.1017\n",
      "epoch 56\n",
      "24/24 [==============================] - 14s 572ms/step - loss: 8.5749 - policy_loss: 2.6551 - value_loss: 0.6577 - policy_categorical_accuracy: 0.3564 - value_mse: 0.1024 - val_loss: 9.1745 - val_policy_loss: 2.8558 - val_value_loss: 0.7020 - val_policy_categorical_accuracy: 0.3302 - val_value_mse: 0.1191\n",
      "epoch 57\n",
      "24/24 [==============================] - 14s 569ms/step - loss: 8.5534 - policy_loss: 2.6235 - value_loss: 0.6588 - policy_categorical_accuracy: 0.3593 - value_mse: 0.1036 - val_loss: 9.2244 - val_policy_loss: 2.9125 - val_value_loss: 0.7012 - val_policy_categorical_accuracy: 0.3228 - val_value_mse: 0.1164\n",
      "epoch 58\n",
      "24/24 [==============================] - 13s 552ms/step - loss: 8.5217 - policy_loss: 2.5900 - value_loss: 0.6590 - policy_categorical_accuracy: 0.3661 - value_mse: 0.1041 - val_loss: 8.9022 - val_policy_loss: 2.9870 - val_value_loss: 0.6572 - val_policy_categorical_accuracy: 0.3210 - val_value_mse: 0.1032\n",
      "epoch 59\n",
      "24/24 [==============================] - 14s 571ms/step - loss: 8.5680 - policy_loss: 2.6548 - value_loss: 0.6569 - policy_categorical_accuracy: 0.3537 - value_mse: 0.1019 - val_loss: 8.8293 - val_policy_loss: 2.8143 - val_value_loss: 0.6682 - val_policy_categorical_accuracy: 0.3398 - val_value_mse: 0.1082\n",
      "epoch 60\n",
      "24/24 [==============================] - 14s 568ms/step - loss: 8.5428 - policy_loss: 2.6316 - value_loss: 0.6567 - policy_categorical_accuracy: 0.3595 - value_mse: 0.1030 - val_loss: 9.4119 - val_policy_loss: 2.7853 - val_value_loss: 0.7362 - val_policy_categorical_accuracy: 0.3327 - val_value_mse: 0.1326\n",
      "epoch 61\n",
      "24/24 [==============================] - 14s 568ms/step - loss: 8.5483 - policy_loss: 2.6192 - value_loss: 0.6587 - policy_categorical_accuracy: 0.3627 - value_mse: 0.1035 - val_loss: 9.0487 - val_policy_loss: 2.7394 - val_value_loss: 0.7009 - val_policy_categorical_accuracy: 0.3460 - val_value_mse: 0.1222\n",
      "epoch 62\n",
      "24/24 [==============================] - 13s 546ms/step - loss: 8.5450 - policy_loss: 2.6269 - value_loss: 0.6575 - policy_categorical_accuracy: 0.3583 - value_mse: 0.1031 - val_loss: 9.4314 - val_policy_loss: 2.7700 - val_value_loss: 0.7401 - val_policy_categorical_accuracy: 0.3455 - val_value_mse: 0.1348\n",
      "epoch 63\n",
      "24/24 [==============================] - 13s 549ms/step - loss: 8.5152 - policy_loss: 2.6140 - value_loss: 0.6556 - policy_categorical_accuracy: 0.3635 - value_mse: 0.1035 - val_loss: 8.8019 - val_policy_loss: 2.7990 - val_value_loss: 0.6669 - val_policy_categorical_accuracy: 0.3320 - val_value_mse: 0.1065\n",
      "epoch 64\n",
      "24/24 [==============================] - 13s 543ms/step - loss: 8.5248 - policy_loss: 2.6118 - value_loss: 0.6569 - policy_categorical_accuracy: 0.3617 - value_mse: 0.1020 - val_loss: 8.9855 - val_policy_loss: 2.7962 - val_value_loss: 0.6876 - val_policy_categorical_accuracy: 0.3327 - val_value_mse: 0.1167\n",
      "epoch 65\n",
      "24/24 [==============================] - 13s 550ms/step - loss: 8.5397 - policy_loss: 2.5925 - value_loss: 0.6607 - policy_categorical_accuracy: 0.3671 - value_mse: 0.1038 - val_loss: 9.2081 - val_policy_loss: 2.7663 - val_value_loss: 0.7157 - val_policy_categorical_accuracy: 0.3383 - val_value_mse: 0.1239\n",
      "epoch 66\n",
      "24/24 [==============================] - 14s 568ms/step - loss: 8.5224 - policy_loss: 2.6136 - value_loss: 0.6564 - policy_categorical_accuracy: 0.3578 - value_mse: 0.1025 - val_loss: 9.4696 - val_policy_loss: 2.7928 - val_value_loss: 0.7418 - val_policy_categorical_accuracy: 0.3328 - val_value_mse: 0.1309\n",
      "epoch 67\n",
      "24/24 [==============================] - 13s 554ms/step - loss: 8.4868 - policy_loss: 2.5897 - value_loss: 0.6551 - policy_categorical_accuracy: 0.3638 - value_mse: 0.1018 - val_loss: 12.1034 - val_policy_loss: 2.8452 - val_value_loss: 1.0286 - val_policy_categorical_accuracy: 0.3307 - val_value_mse: 0.2098\n",
      "epoch 68\n",
      "24/24 [==============================] - 14s 581ms/step - loss: 8.4985 - policy_loss: 2.6158 - value_loss: 0.6535 - policy_categorical_accuracy: 0.3594 - value_mse: 0.1002 - val_loss: 10.0029 - val_policy_loss: 2.7553 - val_value_loss: 0.8052 - val_policy_categorical_accuracy: 0.3460 - val_value_mse: 0.1532\n",
      "epoch 69\n",
      "24/24 [==============================] - 13s 556ms/step - loss: 8.4935 - policy_loss: 2.6211 - value_loss: 0.6524 - policy_categorical_accuracy: 0.3636 - value_mse: 0.1010 - val_loss: 9.1271 - val_policy_loss: 2.7292 - val_value_loss: 0.7108 - val_policy_categorical_accuracy: 0.3545 - val_value_mse: 0.1257\n",
      "epoch 70\n",
      "24/24 [==============================] - 14s 569ms/step - loss: 8.4864 - policy_loss: 2.5969 - value_loss: 0.6543 - policy_categorical_accuracy: 0.3631 - value_mse: 0.1022 - val_loss: 9.6011 - val_policy_loss: 2.7163 - val_value_loss: 0.7649 - val_policy_categorical_accuracy: 0.3387 - val_value_mse: 0.1394\n",
      "epoch 71\n",
      "24/24 [==============================] - 13s 545ms/step - loss: 8.4730 - policy_loss: 2.5866 - value_loss: 0.6540 - policy_categorical_accuracy: 0.3675 - value_mse: 0.1015 - val_loss: 10.3391 - val_policy_loss: 2.7694 - val_value_loss: 0.8410 - val_policy_categorical_accuracy: 0.3380 - val_value_mse: 0.1596\n",
      "epoch 72\n",
      "24/24 [==============================] - 13s 551ms/step - loss: 8.4790 - policy_loss: 2.5722 - value_loss: 0.6562 - policy_categorical_accuracy: 0.3695 - value_mse: 0.1020 - val_loss: 14.7742 - val_policy_loss: 2.8839 - val_value_loss: 1.3211 - val_policy_categorical_accuracy: 0.3173 - val_value_mse: 0.2404\n",
      "epoch 73\n",
      "24/24 [==============================] - 14s 565ms/step - loss: 8.4673 - policy_loss: 2.5753 - value_loss: 0.6546 - policy_categorical_accuracy: 0.3648 - value_mse: 0.1020 - val_loss: 9.5672 - val_policy_loss: 2.7641 - val_value_loss: 0.7558 - val_policy_categorical_accuracy: 0.3353 - val_value_mse: 0.1372\n",
      "epoch 74\n",
      "24/24 [==============================] - 13s 543ms/step - loss: 8.4566 - policy_loss: 2.6062 - value_loss: 0.6500 - policy_categorical_accuracy: 0.3595 - value_mse: 0.0993 - val_loss: 8.9274 - val_policy_loss: 2.6671 - val_value_loss: 0.6955 - val_policy_categorical_accuracy: 0.3510 - val_value_mse: 0.1160\n",
      "epoch 75\n",
      "24/24 [==============================] - 14s 570ms/step - loss: 8.4847 - policy_loss: 2.5680 - value_loss: 0.6573 - policy_categorical_accuracy: 0.3693 - value_mse: 0.1033 - val_loss: 8.6870 - val_policy_loss: 2.6886 - val_value_loss: 0.6664 - val_policy_categorical_accuracy: 0.3530 - val_value_mse: 0.1063\n",
      "epoch 76\n",
      "24/24 [==============================] - 13s 545ms/step - loss: 8.4626 - policy_loss: 2.5888 - value_loss: 0.6526 - policy_categorical_accuracy: 0.3656 - value_mse: 0.0999 - val_loss: 9.5724 - val_policy_loss: 2.7533 - val_value_loss: 0.7576 - val_policy_categorical_accuracy: 0.3453 - val_value_mse: 0.1393\n",
      "epoch 77\n",
      "24/24 [==============================] - 13s 546ms/step - loss: 8.4695 - policy_loss: 2.5941 - value_loss: 0.6527 - policy_categorical_accuracy: 0.3668 - value_mse: 0.0997 - val_loss: 8.6737 - val_policy_loss: 2.7044 - val_value_loss: 0.6632 - val_policy_categorical_accuracy: 0.3447 - val_value_mse: 0.1048\n",
      "epoch 78\n",
      "24/24 [==============================] - 14s 571ms/step - loss: 8.4331 - policy_loss: 2.5661 - value_loss: 0.6518 - policy_categorical_accuracy: 0.3680 - value_mse: 0.0988 - val_loss: 8.7611 - val_policy_loss: 2.8187 - val_value_loss: 0.6602 - val_policy_categorical_accuracy: 0.3423 - val_value_mse: 0.1033\n",
      "epoch 79\n",
      "24/24 [==============================] - 14s 573ms/step - loss: 8.4596 - policy_loss: 2.5788 - value_loss: 0.6533 - policy_categorical_accuracy: 0.3677 - value_mse: 0.1001 - val_loss: 8.8602 - val_policy_loss: 2.8518 - val_value_loss: 0.6675 - val_policy_categorical_accuracy: 0.3427 - val_value_mse: 0.1089\n",
      "epoch 80\n",
      "24/24 [==============================] - 13s 543ms/step - loss: 8.4570 - policy_loss: 2.5833 - value_loss: 0.6525 - policy_categorical_accuracy: 0.3643 - value_mse: 0.1003 - val_loss: 8.9159 - val_policy_loss: 2.9441 - val_value_loss: 0.6635 - val_policy_categorical_accuracy: 0.3230 - val_value_mse: 0.1061\n",
      "epoch 81\n",
      "24/24 [==============================] - 14s 569ms/step - loss: 8.4435 - policy_loss: 2.5922 - value_loss: 0.6501 - policy_categorical_accuracy: 0.3625 - value_mse: 0.0994 - val_loss: 8.6747 - val_policy_loss: 2.6833 - val_value_loss: 0.6656 - val_policy_categorical_accuracy: 0.3612 - val_value_mse: 0.1070\n",
      "epoch 82\n",
      "24/24 [==============================] - 13s 546ms/step - loss: 8.4386 - policy_loss: 2.5758 - value_loss: 0.6513 - policy_categorical_accuracy: 0.3666 - value_mse: 0.0994 - val_loss: 10.7513 - val_policy_loss: 2.7926 - val_value_loss: 0.8842 - val_policy_categorical_accuracy: 0.3473 - val_value_mse: 0.1737\n",
      "epoch 83\n",
      "24/24 [==============================] - 13s 545ms/step - loss: 8.4305 - policy_loss: 2.5459 - value_loss: 0.6538 - policy_categorical_accuracy: 0.3727 - value_mse: 0.1010 - val_loss: 9.4572 - val_policy_loss: 2.8103 - val_value_loss: 0.7385 - val_policy_categorical_accuracy: 0.3338 - val_value_mse: 0.1306\n",
      "epoch 84\n",
      "24/24 [==============================] - 14s 571ms/step - loss: 8.3835 - policy_loss: 2.5588 - value_loss: 0.6471 - policy_categorical_accuracy: 0.3708 - value_mse: 0.0989 - val_loss: 8.5868 - val_policy_loss: 2.6642 - val_value_loss: 0.6580 - val_policy_categorical_accuracy: 0.3533 - val_value_mse: 0.1031\n",
      "epoch 85\n",
      "24/24 [==============================] - 13s 546ms/step - loss: 8.4316 - policy_loss: 2.5696 - value_loss: 0.6512 - policy_categorical_accuracy: 0.3647 - value_mse: 0.1007 - val_loss: 8.9544 - val_policy_loss: 2.7380 - val_value_loss: 0.6906 - val_policy_categorical_accuracy: 0.3513 - val_value_mse: 0.1153\n",
      "epoch 86\n",
      "24/24 [==============================] - 13s 554ms/step - loss: 8.4239 - policy_loss: 2.5833 - value_loss: 0.6489 - policy_categorical_accuracy: 0.3652 - value_mse: 0.0980 - val_loss: 8.6123 - val_policy_loss: 2.6901 - val_value_loss: 0.6579 - val_policy_categorical_accuracy: 0.3523 - val_value_mse: 0.1033\n",
      "epoch 87\n",
      "24/24 [==============================] - 13s 551ms/step - loss: 8.4090 - policy_loss: 2.5455 - value_loss: 0.6514 - policy_categorical_accuracy: 0.3734 - value_mse: 0.1004 - val_loss: 8.6810 - val_policy_loss: 2.6924 - val_value_loss: 0.6653 - val_policy_categorical_accuracy: 0.3495 - val_value_mse: 0.1052\n",
      "epoch 88\n",
      "24/24 [==============================] - 13s 545ms/step - loss: 8.4095 - policy_loss: 2.5575 - value_loss: 0.6501 - policy_categorical_accuracy: 0.3677 - value_mse: 0.0987 - val_loss: 9.3966 - val_policy_loss: 2.6596 - val_value_loss: 0.7485 - val_policy_categorical_accuracy: 0.3593 - val_value_mse: 0.1411\n",
      "epoch 89\n",
      "24/24 [==============================] - 13s 553ms/step - loss: 8.3787 - policy_loss: 2.5345 - value_loss: 0.6493 - policy_categorical_accuracy: 0.3734 - value_mse: 0.0990 - val_loss: 11.9233 - val_policy_loss: 2.6988 - val_value_loss: 1.0249 - val_policy_categorical_accuracy: 0.3478 - val_value_mse: 0.2052\n",
      "epoch 90\n",
      "24/24 [==============================] - 13s 548ms/step - loss: 8.4037 - policy_loss: 2.5519 - value_loss: 0.6501 - policy_categorical_accuracy: 0.3728 - value_mse: 0.0988 - val_loss: 8.6433 - val_policy_loss: 2.6072 - val_value_loss: 0.6706 - val_policy_categorical_accuracy: 0.3625 - val_value_mse: 0.1074\n",
      "epoch 91\n",
      "24/24 [==============================] - 14s 568ms/step - loss: 8.4076 - policy_loss: 2.5611 - value_loss: 0.6495 - policy_categorical_accuracy: 0.3671 - value_mse: 0.0997 - val_loss: 8.5464 - val_policy_loss: 2.6430 - val_value_loss: 0.6558 - val_policy_categorical_accuracy: 0.3637 - val_value_mse: 0.1026\n",
      "epoch 92\n",
      "24/24 [==============================] - 14s 570ms/step - loss: 8.3904 - policy_loss: 2.5480 - value_loss: 0.6491 - policy_categorical_accuracy: 0.3693 - value_mse: 0.0986 - val_loss: 8.9194 - val_policy_loss: 2.7252 - val_value_loss: 0.6882 - val_policy_categorical_accuracy: 0.3500 - val_value_mse: 0.1137\n",
      "epoch 93\n",
      "24/24 [==============================] - 13s 550ms/step - loss: 8.3635 - policy_loss: 2.5370 - value_loss: 0.6473 - policy_categorical_accuracy: 0.3755 - value_mse: 0.0982 - val_loss: 9.8115 - val_policy_loss: 2.5678 - val_value_loss: 0.8048 - val_policy_categorical_accuracy: 0.3650 - val_value_mse: 0.1498\n",
      "epoch 94\n",
      "24/24 [==============================] - 13s 548ms/step - loss: 8.4135 - policy_loss: 2.5489 - value_loss: 0.6515 - policy_categorical_accuracy: 0.3722 - value_mse: 0.0995 - val_loss: 9.2885 - val_policy_loss: 2.6721 - val_value_loss: 0.7351 - val_policy_categorical_accuracy: 0.3557 - val_value_mse: 0.1316\n",
      "epoch 95\n",
      "24/24 [==============================] - 14s 567ms/step - loss: 8.3726 - policy_loss: 2.5361 - value_loss: 0.6484 - policy_categorical_accuracy: 0.3746 - value_mse: 0.0986 - val_loss: 8.5712 - val_policy_loss: 2.6390 - val_value_loss: 0.6590 - val_policy_categorical_accuracy: 0.3580 - val_value_mse: 0.1026\n",
      "epoch 96\n",
      "24/24 [==============================] - 13s 549ms/step - loss: 8.3834 - policy_loss: 2.5489 - value_loss: 0.6482 - policy_categorical_accuracy: 0.3717 - value_mse: 0.0975 - val_loss: 8.5281 - val_policy_loss: 2.6548 - val_value_loss: 0.6525 - val_policy_categorical_accuracy: 0.3572 - val_value_mse: 0.1018\n",
      "epoch 97\n",
      "24/24 [==============================] - 13s 549ms/step - loss: 8.3988 - policy_loss: 2.5575 - value_loss: 0.6489 - policy_categorical_accuracy: 0.3730 - value_mse: 0.0992 - val_loss: 8.6571 - val_policy_loss: 2.6321 - val_value_loss: 0.6694 - val_policy_categorical_accuracy: 0.3543 - val_value_mse: 0.1077\n",
      "epoch 98\n",
      "24/24 [==============================] - 13s 553ms/step - loss: 8.3676 - policy_loss: 2.5433 - value_loss: 0.6471 - policy_categorical_accuracy: 0.3718 - value_mse: 0.0972 - val_loss: 9.3136 - val_policy_loss: 2.6597 - val_value_loss: 0.7392 - val_policy_categorical_accuracy: 0.3650 - val_value_mse: 0.1285\n",
      "epoch 99\n",
      "24/24 [==============================] - 14s 570ms/step - loss: 8.4170 - policy_loss: 2.5499 - value_loss: 0.6518 - policy_categorical_accuracy: 0.3700 - value_mse: 0.1007 - val_loss: 8.9825 - val_policy_loss: 2.6402 - val_value_loss: 0.7046 - val_policy_categorical_accuracy: 0.3613 - val_value_mse: 0.1199\n",
      "epoch 100\n",
      "24/24 [==============================] - 14s 571ms/step - loss: 8.4196 - policy_loss: 2.5595 - value_loss: 0.6510 - policy_categorical_accuracy: 0.3688 - value_mse: 0.1001 - val_loss: 8.9547 - val_policy_loss: 2.6982 - val_value_loss: 0.6951 - val_policy_categorical_accuracy: 0.3620 - val_value_mse: 0.1188\n",
      "30/30 [==============================] - 5s 140ms/step - loss: 8.9641 - policy_loss: 2.7322 - value_loss: 0.6923 - policy_categorical_accuracy: 0.3564 - value_mse: 0.1165\n",
      "val = [8.964095115661621, 2.7321743965148926, 0.6923498511314392, 0.35643333196640015, 0.11650634557008743]\n"
     ]
    },
    {
     "name": "stderr",
     "output_type": "stream",
     "text": [
      "/usr/local/lib/python3.10/dist-packages/keras/src/engine/training.py:3103: UserWarning: You are saving your model as an HDF5 file via `model.save()`. This file format is considered legacy. We recommend using instead the native Keras format, e.g. `model.save('my_model.keras')`.\n",
      "  saving_api.save_model(\n"
     ]
    }
   ],
   "source": [
    "model.compile(optimizer=keras.optimizers.Adam(learning_rate=0.01),\n",
    "              loss={'policy': 'categorical_crossentropy', 'value': 'binary_crossentropy'},\n",
    "              loss_weights={'policy': 1.0, 'value': 9.0},\n",
    "              metrics={'policy': 'categorical_accuracy', 'value': 'mse'})\n",
    "\n",
    "# Sauvegarde de l'historique\n",
    "csv_logger = tf.keras.callbacks.CSVLogger('./history_mobileNet_Edy_Diehl_TCHEUTCHOA_DEFFO.csv', append=True)\n",
    "\n",
    "early_stopping = tf.keras.callbacks.EarlyStopping(\n",
    "    min_delta=0.001,  # minimium amount of change to count as an improvement\n",
    "    patience=5,  # how many epochs to wait before stopping\n",
    "    restore_best_weights=True,\n",
    ")\n",
    "\n",
    "for i in range(1, epochs + 1):\n",
    "    print('epoch ' + str(i))\n",
    "    golois.getBatch(input_data, policy, value, end, groups, i * N)\n",
    "    history = model.fit(input_data,\n",
    "                        {'policy': policy, 'value': value},\n",
    "                        validation_split=0.2,\n",
    "                        epochs=1, batch_size=batch, verbose=1, callbacks=[csv_logger, early_stopping])\n",
    "\n",
    "    if (i % 2 == 0):\n",
    "        gc.collect()\n",
    "    if (i % 100 == 0):\n",
    "        golois.getValidation(input_data, policy, value, end)\n",
    "        val = model.evaluate(input_data, [policy, value], verbose=1, batch_size=batch)\n",
    "        print(\"val =\", val)\n",
    "        model.save('./mobileNet_Edy_Diehl_TCHEUTCHOA_DEFFO.h5')"
   ]
  },
  {
   "cell_type": "markdown",
   "source": [
    "Pour les données de test, nous obtenons un modèle MobileNet avec une Accuracy de 0.3564 pour la Policy et un MSE de 0.1165 pour la Value."
   ],
   "metadata": {
    "collapsed": false
   }
  },
  {
   "cell_type": "code",
   "execution_count": 16,
   "metadata": {
    "colab": {
     "base_uri": "https://localhost:8080/"
    },
    "id": "YL1tB2srISE6",
    "outputId": "ee0984e6-d885-4abb-cc96-4a1bd0493c62"
   },
   "outputs": [
    {
     "data": {
      "text/plain": [
       "Index(['epoch', 'loss', 'policy_categorical_accuracy', 'policy_loss',\n",
       "       'val_loss', 'val_policy_categorical_accuracy', 'val_policy_loss',\n",
       "       'val_value_loss', 'val_value_mse', 'value_loss', 'value_mse'],\n",
       "      dtype='object')"
      ]
     },
     "execution_count": 16,
     "metadata": {},
     "output_type": "execute_result"
    }
   ],
   "source": [
    "history_df_mobileNet = pd.read_csv('./history_mobileNet_Edy_Diehl_TCHEUTCHOA_DEFFO.csv')\n",
    "history_df_mobileNet.columns"
   ]
  },
  {
   "cell_type": "code",
   "execution_count": 17,
   "metadata": {
    "colab": {
     "base_uri": "https://localhost:8080/",
     "height": 923
    },
    "id": "vo-RxappOOPQ",
    "outputId": "8abf5ffb-85d1-43bb-90e6-7e24aeededa3"
   },
   "outputs": [
    {
     "name": "stdout",
     "output_type": "stream",
     "text": [
      "Minimum Policy Validation Loss: 2.5678\n",
      "Maximum Policy Validation Accuracy: 0.3650\n"
     ]
    },
    {
     "data": {
      "image/png": "[encoded data removed]",
      "text/plain": [
       "<Figure size 640x480 with 1 Axes>"
      ]
     },
     "metadata": {},
     "output_type": "display_data"
    },
    {
     "data": {
      "image/png": "[encoded data removed]",
      "text/plain": [
       "<Figure size 640x480 with 1 Axes>"
      ]
     },
     "metadata": {},
     "output_type": "display_data"
    }
   ],
   "source": [
    "history_df_mobileNet.loc[0:, ['policy_loss', 'val_policy_loss']].plot(title=\"Policy_cross_entropy\")\n",
    "history_df_mobileNet.loc[:, ['policy_categorical_accuracy', 'val_policy_categorical_accuracy']].plot(\n",
    "    title=\"Policy_accuracy\")\n",
    "print(\"Minimum Policy Validation Loss: {:0.4f}\".format(history_df_mobileNet['val_policy_loss'].min()));\n",
    "print(\"Maximum Policy Validation Accuracy: {:0.4f}\".format(\n",
    "    history_df_mobileNet['val_policy_categorical_accuracy'].max()));"
   ]
  },
  {
   "cell_type": "code",
   "execution_count": 18,
   "metadata": {
    "colab": {
     "base_uri": "https://localhost:8080/",
     "height": 923
    },
    "id": "vbSkOGgLC_E2",
    "outputId": "ade803a0-7b9d-4472-f129-92d0e46b2d46"
   },
   "outputs": [
    {
     "name": "stdout",
     "output_type": "stream",
     "text": [
      "Minimum Value Validation Loss: 0.6525\n",
      "Minimum Value Validation MSE: 0.1017\n"
     ]
    },
    {
     "data": {
      "image/png": "[encoded data removed]",
      "text/plain": [
       "<Figure size 640x480 with 1 Axes>"
      ]
     },
     "metadata": {},
     "output_type": "display_data"
    },
    {
     "data": {
      "image/png": "[encoded data removed]",
      "text/plain": [
       "<Figure size 640x480 with 1 Axes>"
      ]
     },
     "metadata": {},
     "output_type": "display_data"
    }
   ],
   "source": [
    "history_df_mobileNet.loc[0:, ['value_loss', 'val_value_loss']].plot(title=\"Value_cross_entropy\")\n",
    "history_df_mobileNet.loc[:, ['value_mse', 'val_value_mse']].plot(title=\"Value_mse\")\n",
    "print(\"Minimum Value Validation Loss: {:0.4f}\".format(history_df_mobileNet['val_value_loss'].min()));\n",
    "print(\"Minimum Value Validation MSE: {:0.4f}\".format(history_df_mobileNet['val_value_mse'].min()));"
   ]
  },
  {
   "cell_type": "markdown",
   "metadata": {
    "id": "1joqRw0cjcPy"
   },
   "source": [
    "## 2. Shuffle network\n",
    "\n",
    "Entrainons un modèle ShuffleNet et notons ces performances."
   ]
  },
  {
   "cell_type": "code",
   "execution_count": 4,
   "metadata": {
    "execution": {
     "iopub.execute_input": "2024-01-02T14:41:02.067040Z",
     "iopub.status.busy": "2024-01-02T14:41:02.066675Z",
     "iopub.status.idle": "2024-01-02T14:41:02.075317Z",
     "shell.execute_reply": "2024-01-02T14:41:02.074680Z",
     "shell.execute_reply.started": "2024-01-02T14:41:02.067013Z"
    },
    "id": "Orc9KXGnmb50",
    "tags": []
   },
   "outputs": [],
   "source": [
    "batch = 256\n",
    "filters = 6 * 32\n",
    "trunk = 32\n",
    "blocks = 14\n",
    "\n",
    "\n",
    "def gconv(tensor, channels, groups):\n",
    "    input_ch = tensor.get_shape().as_list()[-1]\n",
    "    group_ch = input_ch // groups\n",
    "    output_ch = channels // groups\n",
    "    groups_list = []\n",
    "\n",
    "    for i in range(groups):\n",
    "        group_tensor = tensor[:, :, :, i * group_ch: (i + 1) * group_ch]\n",
    "        group_tensor = Conv2D(output_ch, 1)(group_tensor)\n",
    "        groups_list.append(group_tensor)\n",
    "\n",
    "    output = Concatenate()(groups_list)\n",
    "    return output\n",
    "\n",
    "\n",
    "def channel_shuffle(x, groups):\n",
    "    _, width, height, channels = x.get_shape().as_list()\n",
    "    group_ch = channels // groups\n",
    "    x = Reshape([width, height, group_ch, groups])(x)\n",
    "    x = Permute([1, 2, 4, 3])(x)\n",
    "    x = Reshape([width, height, channels])(x)\n",
    "    return x\n",
    "\n",
    "\n",
    "def bottleneck_block(tensor, expand=96, squeeze=16):\n",
    "    x = gconv(tensor, channels=expand, groups=4)\n",
    "    x = BatchNormalization()(x)\n",
    "    x = ReLU()(x)\n",
    "    x = channel_shuffle(x, groups=4)\n",
    "    x = DepthwiseConv2D(kernel_size=3, padding='same')(x)\n",
    "    x = BatchNormalization()(x)\n",
    "    x = gconv(x, channels=squeeze, groups=4)\n",
    "    x = BatchNormalization()(x)\n",
    "    x = Add()([tensor, x])\n",
    "    output = ReLU()(x)\n",
    "    return output"
   ]
  },
  {
   "cell_type": "code",
   "execution_count": 5,
   "metadata": {
    "execution": {
     "iopub.execute_input": "2024-01-02T14:41:12.547351Z",
     "iopub.status.busy": "2024-01-02T14:41:12.546994Z",
     "iopub.status.idle": "2024-01-02T14:41:17.008229Z",
     "shell.execute_reply": "2024-01-02T14:41:17.007587Z",
     "shell.execute_reply.started": "2024-01-02T14:41:12.547325Z"
    },
    "id": "aOTP3wo_8mGs",
    "tags": []
   },
   "outputs": [
    {
     "name": "stderr",
     "output_type": "stream",
     "text": [
      "2024-01-02 14:41:12.609788: I external/local_xla/xla/stream_executor/cuda/cuda_executor.cc:901] successful NUMA node read from SysFS had negative value (-1), but there must be at least one NUMA node, so returning NUMA node zero. See more at https://github.com/torvalds/linux/blob/v6.0/Documentation/ABI/testing/sysfs-bus-pci#L344-L355\n",
      "2024-01-02 14:41:12.656058: I external/local_xla/xla/stream_executor/cuda/cuda_executor.cc:901] successful NUMA node read from SysFS had negative value (-1), but there must be at least one NUMA node, so returning NUMA node zero. See more at https://github.com/torvalds/linux/blob/v6.0/Documentation/ABI/testing/sysfs-bus-pci#L344-L355\n",
      "2024-01-02 14:41:12.656311: I external/local_xla/xla/stream_executor/cuda/cuda_executor.cc:901] successful NUMA node read from SysFS had negative value (-1), but there must be at least one NUMA node, so returning NUMA node zero. See more at https://github.com/torvalds/linux/blob/v6.0/Documentation/ABI/testing/sysfs-bus-pci#L344-L355\n",
      "2024-01-02 14:41:12.657235: I external/local_xla/xla/stream_executor/cuda/cuda_executor.cc:901] successful NUMA node read from SysFS had negative value (-1), but there must be at least one NUMA node, so returning NUMA node zero. See more at https://github.com/torvalds/linux/blob/v6.0/Documentation/ABI/testing/sysfs-bus-pci#L344-L355\n",
      "2024-01-02 14:41:12.657489: I external/local_xla/xla/stream_executor/cuda/cuda_executor.cc:901] successful NUMA node read from SysFS had negative value (-1), but there must be at least one NUMA node, so returning NUMA node zero. See more at https://github.com/torvalds/linux/blob/v6.0/Documentation/ABI/testing/sysfs-bus-pci#L344-L355\n",
      "2024-01-02 14:41:12.657669: I external/local_xla/xla/stream_executor/cuda/cuda_executor.cc:901] successful NUMA node read from SysFS had negative value (-1), but there must be at least one NUMA node, so returning NUMA node zero. See more at https://github.com/torvalds/linux/blob/v6.0/Documentation/ABI/testing/sysfs-bus-pci#L344-L355\n",
      "2024-01-02 14:41:14.338917: I external/local_xla/xla/stream_executor/cuda/cuda_executor.cc:901] successful NUMA node read from SysFS had negative value (-1), but there must be at least one NUMA node, so returning NUMA node zero. See more at https://github.com/torvalds/linux/blob/v6.0/Documentation/ABI/testing/sysfs-bus-pci#L344-L355\n",
      "2024-01-02 14:41:14.339150: I external/local_xla/xla/stream_executor/cuda/cuda_executor.cc:901] successful NUMA node read from SysFS had negative value (-1), but there must be at least one NUMA node, so returning NUMA node zero. See more at https://github.com/torvalds/linux/blob/v6.0/Documentation/ABI/testing/sysfs-bus-pci#L344-L355\n",
      "2024-01-02 14:41:14.339326: I external/local_xla/xla/stream_executor/cuda/cuda_executor.cc:901] successful NUMA node read from SysFS had negative value (-1), but there must be at least one NUMA node, so returning NUMA node zero. See more at https://github.com/torvalds/linux/blob/v6.0/Documentation/ABI/testing/sysfs-bus-pci#L344-L355\n",
      "2024-01-02 14:41:14.339467: I tensorflow/core/common_runtime/gpu/gpu_device.cc:1929] Created device /job:localhost/replica:0/task:0/device:GPU:0 with 13772 MB memory:  -> device: 0, name: Tesla T4, pci bus id: 0000:00:1e.0, compute capability: 7.5\n"
     ]
    }
   ],
   "source": [
    "x = layers.Conv2D(trunk, 1, activation='relu', padding='same')(input)\n",
    "\n",
    "for i in range(blocks):\n",
    "    x = bottleneck_block(x, filters, trunk)\n",
    "\n",
    "x = layers.BatchNormalization()(x)\n",
    "\n",
    "policy_head = layers.Conv2D(1, 1, activation='relu', padding='same', kernel_regularizer=regularizers.l2(0.001))(x)\n",
    "policy_head = layers.Flatten()(policy_head)\n",
    "policy_head = layers.Activation('softmax', name='policy')(policy_head)\n",
    "\n",
    "value_head = layers.GlobalAveragePooling2D()(x)\n",
    "value_head = layers.Dense(50, activation='relu')(value_head)\n",
    "value_head = layers.Dense(1, activation='sigmoid', name='value')(value_head)\n",
    "\n",
    "model = keras.Model(inputs=input, outputs=[policy_head, value_head])\n",
    "\n",
    "#model.summary()"
   ]
  },
  {
   "cell_type": "code",
   "execution_count": 6,
   "metadata": {
    "colab": {
     "base_uri": "https://localhost:8080/"
    },
    "execution": {
     "iopub.execute_input": "2024-01-02T14:41:24.013541Z",
     "iopub.status.busy": "2024-01-02T14:41:24.013151Z",
     "iopub.status.idle": "2024-01-02T16:19:37.502181Z",
     "shell.execute_reply": "2024-01-02T16:19:37.501517Z",
     "shell.execute_reply.started": "2024-01-02T14:41:24.013516Z"
    },
    "id": "5dRyHf6b4YUB",
    "outputId": "9028537e-885b-4cd1-942a-cf6e7ff4bd06",
    "tags": []
   },
   "outputs": [
    {
     "name": "stdout",
     "output_type": "stream",
     "text": [
      "epoch 1\n"
     ]
    },
    {
     "name": "stderr",
     "output_type": "stream",
     "text": [
      "r.shape = (30000, 19, 19, 31)\n",
      "nbExamples = 30000\n",
      "2024-01-02 14:41:56.015856: I external/local_xla/xla/stream_executor/cuda/cuda_dnn.cc:454] Loaded cuDNN version 8904\n",
      "2024-01-02 14:41:56.959020: I external/local_tsl/tsl/platform/default/subprocess.cc:304] Start cannot spawn child process: No such file or directory\n",
      "2024-01-02 14:41:57.056159: I external/local_tsl/tsl/platform/default/subprocess.cc:304] Start cannot spawn child process: No such file or directory\n",
      "2024-01-02 14:41:58.334715: I external/local_xla/xla/service/service.cc:168] XLA service 0x7f161affc620 initialized for platform CUDA (this does not guarantee that XLA will be used). Devices:\n",
      "2024-01-02 14:41:58.334744: I external/local_xla/xla/service/service.cc:176]   StreamExecutor device (0): Tesla T4, Compute Capability 7.5\n",
      "2024-01-02 14:41:58.339943: I tensorflow/compiler/mlir/tensorflow/utils/dump_mlir_util.cc:269] disabling MLIR crash reproducer, set env var `MLIR_CRASH_REPRODUCER_DIRECTORY` to enable.\n",
      "WARNING: All log messages before absl::InitializeLog() is called are written to STDERR\n",
      "I0000 00:00:1704206518.447840     292 device_compiler.h:186] Compiled cluster using XLA!  This line is logged at most once for the lifetime of the process.\n"
     ]
    },
    {
     "name": "stdout",
     "output_type": "stream",
     "text": [
      "94/94 [==============================] - 95s 523ms/step - loss: 10.8052 - policy_loss: 4.5728 - value_loss: 0.6923 - policy_categorical_accuracy: 0.0973 - value_mse: 0.1190 - val_loss: 11.7694 - val_policy_loss: 5.5309 - val_value_loss: 0.6929 - val_policy_categorical_accuracy: 0.0452 - val_value_mse: 0.1218\n",
      "epoch 2\n"
     ]
    },
    {
     "name": "stderr",
     "output_type": "stream",
     "text": [
      "r.shape = (30000, 19, 19, 31)\n",
      "nbExamples = 30000\n"
     ]
    },
    {
     "name": "stdout",
     "output_type": "stream",
     "text": [
      "94/94 [==============================] - 47s 495ms/step - loss: 9.4206 - policy_loss: 3.2478 - value_loss: 0.6856 - policy_categorical_accuracy: 0.2635 - value_mse: 0.1159 - val_loss: 11.2316 - val_policy_loss: 4.9602 - val_value_loss: 0.6966 - val_policy_categorical_accuracy: 0.0805 - val_value_mse: 0.1214\n",
      "epoch 3\n"
     ]
    },
    {
     "name": "stderr",
     "output_type": "stream",
     "text": [
      "r.shape = (30000, 19, 19, 31)\n",
      "nbExamples = 30000\n"
     ]
    },
    {
     "name": "stdout",
     "output_type": "stream",
     "text": [
      "94/94 [==============================] - 46s 495ms/step - loss: 9.1165 - policy_loss: 3.0690 - value_loss: 0.6717 - policy_categorical_accuracy: 0.2943 - value_mse: 0.1098 - val_loss: 10.1475 - val_policy_loss: 3.9632 - val_value_loss: 0.6869 - val_policy_categorical_accuracy: 0.1900 - val_value_mse: 0.1178\n",
      "epoch 4\n"
     ]
    },
    {
     "name": "stderr",
     "output_type": "stream",
     "text": [
      "r.shape = (30000, 19, 19, 31)\n",
      "nbExamples = 30000\n"
     ]
    },
    {
     "name": "stdout",
     "output_type": "stream",
     "text": [
      "94/94 [==============================] - 47s 496ms/step - loss: 8.9044 - policy_loss: 2.9435 - value_loss: 0.6620 - policy_categorical_accuracy: 0.3124 - value_mse: 0.1051 - val_loss: 10.1802 - val_policy_loss: 3.3551 - val_value_loss: 0.7580 - val_policy_categorical_accuracy: 0.2510 - val_value_mse: 0.1348\n",
      "epoch 5\n"
     ]
    },
    {
     "name": "stderr",
     "output_type": "stream",
     "text": [
      "r.shape = (30000, 19, 19, 31)\n",
      "nbExamples = 30000\n"
     ]
    },
    {
     "name": "stdout",
     "output_type": "stream",
     "text": [
      "94/94 [==============================] - 46s 495ms/step - loss: 8.8802 - policy_loss: 2.9194 - value_loss: 0.6620 - policy_categorical_accuracy: 0.3192 - value_mse: 0.1048 - val_loss: 9.9410 - val_policy_loss: 3.5430 - val_value_loss: 0.7106 - val_policy_categorical_accuracy: 0.2460 - val_value_mse: 0.1251\n",
      "epoch 6\n"
     ]
    },
    {
     "name": "stderr",
     "output_type": "stream",
     "text": [
      "r.shape = (30000, 19, 19, 31)\n",
      "nbExamples = 30000\n"
     ]
    },
    {
     "name": "stdout",
     "output_type": "stream",
     "text": [
      "94/94 [==============================] - 46s 494ms/step - loss: 8.7961 - policy_loss: 2.8881 - value_loss: 0.6561 - policy_categorical_accuracy: 0.3220 - value_mse: 0.1017 - val_loss: 9.2762 - val_policy_loss: 3.1285 - val_value_loss: 0.6827 - val_policy_categorical_accuracy: 0.2873 - val_value_mse: 0.1160\n",
      "epoch 7\n"
     ]
    },
    {
     "name": "stderr",
     "output_type": "stream",
     "text": [
      "r.shape = (30000, 19, 19, 31)\n",
      "nbExamples = 30000\n"
     ]
    },
    {
     "name": "stdout",
     "output_type": "stream",
     "text": [
      "94/94 [==============================] - 46s 495ms/step - loss: 8.7634 - policy_loss: 2.8582 - value_loss: 0.6558 - policy_categorical_accuracy: 0.3190 - value_mse: 0.1027 - val_loss: 9.5036 - val_policy_loss: 2.9445 - val_value_loss: 0.7284 - val_policy_categorical_accuracy: 0.3232 - val_value_mse: 0.1345\n",
      "epoch 8\n"
     ]
    },
    {
     "name": "stderr",
     "output_type": "stream",
     "text": [
      "r.shape = (30000, 19, 19, 31)\n",
      "nbExamples = 30000\n"
     ]
    },
    {
     "name": "stdout",
     "output_type": "stream",
     "text": [
      "94/94 [==============================] - 47s 495ms/step - loss: 8.7234 - policy_loss: 2.8461 - value_loss: 0.6527 - policy_categorical_accuracy: 0.3255 - value_mse: 0.1004 - val_loss: 9.0212 - val_policy_loss: 2.9849 - val_value_loss: 0.6704 - val_policy_categorical_accuracy: 0.3175 - val_value_mse: 0.1064\n",
      "epoch 9\n"
     ]
    },
    {
     "name": "stderr",
     "output_type": "stream",
     "text": [
      "r.shape = (30000, 19, 19, 31)\n",
      "nbExamples = 30000\n"
     ]
    },
    {
     "name": "stdout",
     "output_type": "stream",
     "text": [
      "94/94 [==============================] - 46s 495ms/step - loss: 8.6511 - policy_loss: 2.7917 - value_loss: 0.6507 - policy_categorical_accuracy: 0.3381 - value_mse: 0.1002 - val_loss: 9.7863 - val_policy_loss: 2.9084 - val_value_loss: 0.7639 - val_policy_categorical_accuracy: 0.3280 - val_value_mse: 0.1387\n",
      "epoch 10\n"
     ]
    },
    {
     "name": "stderr",
     "output_type": "stream",
     "text": [
      "r.shape = (30000, 19, 19, 31)\n",
      "nbExamples = 30000\n"
     ]
    },
    {
     "name": "stdout",
     "output_type": "stream",
     "text": [
      "94/94 [==============================] - 47s 495ms/step - loss: 8.6090 - policy_loss: 2.7811 - value_loss: 0.6472 - policy_categorical_accuracy: 0.3346 - value_mse: 0.0984 - val_loss: 9.7441 - val_policy_loss: 2.8114 - val_value_loss: 0.7699 - val_policy_categorical_accuracy: 0.3382 - val_value_mse: 0.1422\n",
      "epoch 11\n"
     ]
    },
    {
     "name": "stderr",
     "output_type": "stream",
     "text": [
      "r.shape = (30000, 19, 19, 31)\n",
      "nbExamples = 30000\n"
     ]
    },
    {
     "name": "stdout",
     "output_type": "stream",
     "text": [
      "94/94 [==============================] - 46s 494ms/step - loss: 8.5962 - policy_loss: 2.7550 - value_loss: 0.6487 - policy_categorical_accuracy: 0.3405 - value_mse: 0.0992 - val_loss: 11.6671 - val_policy_loss: 2.8246 - val_value_loss: 0.9821 - val_policy_categorical_accuracy: 0.3435 - val_value_mse: 0.1832\n",
      "epoch 12\n"
     ]
    },
    {
     "name": "stderr",
     "output_type": "stream",
     "text": [
      "r.shape = (30000, 19, 19, 31)\n",
      "nbExamples = 30000\n"
     ]
    },
    {
     "name": "stdout",
     "output_type": "stream",
     "text": [
      "94/94 [==============================] - 46s 494ms/step - loss: 8.5677 - policy_loss: 2.7448 - value_loss: 0.6466 - policy_categorical_accuracy: 0.3421 - value_mse: 0.0993 - val_loss: 9.1328 - val_policy_loss: 2.9470 - val_value_loss: 0.6870 - val_policy_categorical_accuracy: 0.3213 - val_value_mse: 0.1141\n",
      "epoch 13\n"
     ]
    },
    {
     "name": "stderr",
     "output_type": "stream",
     "text": [
      "r.shape = (30000, 19, 19, 31)\n",
      "nbExamples = 30000\n"
     ]
    },
    {
     "name": "stdout",
     "output_type": "stream",
     "text": [
      "94/94 [==============================] - 46s 495ms/step - loss: 8.5742 - policy_loss: 2.7551 - value_loss: 0.6462 - policy_categorical_accuracy: 0.3360 - value_mse: 0.0979 - val_loss: 8.7719 - val_policy_loss: 2.8464 - val_value_loss: 0.6580 - val_policy_categorical_accuracy: 0.3298 - val_value_mse: 0.1026\n",
      "epoch 14\n"
     ]
    },
    {
     "name": "stderr",
     "output_type": "stream",
     "text": [
      "r.shape = (30000, 19, 19, 31)\n",
      "nbExamples = 30000\n"
     ]
    },
    {
     "name": "stdout",
     "output_type": "stream",
     "text": [
      "94/94 [==============================] - 46s 495ms/step - loss: 8.5323 - policy_loss: 2.7092 - value_loss: 0.6466 - policy_categorical_accuracy: 0.3472 - value_mse: 0.0990 - val_loss: 10.2295 - val_policy_loss: 2.7918 - val_value_loss: 0.8260 - val_policy_categorical_accuracy: 0.3387 - val_value_mse: 0.1551\n",
      "epoch 15\n"
     ]
    },
    {
     "name": "stderr",
     "output_type": "stream",
     "text": [
      "r.shape = (30000, 19, 19, 31)\n",
      "nbExamples = 30000\n"
     ]
    },
    {
     "name": "stdout",
     "output_type": "stream",
     "text": [
      "94/94 [==============================] - 46s 494ms/step - loss: 8.5153 - policy_loss: 2.7190 - value_loss: 0.6436 - policy_categorical_accuracy: 0.3471 - value_mse: 0.0975 - val_loss: 8.7033 - val_policy_loss: 2.7546 - val_value_loss: 0.6606 - val_policy_categorical_accuracy: 0.3408 - val_value_mse: 0.1032\n",
      "epoch 16\n"
     ]
    },
    {
     "name": "stderr",
     "output_type": "stream",
     "text": [
      "r.shape = (30000, 19, 19, 31)\n",
      "nbExamples = 30000\n"
     ]
    },
    {
     "name": "stdout",
     "output_type": "stream",
     "text": [
      "94/94 [==============================] - 46s 494ms/step - loss: 8.4970 - policy_loss: 2.6943 - value_loss: 0.6444 - policy_categorical_accuracy: 0.3530 - value_mse: 0.0979 - val_loss: 11.0381 - val_policy_loss: 2.7726 - val_value_loss: 0.9180 - val_policy_categorical_accuracy: 0.3442 - val_value_mse: 0.1703\n",
      "epoch 17\n"
     ]
    },
    {
     "name": "stderr",
     "output_type": "stream",
     "text": [
      "r.shape = (30000, 19, 19, 31)\n",
      "nbExamples = 30000\n"
     ]
    },
    {
     "name": "stdout",
     "output_type": "stream",
     "text": [
      "94/94 [==============================] - 46s 495ms/step - loss: 8.4789 - policy_loss: 2.7167 - value_loss: 0.6399 - policy_categorical_accuracy: 0.3392 - value_mse: 0.0958 - val_loss: 8.6418 - val_policy_loss: 2.8276 - val_value_loss: 0.6456 - val_policy_categorical_accuracy: 0.3288 - val_value_mse: 0.0987\n",
      "epoch 18\n"
     ]
    },
    {
     "name": "stderr",
     "output_type": "stream",
     "text": [
      "r.shape = (30000, 19, 19, 31)\n",
      "nbExamples = 30000\n"
     ]
    },
    {
     "name": "stdout",
     "output_type": "stream",
     "text": [
      "94/94 [==============================] - 46s 494ms/step - loss: 8.4870 - policy_loss: 2.7101 - value_loss: 0.6415 - policy_categorical_accuracy: 0.3450 - value_mse: 0.0963 - val_loss: 9.9627 - val_policy_loss: 2.8874 - val_value_loss: 0.7858 - val_policy_categorical_accuracy: 0.3310 - val_value_mse: 0.1462\n",
      "epoch 19\n"
     ]
    },
    {
     "name": "stderr",
     "output_type": "stream",
     "text": [
      "r.shape = (30000, 19, 19, 31)\n",
      "nbExamples = 30000\n"
     ]
    },
    {
     "name": "stdout",
     "output_type": "stream",
     "text": [
      "94/94 [==============================] - 46s 494ms/step - loss: 8.4614 - policy_loss: 2.6706 - value_loss: 0.6430 - policy_categorical_accuracy: 0.3498 - value_mse: 0.0977 - val_loss: 9.0659 - val_policy_loss: 2.8290 - val_value_loss: 0.6926 - val_policy_categorical_accuracy: 0.3437 - val_value_mse: 0.1143\n",
      "epoch 20\n"
     ]
    },
    {
     "name": "stderr",
     "output_type": "stream",
     "text": [
      "r.shape = (30000, 19, 19, 31)\n",
      "nbExamples = 30000\n"
     ]
    },
    {
     "name": "stdout",
     "output_type": "stream",
     "text": [
      "94/94 [==============================] - 46s 495ms/step - loss: 8.4581 - policy_loss: 2.6741 - value_loss: 0.6423 - policy_categorical_accuracy: 0.3492 - value_mse: 0.0968 - val_loss: 10.0803 - val_policy_loss: 2.8777 - val_value_loss: 0.7999 - val_policy_categorical_accuracy: 0.3335 - val_value_mse: 0.1518\n",
      "epoch 21\n"
     ]
    },
    {
     "name": "stderr",
     "output_type": "stream",
     "text": [
      "r.shape = (30000, 19, 19, 31)\n",
      "nbExamples = 30000\n"
     ]
    },
    {
     "name": "stdout",
     "output_type": "stream",
     "text": [
      "94/94 [==============================] - 46s 495ms/step - loss: 8.4165 - policy_loss: 2.6733 - value_loss: 0.6377 - policy_categorical_accuracy: 0.3541 - value_mse: 0.0951 - val_loss: 8.9707 - val_policy_loss: 2.8250 - val_value_loss: 0.6825 - val_policy_categorical_accuracy: 0.3440 - val_value_mse: 0.1140\n",
      "epoch 22\n"
     ]
    },
    {
     "name": "stderr",
     "output_type": "stream",
     "text": [
      "r.shape = (30000, 19, 19, 31)\n",
      "nbExamples = 30000\n"
     ]
    },
    {
     "name": "stdout",
     "output_type": "stream",
     "text": [
      "94/94 [==============================] - 47s 495ms/step - loss: 8.4261 - policy_loss: 2.6750 - value_loss: 0.6386 - policy_categorical_accuracy: 0.3487 - value_mse: 0.0942 - val_loss: 9.0201 - val_policy_loss: 2.7548 - val_value_loss: 0.6958 - val_policy_categorical_accuracy: 0.3370 - val_value_mse: 0.1208\n",
      "epoch 23\n"
     ]
    },
    {
     "name": "stderr",
     "output_type": "stream",
     "text": [
      "r.shape = (30000, 19, 19, 31)\n",
      "nbExamples = 30000\n"
     ]
    },
    {
     "name": "stdout",
     "output_type": "stream",
     "text": [
      "94/94 [==============================] - 47s 496ms/step - loss: 8.3723 - policy_loss: 2.6567 - value_loss: 0.6347 - policy_categorical_accuracy: 0.3532 - value_mse: 0.0935 - val_loss: 8.6194 - val_policy_loss: 2.7377 - val_value_loss: 0.6531 - val_policy_categorical_accuracy: 0.3405 - val_value_mse: 0.1025\n",
      "epoch 24\n"
     ]
    },
    {
     "name": "stderr",
     "output_type": "stream",
     "text": [
      "r.shape = (30000, 19, 19, 31)\n",
      "nbExamples = 30000\n"
     ]
    },
    {
     "name": "stdout",
     "output_type": "stream",
     "text": [
      "94/94 [==============================] - 46s 495ms/step - loss: 8.4107 - policy_loss: 2.6463 - value_loss: 0.6401 - policy_categorical_accuracy: 0.3544 - value_mse: 0.0951 - val_loss: 8.5462 - val_policy_loss: 2.6732 - val_value_loss: 0.6522 - val_policy_categorical_accuracy: 0.3468 - val_value_mse: 0.0998\n",
      "epoch 25\n"
     ]
    },
    {
     "name": "stderr",
     "output_type": "stream",
     "text": [
      "r.shape = (30000, 19, 19, 31)\n",
      "nbExamples = 30000\n"
     ]
    },
    {
     "name": "stdout",
     "output_type": "stream",
     "text": [
      "94/94 [==============================] - 46s 494ms/step - loss: 8.3927 - policy_loss: 2.6375 - value_loss: 0.6391 - policy_categorical_accuracy: 0.3582 - value_mse: 0.0947 - val_loss: 8.5882 - val_policy_loss: 2.6730 - val_value_loss: 0.6569 - val_policy_categorical_accuracy: 0.3477 - val_value_mse: 0.1008\n",
      "epoch 26\n"
     ]
    },
    {
     "name": "stderr",
     "output_type": "stream",
     "text": [
      "r.shape = (30000, 19, 19, 31)\n",
      "nbExamples = 30000\n"
     ]
    },
    {
     "name": "stdout",
     "output_type": "stream",
     "text": [
      "94/94 [==============================] - 47s 495ms/step - loss: 8.3647 - policy_loss: 2.6505 - value_loss: 0.6345 - policy_categorical_accuracy: 0.3554 - value_mse: 0.0930 - val_loss: 8.8357 - val_policy_loss: 2.7007 - val_value_loss: 0.6813 - val_policy_categorical_accuracy: 0.3513 - val_value_mse: 0.1119\n",
      "epoch 27\n"
     ]
    },
    {
     "name": "stderr",
     "output_type": "stream",
     "text": [
      "r.shape = (30000, 19, 19, 31)\n",
      "nbExamples = 30000\n"
     ]
    },
    {
     "name": "stdout",
     "output_type": "stream",
     "text": [
      "94/94 [==============================] - 46s 495ms/step - loss: 8.4131 - policy_loss: 2.6303 - value_loss: 0.6421 - policy_categorical_accuracy: 0.3558 - value_mse: 0.0963 - val_loss: 8.7817 - val_policy_loss: 2.7580 - val_value_loss: 0.6689 - val_policy_categorical_accuracy: 0.3455 - val_value_mse: 0.1056\n",
      "epoch 28\n"
     ]
    },
    {
     "name": "stderr",
     "output_type": "stream",
     "text": [
      "r.shape = (30000, 19, 19, 31)\n",
      "nbExamples = 30000\n"
     ]
    },
    {
     "name": "stdout",
     "output_type": "stream",
     "text": [
      "94/94 [==============================] - 46s 495ms/step - loss: 8.3589 - policy_loss: 2.6340 - value_loss: 0.6357 - policy_categorical_accuracy: 0.3530 - value_mse: 0.0942 - val_loss: 9.0192 - val_policy_loss: 2.7823 - val_value_loss: 0.6926 - val_policy_categorical_accuracy: 0.3483 - val_value_mse: 0.1163\n",
      "epoch 29\n"
     ]
    },
    {
     "name": "stderr",
     "output_type": "stream",
     "text": [
      "r.shape = (30000, 19, 19, 31)\n",
      "nbExamples = 30000\n"
     ]
    },
    {
     "name": "stdout",
     "output_type": "stream",
     "text": [
      "94/94 [==============================] - 46s 495ms/step - loss: 8.3167 - policy_loss: 2.6103 - value_loss: 0.6336 - policy_categorical_accuracy: 0.3573 - value_mse: 0.0936 - val_loss: 9.2665 - val_policy_loss: 2.7047 - val_value_loss: 0.7287 - val_policy_categorical_accuracy: 0.3433 - val_value_mse: 0.1281\n",
      "epoch 30\n"
     ]
    },
    {
     "name": "stderr",
     "output_type": "stream",
     "text": [
      "r.shape = (30000, 19, 19, 31)\n",
      "nbExamples = 30000\n"
     ]
    },
    {
     "name": "stdout",
     "output_type": "stream",
     "text": [
      "94/94 [==============================] - 47s 495ms/step - loss: 8.3259 - policy_loss: 2.6312 - value_loss: 0.6324 - policy_categorical_accuracy: 0.3585 - value_mse: 0.0936 - val_loss: 8.6655 - val_policy_loss: 2.7126 - val_value_loss: 0.6610 - val_policy_categorical_accuracy: 0.3413 - val_value_mse: 0.1047\n",
      "epoch 31\n"
     ]
    },
    {
     "name": "stderr",
     "output_type": "stream",
     "text": [
      "r.shape = (30000, 19, 19, 31)\n",
      "nbExamples = 30000\n"
     ]
    },
    {
     "name": "stdout",
     "output_type": "stream",
     "text": [
      "94/94 [==============================] - 47s 495ms/step - loss: 8.2999 - policy_loss: 2.5911 - value_loss: 0.6339 - policy_categorical_accuracy: 0.3645 - value_mse: 0.0935 - val_loss: 9.4935 - val_policy_loss: 2.8298 - val_value_loss: 0.7400 - val_policy_categorical_accuracy: 0.3338 - val_value_mse: 0.1346\n",
      "epoch 32\n"
     ]
    },
    {
     "name": "stderr",
     "output_type": "stream",
     "text": [
      "r.shape = (30000, 19, 19, 31)\n",
      "nbExamples = 30000\n"
     ]
    },
    {
     "name": "stdout",
     "output_type": "stream",
     "text": [
      "94/94 [==============================] - 47s 495ms/step - loss: 8.2962 - policy_loss: 2.6064 - value_loss: 0.6318 - policy_categorical_accuracy: 0.3580 - value_mse: 0.0926 - val_loss: 8.4116 - val_policy_loss: 2.6862 - val_value_loss: 0.6358 - val_policy_categorical_accuracy: 0.3443 - val_value_mse: 0.0954\n",
      "epoch 33\n"
     ]
    },
    {
     "name": "stderr",
     "output_type": "stream",
     "text": [
      "r.shape = (30000, 19, 19, 31)\n",
      "nbExamples = 30000\n"
     ]
    },
    {
     "name": "stdout",
     "output_type": "stream",
     "text": [
      "94/94 [==============================] - 47s 495ms/step - loss: 8.2803 - policy_loss: 2.5996 - value_loss: 0.6308 - policy_categorical_accuracy: 0.3640 - value_mse: 0.0925 - val_loss: 8.5344 - val_policy_loss: 2.7041 - val_value_loss: 0.6474 - val_policy_categorical_accuracy: 0.3378 - val_value_mse: 0.0978\n",
      "epoch 34\n"
     ]
    },
    {
     "name": "stderr",
     "output_type": "stream",
     "text": [
      "r.shape = (30000, 19, 19, 31)\n",
      "nbExamples = 30000\n"
     ]
    },
    {
     "name": "stdout",
     "output_type": "stream",
     "text": [
      "94/94 [==============================] - 47s 496ms/step - loss: 8.3181 - policy_loss: 2.6050 - value_loss: 0.6344 - policy_categorical_accuracy: 0.3593 - value_mse: 0.0931 - val_loss: 9.7505 - val_policy_loss: 2.7028 - val_value_loss: 0.7827 - val_policy_categorical_accuracy: 0.3520 - val_value_mse: 0.1408\n",
      "epoch 35\n"
     ]
    },
    {
     "name": "stderr",
     "output_type": "stream",
     "text": [
      "r.shape = (30000, 19, 19, 31)\n",
      "nbExamples = 30000\n"
     ]
    },
    {
     "name": "stdout",
     "output_type": "stream",
     "text": [
      "94/94 [==============================] - 46s 494ms/step - loss: 8.2851 - policy_loss: 2.6071 - value_loss: 0.6305 - policy_categorical_accuracy: 0.3576 - value_mse: 0.0926 - val_loss: 8.7245 - val_policy_loss: 2.6881 - val_value_loss: 0.6703 - val_policy_categorical_accuracy: 0.3423 - val_value_mse: 0.1082\n",
      "epoch 36\n"
     ]
    },
    {
     "name": "stderr",
     "output_type": "stream",
     "text": [
      "r.shape = (30000, 19, 19, 31)\n",
      "nbExamples = 30000\n"
     ]
    },
    {
     "name": "stdout",
     "output_type": "stream",
     "text": [
      "94/94 [==============================] - 46s 495ms/step - loss: 8.2564 - policy_loss: 2.5838 - value_loss: 0.6299 - policy_categorical_accuracy: 0.3647 - value_mse: 0.0926 - val_loss: 9.6733 - val_policy_loss: 2.6430 - val_value_loss: 0.7808 - val_policy_categorical_accuracy: 0.3638 - val_value_mse: 0.1424\n",
      "epoch 37\n"
     ]
    },
    {
     "name": "stderr",
     "output_type": "stream",
     "text": [
      "r.shape = (30000, 19, 19, 31)\n",
      "nbExamples = 30000\n"
     ]
    },
    {
     "name": "stdout",
     "output_type": "stream",
     "text": [
      "94/94 [==============================] - 47s 495ms/step - loss: 8.2614 - policy_loss: 2.5876 - value_loss: 0.6300 - policy_categorical_accuracy: 0.3628 - value_mse: 0.0911 - val_loss: 9.4162 - val_policy_loss: 2.6350 - val_value_loss: 0.7531 - val_policy_categorical_accuracy: 0.3555 - val_value_mse: 0.1369\n",
      "epoch 38\n"
     ]
    },
    {
     "name": "stderr",
     "output_type": "stream",
     "text": [
      "r.shape = (30000, 19, 19, 31)\n",
      "nbExamples = 30000\n"
     ]
    },
    {
     "name": "stdout",
     "output_type": "stream",
     "text": [
      "94/94 [==============================] - 47s 495ms/step - loss: 8.2825 - policy_loss: 2.5791 - value_loss: 0.6333 - policy_categorical_accuracy: 0.3647 - value_mse: 0.0927 - val_loss: 8.6035 - val_policy_loss: 2.6664 - val_value_loss: 0.6593 - val_policy_categorical_accuracy: 0.3537 - val_value_mse: 0.1027\n",
      "epoch 39\n"
     ]
    },
    {
     "name": "stderr",
     "output_type": "stream",
     "text": [
      "r.shape = (30000, 19, 19, 31)\n",
      "nbExamples = 30000\n"
     ]
    },
    {
     "name": "stdout",
     "output_type": "stream",
     "text": [
      "94/94 [==============================] - 46s 495ms/step - loss: 8.2397 - policy_loss: 2.5854 - value_loss: 0.6279 - policy_categorical_accuracy: 0.3632 - value_mse: 0.0903 - val_loss: 10.5739 - val_policy_loss: 2.7394 - val_value_loss: 0.8701 - val_policy_categorical_accuracy: 0.3415 - val_value_mse: 0.1603\n",
      "epoch 40\n"
     ]
    },
    {
     "name": "stderr",
     "output_type": "stream",
     "text": [
      "r.shape = (30000, 19, 19, 31)\n",
      "nbExamples = 30000\n"
     ]
    },
    {
     "name": "stdout",
     "output_type": "stream",
     "text": [
      "94/94 [==============================] - 46s 494ms/step - loss: 8.2676 - policy_loss: 2.5863 - value_loss: 0.6309 - policy_categorical_accuracy: 0.3647 - value_mse: 0.0916 - val_loss: 9.6446 - val_policy_loss: 2.6065 - val_value_loss: 0.7817 - val_policy_categorical_accuracy: 0.3565 - val_value_mse: 0.1279\n",
      "epoch 41\n"
     ]
    },
    {
     "name": "stderr",
     "output_type": "stream",
     "text": [
      "r.shape = (30000, 19, 19, 31)\n",
      "nbExamples = 30000\n"
     ]
    },
    {
     "name": "stdout",
     "output_type": "stream",
     "text": [
      "94/94 [==============================] - 46s 494ms/step - loss: 8.1963 - policy_loss: 2.5645 - value_loss: 0.6254 - policy_categorical_accuracy: 0.3593 - value_mse: 0.0904 - val_loss: 8.9374 - val_policy_loss: 2.6183 - val_value_loss: 0.7017 - val_policy_categorical_accuracy: 0.3587 - val_value_mse: 0.1198\n",
      "epoch 42\n"
     ]
    },
    {
     "name": "stderr",
     "output_type": "stream",
     "text": [
      "r.shape = (30000, 19, 19, 31)\n",
      "nbExamples = 30000\n"
     ]
    },
    {
     "name": "stdout",
     "output_type": "stream",
     "text": [
      "94/94 [==============================] - 46s 494ms/step - loss: 8.2132 - policy_loss: 2.5644 - value_loss: 0.6273 - policy_categorical_accuracy: 0.3656 - value_mse: 0.0912 - val_loss: 8.5311 - val_policy_loss: 2.6396 - val_value_loss: 0.6542 - val_policy_categorical_accuracy: 0.3605 - val_value_mse: 0.1004\n",
      "epoch 43\n"
     ]
    },
    {
     "name": "stderr",
     "output_type": "stream",
     "text": [
      "r.shape = (30000, 19, 19, 31)\n",
      "nbExamples = 30000\n"
     ]
    },
    {
     "name": "stdout",
     "output_type": "stream",
     "text": [
      "94/94 [==============================] - 46s 494ms/step - loss: 8.1912 - policy_loss: 2.5517 - value_loss: 0.6262 - policy_categorical_accuracy: 0.3680 - value_mse: 0.0904 - val_loss: 9.6897 - val_policy_loss: 2.7208 - val_value_loss: 0.7739 - val_policy_categorical_accuracy: 0.3488 - val_value_mse: 0.1369\n",
      "epoch 44\n"
     ]
    },
    {
     "name": "stderr",
     "output_type": "stream",
     "text": [
      "r.shape = (30000, 19, 19, 31)\n",
      "nbExamples = 30000\n"
     ]
    },
    {
     "name": "stdout",
     "output_type": "stream",
     "text": [
      "94/94 [==============================] - 47s 495ms/step - loss: 8.2161 - policy_loss: 2.5655 - value_loss: 0.6275 - policy_categorical_accuracy: 0.3656 - value_mse: 0.0906 - val_loss: 9.0479 - val_policy_loss: 2.6364 - val_value_loss: 0.7120 - val_policy_categorical_accuracy: 0.3598 - val_value_mse: 0.1167\n",
      "epoch 45\n"
     ]
    },
    {
     "name": "stderr",
     "output_type": "stream",
     "text": [
      "r.shape = (30000, 19, 19, 31)\n",
      "nbExamples = 30000\n"
     ]
    },
    {
     "name": "stdout",
     "output_type": "stream",
     "text": [
      "94/94 [==============================] - 46s 494ms/step - loss: 8.1889 - policy_loss: 2.5470 - value_loss: 0.6265 - policy_categorical_accuracy: 0.3673 - value_mse: 0.0897 - val_loss: 13.3045 - val_policy_loss: 2.7129 - val_value_loss: 1.1765 - val_policy_categorical_accuracy: 0.3455 - val_value_mse: 0.2146\n",
      "epoch 46\n"
     ]
    },
    {
     "name": "stderr",
     "output_type": "stream",
     "text": [
      "r.shape = (30000, 19, 19, 31)\n",
      "nbExamples = 30000\n"
     ]
    },
    {
     "name": "stdout",
     "output_type": "stream",
     "text": [
      "94/94 [==============================] - 47s 495ms/step - loss: 8.2161 - policy_loss: 2.5500 - value_loss: 0.6292 - policy_categorical_accuracy: 0.3690 - value_mse: 0.0913 - val_loss: 8.5006 - val_policy_loss: 2.5994 - val_value_loss: 0.6553 - val_policy_categorical_accuracy: 0.3682 - val_value_mse: 0.1022\n",
      "epoch 47\n"
     ]
    },
    {
     "name": "stderr",
     "output_type": "stream",
     "text": [
      "r.shape = (30000, 19, 19, 31)\n",
      "nbExamples = 30000\n"
     ]
    },
    {
     "name": "stdout",
     "output_type": "stream",
     "text": [
      "94/94 [==============================] - 47s 495ms/step - loss: 8.2564 - policy_loss: 2.5614 - value_loss: 0.6324 - policy_categorical_accuracy: 0.3636 - value_mse: 0.0937 - val_loss: 9.1210 - val_policy_loss: 2.7169 - val_value_loss: 0.7112 - val_policy_categorical_accuracy: 0.3432 - val_value_mse: 0.1149\n",
      "epoch 48\n"
     ]
    },
    {
     "name": "stderr",
     "output_type": "stream",
     "text": [
      "r.shape = (30000, 19, 19, 31)\n",
      "nbExamples = 30000\n"
     ]
    },
    {
     "name": "stdout",
     "output_type": "stream",
     "text": [
      "94/94 [==============================] - 47s 496ms/step - loss: 8.1757 - policy_loss: 2.5280 - value_loss: 0.6271 - policy_categorical_accuracy: 0.3681 - value_mse: 0.0902 - val_loss: 8.7591 - val_policy_loss: 2.6334 - val_value_loss: 0.6803 - val_policy_categorical_accuracy: 0.3505 - val_value_mse: 0.1114\n",
      "epoch 49\n"
     ]
    },
    {
     "name": "stderr",
     "output_type": "stream",
     "text": [
      "r.shape = (30000, 19, 19, 31)\n",
      "nbExamples = 30000\n"
     ]
    },
    {
     "name": "stdout",
     "output_type": "stream",
     "text": [
      "94/94 [==============================] - 47s 496ms/step - loss: 8.1670 - policy_loss: 2.5415 - value_loss: 0.6247 - policy_categorical_accuracy: 0.3696 - value_mse: 0.0899 - val_loss: 9.0216 - val_policy_loss: 2.7076 - val_value_loss: 0.7012 - val_policy_categorical_accuracy: 0.3497 - val_value_mse: 0.1183\n",
      "epoch 50\n"
     ]
    },
    {
     "name": "stderr",
     "output_type": "stream",
     "text": [
      "r.shape = (30000, 19, 19, 31)\n",
      "nbExamples = 30000\n"
     ]
    },
    {
     "name": "stdout",
     "output_type": "stream",
     "text": [
      "94/94 [==============================] - 47s 496ms/step - loss: 8.1957 - policy_loss: 2.5714 - value_loss: 0.6245 - policy_categorical_accuracy: 0.3636 - value_mse: 0.0892 - val_loss: 8.6193 - val_policy_loss: 2.6131 - val_value_loss: 0.6670 - val_policy_categorical_accuracy: 0.3698 - val_value_mse: 0.1052\n",
      "epoch 51\n"
     ]
    },
    {
     "name": "stderr",
     "output_type": "stream",
     "text": [
      "r.shape = (30000, 19, 19, 31)\n",
      "nbExamples = 30000\n"
     ]
    },
    {
     "name": "stdout",
     "output_type": "stream",
     "text": [
      "94/94 [==============================] - 47s 496ms/step - loss: 8.1276 - policy_loss: 2.5231 - value_loss: 0.6223 - policy_categorical_accuracy: 0.3695 - value_mse: 0.0890 - val_loss: 9.2880 - val_policy_loss: 2.5964 - val_value_loss: 0.7431 - val_policy_categorical_accuracy: 0.3570 - val_value_mse: 0.1268\n",
      "epoch 52\n"
     ]
    },
    {
     "name": "stderr",
     "output_type": "stream",
     "text": [
      "r.shape = (30000, 19, 19, 31)\n",
      "nbExamples = 30000\n"
     ]
    },
    {
     "name": "stdout",
     "output_type": "stream",
     "text": [
      "94/94 [==============================] - 47s 496ms/step - loss: 8.1190 - policy_loss: 2.5279 - value_loss: 0.6208 - policy_categorical_accuracy: 0.3731 - value_mse: 0.0879 - val_loss: 8.6532 - val_policy_loss: 2.6181 - val_value_loss: 0.6702 - val_policy_categorical_accuracy: 0.3587 - val_value_mse: 0.1055\n",
      "epoch 53\n"
     ]
    },
    {
     "name": "stderr",
     "output_type": "stream",
     "text": [
      "r.shape = (30000, 19, 19, 31)\n",
      "nbExamples = 30000\n"
     ]
    },
    {
     "name": "stdout",
     "output_type": "stream",
     "text": [
      "94/94 [==============================] - 46s 495ms/step - loss: 8.1394 - policy_loss: 2.5362 - value_loss: 0.6222 - policy_categorical_accuracy: 0.3730 - value_mse: 0.0889 - val_loss: 8.3130 - val_policy_loss: 2.6169 - val_value_loss: 0.6325 - val_policy_categorical_accuracy: 0.3648 - val_value_mse: 0.0919\n",
      "epoch 54\n"
     ]
    },
    {
     "name": "stderr",
     "output_type": "stream",
     "text": [
      "r.shape = (30000, 19, 19, 31)\n",
      "nbExamples = 30000\n"
     ]
    },
    {
     "name": "stdout",
     "output_type": "stream",
     "text": [
      "94/94 [==============================] - 47s 496ms/step - loss: 8.1147 - policy_loss: 2.5253 - value_loss: 0.6207 - policy_categorical_accuracy: 0.3752 - value_mse: 0.0884 - val_loss: 9.4971 - val_policy_loss: 2.7216 - val_value_loss: 0.7525 - val_policy_categorical_accuracy: 0.3555 - val_value_mse: 0.1271\n",
      "epoch 55\n"
     ]
    },
    {
     "name": "stderr",
     "output_type": "stream",
     "text": [
      "r.shape = (30000, 19, 19, 31)\n",
      "nbExamples = 30000\n"
     ]
    },
    {
     "name": "stdout",
     "output_type": "stream",
     "text": [
      "94/94 [==============================] - 47s 496ms/step - loss: 8.1161 - policy_loss: 2.5216 - value_loss: 0.6212 - policy_categorical_accuracy: 0.3714 - value_mse: 0.0894 - val_loss: 8.6729 - val_policy_loss: 2.6320 - val_value_loss: 0.6708 - val_policy_categorical_accuracy: 0.3633 - val_value_mse: 0.1079\n",
      "epoch 56\n"
     ]
    },
    {
     "name": "stderr",
     "output_type": "stream",
     "text": [
      "r.shape = (30000, 19, 19, 31)\n",
      "nbExamples = 30000\n"
     ]
    },
    {
     "name": "stdout",
     "output_type": "stream",
     "text": [
      "94/94 [==============================] - 47s 496ms/step - loss: 8.1708 - policy_loss: 2.5410 - value_loss: 0.6252 - policy_categorical_accuracy: 0.3677 - value_mse: 0.0894 - val_loss: 9.1432 - val_policy_loss: 2.6850 - val_value_loss: 0.7172 - val_policy_categorical_accuracy: 0.3515 - val_value_mse: 0.1186\n",
      "epoch 57\n"
     ]
    },
    {
     "name": "stderr",
     "output_type": "stream",
     "text": [
      "r.shape = (30000, 19, 19, 31)\n",
      "nbExamples = 30000\n"
     ]
    },
    {
     "name": "stdout",
     "output_type": "stream",
     "text": [
      "94/94 [==============================] - 47s 495ms/step - loss: 8.1272 - policy_loss: 2.5213 - value_loss: 0.6225 - policy_categorical_accuracy: 0.3732 - value_mse: 0.0880 - val_loss: 9.0265 - val_policy_loss: 2.6813 - val_value_loss: 0.7047 - val_policy_categorical_accuracy: 0.3473 - val_value_mse: 0.1144\n",
      "epoch 58\n"
     ]
    },
    {
     "name": "stderr",
     "output_type": "stream",
     "text": [
      "r.shape = (30000, 19, 19, 31)\n",
      "nbExamples = 30000\n"
     ]
    },
    {
     "name": "stdout",
     "output_type": "stream",
     "text": [
      "94/94 [==============================] - 47s 496ms/step - loss: 8.0929 - policy_loss: 2.5015 - value_loss: 0.6209 - policy_categorical_accuracy: 0.3765 - value_mse: 0.0884 - val_loss: 9.9632 - val_policy_loss: 2.6246 - val_value_loss: 0.8150 - val_policy_categorical_accuracy: 0.3647 - val_value_mse: 0.1440\n",
      "epoch 59\n"
     ]
    },
    {
     "name": "stderr",
     "output_type": "stream",
     "text": [
      "r.shape = (30000, 19, 19, 31)\n",
      "nbExamples = 30000\n"
     ]
    },
    {
     "name": "stdout",
     "output_type": "stream",
     "text": [
      "94/94 [==============================] - 47s 496ms/step - loss: 8.1294 - policy_loss: 2.5307 - value_loss: 0.6217 - policy_categorical_accuracy: 0.3685 - value_mse: 0.0885 - val_loss: 8.3785 - val_policy_loss: 2.6324 - val_value_loss: 0.6381 - val_policy_categorical_accuracy: 0.3607 - val_value_mse: 0.0959\n",
      "epoch 60\n"
     ]
    },
    {
     "name": "stderr",
     "output_type": "stream",
     "text": [
      "r.shape = (30000, 19, 19, 31)\n",
      "nbExamples = 30000\n"
     ]
    },
    {
     "name": "stdout",
     "output_type": "stream",
     "text": [
      "94/94 [==============================] - 47s 496ms/step - loss: 8.0911 - policy_loss: 2.5308 - value_loss: 0.6174 - policy_categorical_accuracy: 0.3707 - value_mse: 0.0873 - val_loss: 8.3449 - val_policy_loss: 2.5879 - val_value_loss: 0.6393 - val_policy_categorical_accuracy: 0.3588 - val_value_mse: 0.0980\n",
      "epoch 61\n"
     ]
    },
    {
     "name": "stderr",
     "output_type": "stream",
     "text": [
      "r.shape = (30000, 19, 19, 31)\n",
      "nbExamples = 30000\n"
     ]
    },
    {
     "name": "stdout",
     "output_type": "stream",
     "text": [
      "94/94 [==============================] - 47s 496ms/step - loss: 8.0981 - policy_loss: 2.5043 - value_loss: 0.6212 - policy_categorical_accuracy: 0.3763 - value_mse: 0.0886 - val_loss: 8.5742 - val_policy_loss: 2.6136 - val_value_loss: 0.6619 - val_policy_categorical_accuracy: 0.3552 - val_value_mse: 0.1036\n",
      "epoch 62\n"
     ]
    },
    {
     "name": "stderr",
     "output_type": "stream",
     "text": [
      "r.shape = (30000, 19, 19, 31)\n",
      "nbExamples = 30000\n"
     ]
    },
    {
     "name": "stdout",
     "output_type": "stream",
     "text": [
      "94/94 [==============================] - 47s 495ms/step - loss: 8.1023 - policy_loss: 2.5127 - value_loss: 0.6207 - policy_categorical_accuracy: 0.3702 - value_mse: 0.0880 - val_loss: 8.9791 - val_policy_loss: 2.5909 - val_value_loss: 0.7094 - val_policy_categorical_accuracy: 0.3678 - val_value_mse: 0.1114\n",
      "epoch 63\n"
     ]
    },
    {
     "name": "stderr",
     "output_type": "stream",
     "text": [
      "r.shape = (30000, 19, 19, 31)\n",
      "nbExamples = 30000\n"
     ]
    },
    {
     "name": "stdout",
     "output_type": "stream",
     "text": [
      "94/94 [==============================] - 47s 496ms/step - loss: 8.0884 - policy_loss: 2.5160 - value_loss: 0.6188 - policy_categorical_accuracy: 0.3758 - value_mse: 0.0889 - val_loss: 9.0382 - val_policy_loss: 2.5783 - val_value_loss: 0.7174 - val_policy_categorical_accuracy: 0.3700 - val_value_mse: 0.1193\n",
      "epoch 64\n"
     ]
    },
    {
     "name": "stderr",
     "output_type": "stream",
     "text": [
      "r.shape = (30000, 19, 19, 31)\n",
      "nbExamples = 30000\n"
     ]
    },
    {
     "name": "stdout",
     "output_type": "stream",
     "text": [
      "94/94 [==============================] - 47s 496ms/step - loss: 8.0533 - policy_loss: 2.5087 - value_loss: 0.6157 - policy_categorical_accuracy: 0.3741 - value_mse: 0.0863 - val_loss: 8.6269 - val_policy_loss: 2.6059 - val_value_loss: 0.6686 - val_policy_categorical_accuracy: 0.3602 - val_value_mse: 0.1101\n",
      "epoch 65\n"
     ]
    },
    {
     "name": "stderr",
     "output_type": "stream",
     "text": [
      "r.shape = (30000, 19, 19, 31)\n",
      "nbExamples = 30000\n"
     ]
    },
    {
     "name": "stdout",
     "output_type": "stream",
     "text": [
      "94/94 [==============================] - 47s 496ms/step - loss: 8.1339 - policy_loss: 2.5383 - value_loss: 0.6213 - policy_categorical_accuracy: 0.3701 - value_mse: 0.0886 - val_loss: 8.3923 - val_policy_loss: 2.5191 - val_value_loss: 0.6522 - val_policy_categorical_accuracy: 0.3690 - val_value_mse: 0.1032\n",
      "epoch 66\n"
     ]
    },
    {
     "name": "stderr",
     "output_type": "stream",
     "text": [
      "r.shape = (30000, 19, 19, 31)\n",
      "nbExamples = 30000\n"
     ]
    },
    {
     "name": "stdout",
     "output_type": "stream",
     "text": [
      "94/94 [==============================] - 47s 496ms/step - loss: 8.0889 - policy_loss: 2.5209 - value_loss: 0.6183 - policy_categorical_accuracy: 0.3667 - value_mse: 0.0865 - val_loss: 9.6970 - val_policy_loss: 2.5561 - val_value_loss: 0.7931 - val_policy_categorical_accuracy: 0.3690 - val_value_mse: 0.1419\n",
      "epoch 67\n"
     ]
    },
    {
     "name": "stderr",
     "output_type": "stream",
     "text": [
      "r.shape = (30000, 19, 19, 31)\n",
      "nbExamples = 30000\n"
     ]
    },
    {
     "name": "stdout",
     "output_type": "stream",
     "text": [
      "94/94 [==============================] - 47s 496ms/step - loss: 8.0671 - policy_loss: 2.4887 - value_loss: 0.6195 - policy_categorical_accuracy: 0.3788 - value_mse: 0.0881 - val_loss: 8.1858 - val_policy_loss: 2.5890 - val_value_loss: 0.6215 - val_policy_categorical_accuracy: 0.3675 - val_value_mse: 0.0891\n",
      "epoch 68\n"
     ]
    },
    {
     "name": "stderr",
     "output_type": "stream",
     "text": [
      "r.shape = (30000, 19, 19, 31)\n",
      "nbExamples = 30000\n"
     ]
    },
    {
     "name": "stdout",
     "output_type": "stream",
     "text": [
      "94/94 [==============================] - 47s 496ms/step - loss: 8.0716 - policy_loss: 2.5186 - value_loss: 0.6166 - policy_categorical_accuracy: 0.3736 - value_mse: 0.0859 - val_loss: 8.5178 - val_policy_loss: 2.5899 - val_value_loss: 0.6583 - val_policy_categorical_accuracy: 0.3723 - val_value_mse: 0.1015\n",
      "epoch 69\n"
     ]
    },
    {
     "name": "stderr",
     "output_type": "stream",
     "text": [
      "r.shape = (30000, 19, 19, 31)\n",
      "nbExamples = 30000\n"
     ]
    },
    {
     "name": "stdout",
     "output_type": "stream",
     "text": [
      "94/94 [==============================] - 47s 496ms/step - loss: 8.0567 - policy_loss: 2.4950 - value_loss: 0.6176 - policy_categorical_accuracy: 0.3762 - value_mse: 0.0883 - val_loss: 9.7104 - val_policy_loss: 2.6701 - val_value_loss: 0.7819 - val_policy_categorical_accuracy: 0.3670 - val_value_mse: 0.1417\n",
      "epoch 70\n"
     ]
    },
    {
     "name": "stderr",
     "output_type": "stream",
     "text": [
      "r.shape = (30000, 19, 19, 31)\n",
      "nbExamples = 30000\n"
     ]
    },
    {
     "name": "stdout",
     "output_type": "stream",
     "text": [
      "94/94 [==============================] - 47s 495ms/step - loss: 8.0763 - policy_loss: 2.4998 - value_loss: 0.6192 - policy_categorical_accuracy: 0.3736 - value_mse: 0.0879 - val_loss: 10.0194 - val_policy_loss: 2.6846 - val_value_loss: 0.8146 - val_policy_categorical_accuracy: 0.3552 - val_value_mse: 0.1506\n",
      "epoch 71\n"
     ]
    },
    {
     "name": "stderr",
     "output_type": "stream",
     "text": [
      "r.shape = (30000, 19, 19, 31)\n",
      "nbExamples = 30000\n"
     ]
    },
    {
     "name": "stdout",
     "output_type": "stream",
     "text": [
      "94/94 [==============================] - 47s 496ms/step - loss: 7.9998 - policy_loss: 2.4995 - value_loss: 0.6108 - policy_categorical_accuracy: 0.3771 - value_mse: 0.0856 - val_loss: 9.3215 - val_policy_loss: 2.6963 - val_value_loss: 0.7358 - val_policy_categorical_accuracy: 0.3448 - val_value_mse: 0.1222\n",
      "epoch 72\n"
     ]
    },
    {
     "name": "stderr",
     "output_type": "stream",
     "text": [
      "r.shape = (30000, 19, 19, 31)\n",
      "nbExamples = 30000\n"
     ]
    },
    {
     "name": "stdout",
     "output_type": "stream",
     "text": [
      "94/94 [==============================] - 47s 495ms/step - loss: 8.0343 - policy_loss: 2.5023 - value_loss: 0.6143 - policy_categorical_accuracy: 0.3725 - value_mse: 0.0853 - val_loss: 8.6064 - val_policy_loss: 2.6393 - val_value_loss: 0.6626 - val_policy_categorical_accuracy: 0.3555 - val_value_mse: 0.1048\n",
      "epoch 73\n"
     ]
    },
    {
     "name": "stderr",
     "output_type": "stream",
     "text": [
      "r.shape = (30000, 19, 19, 31)\n",
      "nbExamples = 30000\n"
     ]
    },
    {
     "name": "stdout",
     "output_type": "stream",
     "text": [
      "94/94 [==============================] - 47s 496ms/step - loss: 8.0336 - policy_loss: 2.4924 - value_loss: 0.6153 - policy_categorical_accuracy: 0.3778 - value_mse: 0.0871 - val_loss: 8.6939 - val_policy_loss: 2.6462 - val_value_loss: 0.6716 - val_policy_categorical_accuracy: 0.3530 - val_value_mse: 0.1048\n",
      "epoch 74\n"
     ]
    },
    {
     "name": "stderr",
     "output_type": "stream",
     "text": [
      "r.shape = (30000, 19, 19, 31)\n",
      "nbExamples = 30000\n"
     ]
    },
    {
     "name": "stdout",
     "output_type": "stream",
     "text": [
      "94/94 [==============================] - 47s 496ms/step - loss: 8.0232 - policy_loss: 2.5000 - value_loss: 0.6133 - policy_categorical_accuracy: 0.3743 - value_mse: 0.0850 - val_loss: 8.6259 - val_policy_loss: 2.5379 - val_value_loss: 0.6761 - val_policy_categorical_accuracy: 0.3735 - val_value_mse: 0.1062\n",
      "epoch 75\n"
     ]
    },
    {
     "name": "stderr",
     "output_type": "stream",
     "text": [
      "r.shape = (30000, 19, 19, 31)\n",
      "nbExamples = 30000\n"
     ]
    },
    {
     "name": "stdout",
     "output_type": "stream",
     "text": [
      "94/94 [==============================] - 47s 496ms/step - loss: 8.0357 - policy_loss: 2.4866 - value_loss: 0.6162 - policy_categorical_accuracy: 0.3778 - value_mse: 0.0868 - val_loss: 10.7112 - val_policy_loss: 2.6667 - val_value_loss: 0.8935 - val_policy_categorical_accuracy: 0.3488 - val_value_mse: 0.1612\n",
      "epoch 76\n"
     ]
    },
    {
     "name": "stderr",
     "output_type": "stream",
     "text": [
      "r.shape = (30000, 19, 19, 31)\n",
      "nbExamples = 30000\n"
     ]
    },
    {
     "name": "stdout",
     "output_type": "stream",
     "text": [
      "94/94 [==============================] - 47s 495ms/step - loss: 8.0430 - policy_loss: 2.5004 - value_loss: 0.6155 - policy_categorical_accuracy: 0.3739 - value_mse: 0.0861 - val_loss: 9.3472 - val_policy_loss: 2.6105 - val_value_loss: 0.7482 - val_policy_categorical_accuracy: 0.3685 - val_value_mse: 0.1261\n",
      "epoch 77\n"
     ]
    },
    {
     "name": "stderr",
     "output_type": "stream",
     "text": [
      "r.shape = (30000, 19, 19, 31)\n",
      "nbExamples = 30000\n"
     ]
    },
    {
     "name": "stdout",
     "output_type": "stream",
     "text": [
      "94/94 [==============================] - 47s 495ms/step - loss: 8.0351 - policy_loss: 2.4919 - value_loss: 0.6156 - policy_categorical_accuracy: 0.3756 - value_mse: 0.0854 - val_loss: 11.7666 - val_policy_loss: 2.7078 - val_value_loss: 1.0062 - val_policy_categorical_accuracy: 0.3520 - val_value_mse: 0.1604\n",
      "epoch 78\n"
     ]
    },
    {
     "name": "stderr",
     "output_type": "stream",
     "text": [
      "r.shape = (30000, 19, 19, 31)\n",
      "nbExamples = 30000\n"
     ]
    },
    {
     "name": "stdout",
     "output_type": "stream",
     "text": [
      "94/94 [==============================] - 47s 496ms/step - loss: 8.0456 - policy_loss: 2.4741 - value_loss: 0.6187 - policy_categorical_accuracy: 0.3788 - value_mse: 0.0873 - val_loss: 18.2245 - val_policy_loss: 2.6118 - val_value_loss: 1.7344 - val_policy_categorical_accuracy: 0.3715 - val_value_mse: 0.2665\n",
      "epoch 79\n"
     ]
    },
    {
     "name": "stderr",
     "output_type": "stream",
     "text": [
      "r.shape = (30000, 19, 19, 31)\n",
      "nbExamples = 30000\n"
     ]
    },
    {
     "name": "stdout",
     "output_type": "stream",
     "text": [
      "94/94 [==============================] - 47s 496ms/step - loss: 8.0430 - policy_loss: 2.4950 - value_loss: 0.6161 - policy_categorical_accuracy: 0.3761 - value_mse: 0.0861 - val_loss: 14.6369 - val_policy_loss: 2.5861 - val_value_loss: 1.3386 - val_policy_categorical_accuracy: 0.3685 - val_value_mse: 0.2195\n",
      "epoch 80\n"
     ]
    },
    {
     "name": "stderr",
     "output_type": "stream",
     "text": [
      "r.shape = (30000, 19, 19, 31)\n",
      "nbExamples = 30000\n"
     ]
    },
    {
     "name": "stdout",
     "output_type": "stream",
     "text": [
      "94/94 [==============================] - 47s 496ms/step - loss: 8.0569 - policy_loss: 2.4990 - value_loss: 0.6172 - policy_categorical_accuracy: 0.3730 - value_mse: 0.0857 - val_loss: 9.1700 - val_policy_loss: 2.6676 - val_value_loss: 0.7221 - val_policy_categorical_accuracy: 0.3598 - val_value_mse: 0.1168\n",
      "epoch 81\n"
     ]
    },
    {
     "name": "stderr",
     "output_type": "stream",
     "text": [
      "r.shape = (30000, 19, 19, 31)\n",
      "nbExamples = 30000\n"
     ]
    },
    {
     "name": "stdout",
     "output_type": "stream",
     "text": [
      "94/94 [==============================] - 47s 496ms/step - loss: 8.0403 - policy_loss: 2.5004 - value_loss: 0.6152 - policy_categorical_accuracy: 0.3698 - value_mse: 0.0854 - val_loss: 9.3929 - val_policy_loss: 2.5811 - val_value_loss: 0.7565 - val_policy_categorical_accuracy: 0.3693 - val_value_mse: 0.1323\n",
      "epoch 82\n"
     ]
    },
    {
     "name": "stderr",
     "output_type": "stream",
     "text": [
      "r.shape = (30000, 19, 19, 31)\n",
      "nbExamples = 30000\n"
     ]
    },
    {
     "name": "stdout",
     "output_type": "stream",
     "text": [
      "94/94 [==============================] - 47s 496ms/step - loss: 8.0126 - policy_loss: 2.4915 - value_loss: 0.6131 - policy_categorical_accuracy: 0.3765 - value_mse: 0.0857 - val_loss: 8.0869 - val_policy_loss: 2.5284 - val_value_loss: 0.6172 - val_policy_categorical_accuracy: 0.3667 - val_value_mse: 0.0878\n",
      "epoch 83\n"
     ]
    },
    {
     "name": "stderr",
     "output_type": "stream",
     "text": [
      "r.shape = (30000, 19, 19, 31)\n",
      "nbExamples = 30000\n"
     ]
    },
    {
     "name": "stdout",
     "output_type": "stream",
     "text": [
      "94/94 [==============================] - 47s 496ms/step - loss: 7.9412 - policy_loss: 2.4662 - value_loss: 0.6080 - policy_categorical_accuracy: 0.3815 - value_mse: 0.0829 - val_loss: 8.4072 - val_policy_loss: 2.5471 - val_value_loss: 0.6508 - val_policy_categorical_accuracy: 0.3730 - val_value_mse: 0.1005\n",
      "epoch 84\n"
     ]
    },
    {
     "name": "stderr",
     "output_type": "stream",
     "text": [
      "r.shape = (30000, 19, 19, 31)\n",
      "nbExamples = 30000\n"
     ]
    },
    {
     "name": "stdout",
     "output_type": "stream",
     "text": [
      "94/94 [==============================] - 47s 496ms/step - loss: 7.9524 - policy_loss: 2.4695 - value_loss: 0.6089 - policy_categorical_accuracy: 0.3785 - value_mse: 0.0832 - val_loss: 9.5161 - val_policy_loss: 2.5818 - val_value_loss: 0.7702 - val_policy_categorical_accuracy: 0.3627 - val_value_mse: 0.1439\n",
      "epoch 85\n"
     ]
    },
    {
     "name": "stderr",
     "output_type": "stream",
     "text": [
      "r.shape = (30000, 19, 19, 31)\n",
      "nbExamples = 30000\n"
     ]
    },
    {
     "name": "stdout",
     "output_type": "stream",
     "text": [
      "94/94 [==============================] - 47s 496ms/step - loss: 8.0155 - policy_loss: 2.4677 - value_loss: 0.6161 - policy_categorical_accuracy: 0.3785 - value_mse: 0.0867 - val_loss: 13.7898 - val_policy_loss: 2.6053 - val_value_loss: 1.2424 - val_policy_categorical_accuracy: 0.3640 - val_value_mse: 0.2430\n",
      "epoch 86\n"
     ]
    },
    {
     "name": "stderr",
     "output_type": "stream",
     "text": [
      "r.shape = (30000, 19, 19, 31)\n",
      "nbExamples = 30000\n"
     ]
    },
    {
     "name": "stdout",
     "output_type": "stream",
     "text": [
      "94/94 [==============================] - 47s 495ms/step - loss: 7.9866 - policy_loss: 2.4823 - value_loss: 0.6112 - policy_categorical_accuracy: 0.3727 - value_mse: 0.0839 - val_loss: 9.4156 - val_policy_loss: 2.6901 - val_value_loss: 0.7469 - val_policy_categorical_accuracy: 0.3542 - val_value_mse: 0.1362\n",
      "epoch 87\n"
     ]
    },
    {
     "name": "stderr",
     "output_type": "stream",
     "text": [
      "r.shape = (30000, 19, 19, 31)\n",
      "nbExamples = 30000\n"
     ]
    },
    {
     "name": "stdout",
     "output_type": "stream",
     "text": [
      "94/94 [==============================] - 47s 496ms/step - loss: 8.0344 - policy_loss: 2.4896 - value_loss: 0.6157 - policy_categorical_accuracy: 0.3725 - value_mse: 0.0854 - val_loss: 9.6350 - val_policy_loss: 2.5988 - val_value_loss: 0.7815 - val_policy_categorical_accuracy: 0.3588 - val_value_mse: 0.1369\n",
      "epoch 88\n"
     ]
    },
    {
     "name": "stderr",
     "output_type": "stream",
     "text": [
      "r.shape = (30000, 19, 19, 31)\n",
      "nbExamples = 30000\n"
     ]
    },
    {
     "name": "stdout",
     "output_type": "stream",
     "text": [
      "94/94 [==============================] - 47s 496ms/step - loss: 8.0494 - policy_loss: 2.4805 - value_loss: 0.6184 - policy_categorical_accuracy: 0.3748 - value_mse: 0.0865 - val_loss: 9.7651 - val_policy_loss: 2.5133 - val_value_loss: 0.8054 - val_policy_categorical_accuracy: 0.3690 - val_value_mse: 0.1441\n",
      "epoch 89\n"
     ]
    },
    {
     "name": "stderr",
     "output_type": "stream",
     "text": [
      "r.shape = (30000, 19, 19, 31)\n",
      "nbExamples = 30000\n"
     ]
    },
    {
     "name": "stdout",
     "output_type": "stream",
     "text": [
      "94/94 [==============================] - 47s 495ms/step - loss: 7.9632 - policy_loss: 2.4585 - value_loss: 0.6113 - policy_categorical_accuracy: 0.3794 - value_mse: 0.0833 - val_loss: 13.6637 - val_policy_loss: 2.5976 - val_value_loss: 1.2292 - val_policy_categorical_accuracy: 0.3690 - val_value_mse: 0.1712\n",
      "epoch 90\n"
     ]
    },
    {
     "name": "stderr",
     "output_type": "stream",
     "text": [
      "r.shape = (30000, 19, 19, 31)\n",
      "nbExamples = 30000\n"
     ]
    },
    {
     "name": "stdout",
     "output_type": "stream",
     "text": [
      "94/94 [==============================] - 47s 496ms/step - loss: 7.9860 - policy_loss: 2.4614 - value_loss: 0.6135 - policy_categorical_accuracy: 0.3774 - value_mse: 0.0847 - val_loss: 8.8829 - val_policy_loss: 2.5696 - val_value_loss: 0.7011 - val_policy_categorical_accuracy: 0.3642 - val_value_mse: 0.1140\n",
      "epoch 91\n"
     ]
    },
    {
     "name": "stderr",
     "output_type": "stream",
     "text": [
      "r.shape = (30000, 19, 19, 31)\n",
      "nbExamples = 30000\n"
     ]
    },
    {
     "name": "stdout",
     "output_type": "stream",
     "text": [
      "94/94 [==============================] - 47s 496ms/step - loss: 7.9795 - policy_loss: 2.4807 - value_loss: 0.6106 - policy_categorical_accuracy: 0.3769 - value_mse: 0.0844 - val_loss: 8.6839 - val_policy_loss: 2.5399 - val_value_loss: 0.6823 - val_policy_categorical_accuracy: 0.3743 - val_value_mse: 0.1143\n",
      "epoch 92\n"
     ]
    },
    {
     "name": "stderr",
     "output_type": "stream",
     "text": [
      "r.shape = (30000, 19, 19, 31)\n",
      "nbExamples = 30000\n"
     ]
    },
    {
     "name": "stdout",
     "output_type": "stream",
     "text": [
      "94/94 [==============================] - 47s 496ms/step - loss: 7.9618 - policy_loss: 2.4621 - value_loss: 0.6107 - policy_categorical_accuracy: 0.3785 - value_mse: 0.0838 - val_loss: 10.7601 - val_policy_loss: 2.5858 - val_value_loss: 0.9079 - val_policy_categorical_accuracy: 0.3708 - val_value_mse: 0.1529\n",
      "epoch 93\n"
     ]
    },
    {
     "name": "stderr",
     "output_type": "stream",
     "text": [
      "r.shape = (30000, 19, 19, 31)\n",
      "nbExamples = 30000\n"
     ]
    },
    {
     "name": "stdout",
     "output_type": "stream",
     "text": [
      "94/94 [==============================] - 47s 495ms/step - loss: 7.9591 - policy_loss: 2.4449 - value_loss: 0.6123 - policy_categorical_accuracy: 0.3838 - value_mse: 0.0848 - val_loss: 8.5535 - val_policy_loss: 2.4564 - val_value_loss: 0.6771 - val_policy_categorical_accuracy: 0.3757 - val_value_mse: 0.1102\n",
      "epoch 94\n"
     ]
    },
    {
     "name": "stderr",
     "output_type": "stream",
     "text": [
      "r.shape = (30000, 19, 19, 31)\n",
      "nbExamples = 30000\n"
     ]
    },
    {
     "name": "stdout",
     "output_type": "stream",
     "text": [
      "94/94 [==============================] - 47s 495ms/step - loss: 7.9988 - policy_loss: 2.4866 - value_loss: 0.6121 - policy_categorical_accuracy: 0.3737 - value_mse: 0.0849 - val_loss: 8.2357 - val_policy_loss: 2.5615 - val_value_loss: 0.6301 - val_policy_categorical_accuracy: 0.3672 - val_value_mse: 0.0906\n",
      "epoch 95\n"
     ]
    },
    {
     "name": "stderr",
     "output_type": "stream",
     "text": [
      "r.shape = (30000, 19, 19, 31)\n",
      "nbExamples = 30000\n"
     ]
    },
    {
     "name": "stdout",
     "output_type": "stream",
     "text": [
      "94/94 [==============================] - 47s 496ms/step - loss: 7.9928 - policy_loss: 2.4554 - value_loss: 0.6149 - policy_categorical_accuracy: 0.3813 - value_mse: 0.0870 - val_loss: 8.5906 - val_policy_loss: 2.5010 - val_value_loss: 0.6763 - val_policy_categorical_accuracy: 0.3798 - val_value_mse: 0.1069\n",
      "epoch 96\n"
     ]
    },
    {
     "name": "stderr",
     "output_type": "stream",
     "text": [
      "r.shape = (30000, 19, 19, 31)\n",
      "nbExamples = 30000\n"
     ]
    },
    {
     "name": "stdout",
     "output_type": "stream",
     "text": [
      "94/94 [==============================] - 47s 496ms/step - loss: 7.9451 - policy_loss: 2.4732 - value_loss: 0.6076 - policy_categorical_accuracy: 0.3735 - value_mse: 0.0821 - val_loss: 8.7398 - val_policy_loss: 2.6258 - val_value_loss: 0.6790 - val_policy_categorical_accuracy: 0.3667 - val_value_mse: 0.1069\n",
      "epoch 97\n"
     ]
    },
    {
     "name": "stderr",
     "output_type": "stream",
     "text": [
      "r.shape = (30000, 19, 19, 31)\n",
      "nbExamples = 30000\n"
     ]
    },
    {
     "name": "stdout",
     "output_type": "stream",
     "text": [
      "94/94 [==============================] - 47s 496ms/step - loss: 7.9628 - policy_loss: 2.4675 - value_loss: 0.6102 - policy_categorical_accuracy: 0.3828 - value_mse: 0.0835 - val_loss: 8.7779 - val_policy_loss: 2.5466 - val_value_loss: 0.6920 - val_policy_categorical_accuracy: 0.3665 - val_value_mse: 0.1081\n",
      "epoch 98\n"
     ]
    },
    {
     "name": "stderr",
     "output_type": "stream",
     "text": [
      "r.shape = (30000, 19, 19, 31)\n",
      "nbExamples = 30000\n"
     ]
    },
    {
     "name": "stdout",
     "output_type": "stream",
     "text": [
      "94/94 [==============================] - 47s 496ms/step - loss: 7.9718 - policy_loss: 2.4535 - value_loss: 0.6128 - policy_categorical_accuracy: 0.3815 - value_mse: 0.0841 - val_loss: 8.7426 - val_policy_loss: 2.5135 - val_value_loss: 0.6918 - val_policy_categorical_accuracy: 0.3798 - val_value_mse: 0.1166\n",
      "epoch 99\n"
     ]
    },
    {
     "name": "stderr",
     "output_type": "stream",
     "text": [
      "r.shape = (30000, 19, 19, 31)\n",
      "nbExamples = 30000\n"
     ]
    },
    {
     "name": "stdout",
     "output_type": "stream",
     "text": [
      "94/94 [==============================] - 47s 496ms/step - loss: 7.9689 - policy_loss: 2.4568 - value_loss: 0.6121 - policy_categorical_accuracy: 0.3822 - value_mse: 0.0852 - val_loss: 8.1689 - val_policy_loss: 2.5158 - val_value_loss: 0.6278 - val_policy_categorical_accuracy: 0.3658 - val_value_mse: 0.0923\n",
      "epoch 100\n"
     ]
    },
    {
     "name": "stderr",
     "output_type": "stream",
     "text": [
      "r.shape = (30000, 19, 19, 31)\n",
      "nbExamples = 30000\n"
     ]
    },
    {
     "name": "stdout",
     "output_type": "stream",
     "text": [
      "94/94 [==============================] - 47s 496ms/step - loss: 7.9064 - policy_loss: 2.4517 - value_loss: 0.6057 - policy_categorical_accuracy: 0.3830 - value_mse: 0.0824 - val_loss: 11.6503 - val_policy_loss: 2.5142 - val_value_loss: 1.0148 - val_policy_categorical_accuracy: 0.3763 - val_value_mse: 0.1939\n"
     ]
    },
    {
     "name": "stderr",
     "output_type": "stream",
     "text": [
      "r.shape = (30000, 19, 19, 31)\n",
      "nbExamples = 30000\n"
     ]
    },
    {
     "name": "stdout",
     "output_type": "stream",
     "text": [
      "118/118 [==============================] - 18s 132ms/step - loss: 11.6476 - policy_loss: 2.5191 - value_loss: 1.0139 - policy_categorical_accuracy: 0.3729 - value_mse: 0.1943\n",
      "val = [11.647640228271484, 2.519108533859253, 1.0139331817626953, 0.37290000915527344, 0.1942604035139084]\n"
     ]
    },
    {
     "name": "stderr",
     "output_type": "stream",
     "text": [
      "/opt/saturncloud/envs/saturn/lib/python3.10/site-packages/keras/src/engine/training.py:3103: UserWarning: You are saving your model as an HDF5 file via `model.save()`. This file format is considered legacy. We recommend using instead the native Keras format, e.g. `model.save('my_model.keras')`.\n",
      "  saving_api.save_model(\n"
     ]
    }
   ],
   "source": [
    "model.compile(optimizer=keras.optimizers.Adam(learning_rate=0.01),\n",
    "              loss={'policy': 'categorical_crossentropy', 'value': 'binary_crossentropy'},\n",
    "              loss_weights={'policy': 1.0, 'value': 9.0},\n",
    "              metrics={'policy': 'categorical_accuracy', 'value': 'mse'})\n",
    "\n",
    "# Sauvegarde de l'historique\n",
    "csv_logger = tf.keras.callbacks.CSVLogger('./history_shuffleNet_Edy_Diehl_TCHEUTCHOA_DEFFO.csv', append=True)\n",
    "\n",
    "early_stopping = tf.keras.callbacks.EarlyStopping(\n",
    "    min_delta=0.001,  # minimium amount of change to count as an improvement\n",
    "    patience=5,  # how many epochs to wait before stopping\n",
    "    restore_best_weights=True,\n",
    ")\n",
    "\n",
    "for i in range(1, epochs + 1):\n",
    "    print('epoch ' + str(i))\n",
    "    golois.getBatch(input_data, policy, value, end, groups, i * N)\n",
    "    history = model.fit(input_data,\n",
    "                        {'policy': policy, 'value': value},\n",
    "                        validation_split=0.2,\n",
    "                        epochs=1, batch_size=batch, verbose=1, callbacks=[csv_logger, early_stopping])\n",
    "\n",
    "    if (i % 2 == 0):\n",
    "        gc.collect()\n",
    "    if (i % 100 == 0):\n",
    "        golois.getValidation(input_data, policy, value, end)\n",
    "        val = model.evaluate(input_data, [policy, value], verbose=1, batch_size=batch)\n",
    "        print(\"val =\", val)\n",
    "        model.save('./shuffleNet_Edy_Diehl_TCHEUTCHOA_DEFFO.h5')"
   ]
  },
  {
   "cell_type": "markdown",
   "source": [
    "Pour les données de test, nous obtenons un modèle ShuffleNet avec une Accuracy de 0.3729 pour la Policy et un MSE de 0.1942 pour la Value."
   ],
   "metadata": {
    "collapsed": false
   }
  },
  {
   "cell_type": "code",
   "execution_count": 7,
   "metadata": {
    "execution": {
     "iopub.execute_input": "2024-01-02T16:19:58.066648Z",
     "iopub.status.busy": "2024-01-02T16:19:58.066250Z",
     "iopub.status.idle": "2024-01-02T16:19:58.093898Z",
     "shell.execute_reply": "2024-01-02T16:19:58.093005Z",
     "shell.execute_reply.started": "2024-01-02T16:19:58.066622Z"
    },
    "id": "OH2aLPdf_A-1",
    "tags": []
   },
   "outputs": [
    {
     "data": {
      "text/plain": [
       "Index(['epoch', 'loss', 'policy_categorical_accuracy', 'policy_loss',\n",
       "       'val_loss', 'val_policy_categorical_accuracy', 'val_policy_loss',\n",
       "       'val_value_loss', 'val_value_mse', 'value_loss', 'value_mse'],\n",
       "      dtype='object')"
      ]
     },
     "execution_count": 7,
     "metadata": {},
     "output_type": "execute_result"
    }
   ],
   "source": [
    "history_df_shuffleNet = pd.read_csv('./history_shuffleNet_Edy_Diehl_TCHEUTCHOA_DEFFO.csv')\n",
    "history_df_shuffleNet.columns"
   ]
  },
  {
   "cell_type": "code",
   "execution_count": 8,
   "metadata": {
    "execution": {
     "iopub.execute_input": "2024-01-02T16:20:01.766720Z",
     "iopub.status.busy": "2024-01-02T16:20:01.766330Z",
     "iopub.status.idle": "2024-01-02T16:20:04.319031Z",
     "shell.execute_reply": "2024-01-02T16:20:04.318155Z",
     "shell.execute_reply.started": "2024-01-02T16:20:01.766694Z"
    },
    "id": "Gm3WQub-_kfi",
    "tags": []
   },
   "outputs": [
    {
     "name": "stdout",
     "output_type": "stream",
     "text": [
      "Minimum Policy Validation Loss: 2.4564\n",
      "Maximum Policy Validation Accuracy: 0.3798\n"
     ]
    },
    {
     "data": {
      "image/png": "[encoded data removed]",
      "text/plain": [
       "<Figure size 640x480 with 1 Axes>"
      ]
     },
     "metadata": {},
     "output_type": "display_data"
    },
    {
     "data": {
      "image/png": "[encoded data removed]",
      "text/plain": [
       "<Figure size 640x480 with 1 Axes>"
      ]
     },
     "metadata": {},
     "output_type": "display_data"
    }
   ],
   "source": [
    "history_df_shuffleNet.loc[0:, ['policy_loss', 'val_policy_loss']].plot(title=\"Policy_cross_entropy\")\n",
    "history_df_shuffleNet.loc[:, ['policy_categorical_accuracy', 'val_policy_categorical_accuracy']].plot(\n",
    "    title=\"Policy_accuracy\")\n",
    "print(\"Minimum Policy Validation Loss: {:0.4f}\".format(history_df_shuffleNet['val_policy_loss'].min()));\n",
    "print(\"Maximum Policy Validation Accuracy: {:0.4f}\".format(\n",
    "    history_df_shuffleNet['val_policy_categorical_accuracy'].max()));"
   ]
  },
  {
   "cell_type": "code",
   "execution_count": 9,
   "metadata": {
    "execution": {
     "iopub.execute_input": "2024-01-02T16:20:14.623402Z",
     "iopub.status.busy": "2024-01-02T16:20:14.622817Z",
     "iopub.status.idle": "2024-01-02T16:20:15.005328Z",
     "shell.execute_reply": "2024-01-02T16:20:15.004502Z",
     "shell.execute_reply.started": "2024-01-02T16:20:14.623373Z"
    },
    "id": "IG70FHCc_m4G",
    "tags": []
   },
   "outputs": [
    {
     "name": "stdout",
     "output_type": "stream",
     "text": [
      "Minimum Value Validation Loss: 0.6172\n",
      "Minimum Value Validation MSE: 0.0878\n"
     ]
    },
    {
     "data": {
      "image/png": "[encoded data removed]",
      "text/plain": [
       "<Figure size 640x480 with 1 Axes>"
      ]
     },
     "metadata": {},
     "output_type": "display_data"
    },
    {
     "data": {
      "image/png": "[encoded data removed]",
      "text/plain": [
       "<Figure size 640x480 with 1 Axes>"
      ]
     },
     "metadata": {},
     "output_type": "display_data"
    }
   ],
   "source": [
    "history_df_shuffleNet.loc[0:, ['value_loss', 'val_value_loss']].plot(title=\"Value_cross_entropy\")\n",
    "history_df_shuffleNet.loc[:, ['value_mse', 'val_value_mse']].plot(title=\"Value_mse\")\n",
    "print(\"Minimum Value Validation Loss: {:0.4f}\".format(history_df_shuffleNet['val_value_loss'].min()));\n",
    "print(\"Minimum Value Validation MSE: {:0.4f}\".format(history_df_shuffleNet['val_value_mse'].min()));"
   ]
  },
  {
   "cell_type": "markdown",
   "metadata": {
    "id": "kYV3lp1rHckj"
   },
   "source": [
    "## 3. Residual network\n",
    "\n",
    "Entrainons un modèle ResidualNet et notons ces performances."
   ]
  },
  {
   "cell_type": "code",
   "execution_count": 3,
   "metadata": {
    "execution": {
     "iopub.execute_input": "2024-01-02T17:07:33.334868Z",
     "iopub.status.busy": "2024-01-02T17:07:33.334476Z",
     "iopub.status.idle": "2024-01-02T17:07:33.343251Z",
     "shell.execute_reply": "2024-01-02T17:07:33.342425Z",
     "shell.execute_reply.started": "2024-01-02T17:07:33.334842Z"
    },
    "id": "aaW7LtMkHitU",
    "tags": []
   },
   "outputs": [],
   "source": [
    "batch = 1024\n",
    "filters = 32\n",
    "\n",
    "\n",
    "def SE_block(t, filters, ratio=16):\n",
    "    se_shape = (1, 1, filters)\n",
    "    se = GlobalAveragePooling2D()(t)\n",
    "    se = Reshape(se_shape)(se)\n",
    "    se = layers.Dense(filters // ratio, activation='relu', use_bias=False)(se)\n",
    "    se = layers.Dense(filters, activation='sigmoid', use_bias=False)(se)\n",
    "    x = layers.Multiply()([t, se])\n",
    "    return x\n",
    "\n",
    "\n",
    "def bottleneck_block(x, expand=6 * filters, squeeze=filters):\n",
    "    m = layers.Conv2D(expand, (1, 1), use_bias=False)(x)\n",
    "    m = layers.BatchNormalization()(m)\n",
    "    m = layers.Activation('relu')(m)\n",
    "    m = layers.DepthwiseConv2D((3, 3), padding='same', use_bias=False)(m)\n",
    "    m = layers.BatchNormalization()(m)\n",
    "    m = layers.Activation('relu')(m)\n",
    "    m = layers.Conv2D(squeeze, (1, 1), use_bias=False)(m)\n",
    "    m = layers.BatchNormalization()(m)\n",
    "    return layers.Add()([m, x])\n",
    "\n",
    "\n",
    "def bottleneck_block_res(x, expand=6 * filters, squeeze=filters):\n",
    "    m = layers.Conv2D(expand, (1, 1), use_bias=False)(x)\n",
    "    m = layers.BatchNormalization()(m)\n",
    "    m = layers.Activation('relu')(m)\n",
    "    m = layers.DepthwiseConv2D((3, 3), padding='same', use_bias=False)(m)\n",
    "    m = layers.BatchNormalization()(m)\n",
    "    m = layers.Activation('relu')(m)\n",
    "    m = layers.Conv2D(squeeze, (1, 1), use_bias=False)(m)\n",
    "    m = layers.BatchNormalization()(m)\n",
    "    m = SE_block(m, filters)\n",
    "    return layers.Add()([m, x])"
   ]
  },
  {
   "cell_type": "code",
   "execution_count": 4,
   "metadata": {
    "execution": {
     "iopub.execute_input": "2024-01-02T17:07:38.745985Z",
     "iopub.status.busy": "2024-01-02T17:07:38.745484Z",
     "iopub.status.idle": "2024-01-02T17:07:41.262654Z",
     "shell.execute_reply": "2024-01-02T17:07:41.261948Z",
     "shell.execute_reply.started": "2024-01-02T17:07:38.745945Z"
    },
    "id": "WjwG6BrqH13r",
    "tags": []
   },
   "outputs": [
    {
     "name": "stderr",
     "output_type": "stream",
     "text": [
      "2024-01-02 17:07:38.813142: I external/local_xla/xla/stream_executor/cuda/cuda_executor.cc:901] successful NUMA node read from SysFS had negative value (-1), but there must be at least one NUMA node, so returning NUMA node zero. See more at https://github.com/torvalds/linux/blob/v6.0/Documentation/ABI/testing/sysfs-bus-pci#L344-L355\n",
      "2024-01-02 17:07:38.859853: I external/local_xla/xla/stream_executor/cuda/cuda_executor.cc:901] successful NUMA node read from SysFS had negative value (-1), but there must be at least one NUMA node, so returning NUMA node zero. See more at https://github.com/torvalds/linux/blob/v6.0/Documentation/ABI/testing/sysfs-bus-pci#L344-L355\n",
      "2024-01-02 17:07:38.860154: I external/local_xla/xla/stream_executor/cuda/cuda_executor.cc:901] successful NUMA node read from SysFS had negative value (-1), but there must be at least one NUMA node, so returning NUMA node zero. See more at https://github.com/torvalds/linux/blob/v6.0/Documentation/ABI/testing/sysfs-bus-pci#L344-L355\n",
      "2024-01-02 17:07:38.861241: I external/local_xla/xla/stream_executor/cuda/cuda_executor.cc:901] successful NUMA node read from SysFS had negative value (-1), but there must be at least one NUMA node, so returning NUMA node zero. See more at https://github.com/torvalds/linux/blob/v6.0/Documentation/ABI/testing/sysfs-bus-pci#L344-L355\n",
      "2024-01-02 17:07:38.861634: I external/local_xla/xla/stream_executor/cuda/cuda_executor.cc:901] successful NUMA node read from SysFS had negative value (-1), but there must be at least one NUMA node, so returning NUMA node zero. See more at https://github.com/torvalds/linux/blob/v6.0/Documentation/ABI/testing/sysfs-bus-pci#L344-L355\n",
      "2024-01-02 17:07:38.861948: I external/local_xla/xla/stream_executor/cuda/cuda_executor.cc:901] successful NUMA node read from SysFS had negative value (-1), but there must be at least one NUMA node, so returning NUMA node zero. See more at https://github.com/torvalds/linux/blob/v6.0/Documentation/ABI/testing/sysfs-bus-pci#L344-L355\n",
      "2024-01-02 17:07:40.412604: I external/local_xla/xla/stream_executor/cuda/cuda_executor.cc:901] successful NUMA node read from SysFS had negative value (-1), but there must be at least one NUMA node, so returning NUMA node zero. See more at https://github.com/torvalds/linux/blob/v6.0/Documentation/ABI/testing/sysfs-bus-pci#L344-L355\n",
      "2024-01-02 17:07:40.412890: I external/local_xla/xla/stream_executor/cuda/cuda_executor.cc:901] successful NUMA node read from SysFS had negative value (-1), but there must be at least one NUMA node, so returning NUMA node zero. See more at https://github.com/torvalds/linux/blob/v6.0/Documentation/ABI/testing/sysfs-bus-pci#L344-L355\n",
      "2024-01-02 17:07:40.413082: I external/local_xla/xla/stream_executor/cuda/cuda_executor.cc:901] successful NUMA node read from SysFS had negative value (-1), but there must be at least one NUMA node, so returning NUMA node zero. See more at https://github.com/torvalds/linux/blob/v6.0/Documentation/ABI/testing/sysfs-bus-pci#L344-L355\n",
      "2024-01-02 17:07:40.413245: I tensorflow/core/common_runtime/gpu/gpu_device.cc:1929] Created device /job:localhost/replica:0/task:0/device:GPU:0 with 13772 MB memory:  -> device: 0, name: Tesla T4, pci bus id: 0000:00:1e.0, compute capability: 7.5\n"
     ]
    }
   ],
   "source": [
    "x = layers.Conv2D(filters, 1, activation='relu', padding='same')(input)\n",
    "\n",
    "for i in range(5):\n",
    "    x = bottleneck_block_res(x)\n",
    "\n",
    "policy_head = layers.Conv2D(1, 1, activation='relu', padding='same', kernel_regularizer=regularizers.l2(0.001))(x)\n",
    "policy_head = layers.Flatten()(policy_head)\n",
    "policy_head = layers.Activation('softmax', name='policy')(policy_head)\n",
    "\n",
    "value_head = layers.Conv2D(1, 1, activation='relu', padding='same')(x)\n",
    "value_head = layers.Flatten()(value_head)\n",
    "value_head = layers.Dense(50, activation='relu')(value_head)\n",
    "value_head = layers.Dense(1, activation='sigmoid', name='value')(value_head)\n",
    "\n",
    "model = keras.Model(inputs=input, outputs=[policy_head, value_head])\n",
    "\n",
    "#model.summary()"
   ]
  },
  {
   "cell_type": "code",
   "execution_count": 5,
   "metadata": {
    "execution": {
     "iopub.execute_input": "2024-01-02T17:09:10.713286Z",
     "iopub.status.busy": "2024-01-02T17:09:10.712875Z",
     "iopub.status.idle": "2024-01-02T17:40:45.138976Z",
     "shell.execute_reply": "2024-01-02T17:40:45.138065Z",
     "shell.execute_reply.started": "2024-01-02T17:09:10.713258Z"
    },
    "id": "hzR_M9DzIE6r",
    "tags": []
   },
   "outputs": [
    {
     "name": "stdout",
     "output_type": "stream",
     "text": [
      "epoch 1\n"
     ]
    },
    {
     "name": "stderr",
     "output_type": "stream",
     "text": [
      "r.shape = (30000, 19, 19, 31)\n",
      "nbExamples = 30000\n",
      "2024-01-02 17:09:22.903113: I external/local_xla/xla/stream_executor/cuda/cuda_dnn.cc:454] Loaded cuDNN version 8904\n",
      "2024-01-02 17:09:23.887203: I external/local_tsl/tsl/platform/default/subprocess.cc:304] Start cannot spawn child process: No such file or directory\n",
      "2024-01-02 17:09:24.026371: I external/local_tsl/tsl/platform/default/subprocess.cc:304] Start cannot spawn child process: No such file or directory\n",
      "2024-01-02 17:09:25.222770: I external/local_xla/xla/service/service.cc:168] XLA service 0x7fc2c0846310 initialized for platform CUDA (this does not guarantee that XLA will be used). Devices:\n",
      "2024-01-02 17:09:25.222817: I external/local_xla/xla/service/service.cc:176]   StreamExecutor device (0): Tesla T4, Compute Capability 7.5\n",
      "2024-01-02 17:09:25.230751: I tensorflow/compiler/mlir/tensorflow/utils/dump_mlir_util.cc:269] disabling MLIR crash reproducer, set env var `MLIR_CRASH_REPRODUCER_DIRECTORY` to enable.\n",
      "WARNING: All log messages before absl::InitializeLog() is called are written to STDERR\n",
      "I0000 00:00:1704215365.381922   10516 device_compiler.h:186] Compiled cluster using XLA!  This line is logged at most once for the lifetime of the process.\n"
     ]
    },
    {
     "name": "stdout",
     "output_type": "stream",
     "text": [
      "24/24 [==============================] - 27s 566ms/step - loss: 12.6100 - policy_loss: 5.7312 - value_loss: 0.7641 - policy_categorical_accuracy: 0.0150 - value_mse: 0.1454 - val_loss: 12.0851 - val_policy_loss: 5.8430 - val_value_loss: 0.6934 - val_policy_categorical_accuracy: 0.0173 - val_value_mse: 0.1220\n",
      "epoch 2\n"
     ]
    },
    {
     "name": "stderr",
     "output_type": "stream",
     "text": [
      "r.shape = (30000, 19, 19, 31)\n",
      "nbExamples = 30000\n"
     ]
    },
    {
     "name": "stdout",
     "output_type": "stream",
     "text": [
      "24/24 [==============================] - 11s 473ms/step - loss: 11.2916 - policy_loss: 5.0009 - value_loss: 0.6988 - policy_categorical_accuracy: 0.0495 - value_mse: 0.1223 - val_loss: 12.0395 - val_policy_loss: 5.7986 - val_value_loss: 0.6933 - val_policy_categorical_accuracy: 0.0223 - val_value_mse: 0.1198\n",
      "epoch 3\n"
     ]
    },
    {
     "name": "stderr",
     "output_type": "stream",
     "text": [
      "r.shape = (30000, 19, 19, 31)\n",
      "nbExamples = 30000\n"
     ]
    },
    {
     "name": "stdout",
     "output_type": "stream",
     "text": [
      "24/24 [==============================] - 11s 476ms/step - loss: 10.6785 - policy_loss: 4.4452 - value_loss: 0.6924 - policy_categorical_accuracy: 0.1007 - value_mse: 0.1198 - val_loss: 11.9989 - val_policy_loss: 5.7586 - val_value_loss: 0.6932 - val_policy_categorical_accuracy: 0.0268 - val_value_mse: 0.1209\n",
      "epoch 4\n"
     ]
    },
    {
     "name": "stderr",
     "output_type": "stream",
     "text": [
      "r.shape = (30000, 19, 19, 31)\n",
      "nbExamples = 30000\n"
     ]
    },
    {
     "name": "stdout",
     "output_type": "stream",
     "text": [
      "24/24 [==============================] - 11s 475ms/step - loss: 10.3092 - policy_loss: 4.0938 - value_loss: 0.6904 - policy_categorical_accuracy: 0.1426 - value_mse: 0.1185 - val_loss: 11.9683 - val_policy_loss: 5.7287 - val_value_loss: 0.6931 - val_policy_categorical_accuracy: 0.0318 - val_value_mse: 0.1173\n",
      "epoch 5\n"
     ]
    },
    {
     "name": "stderr",
     "output_type": "stream",
     "text": [
      "r.shape = (30000, 19, 19, 31)\n",
      "nbExamples = 30000\n"
     ]
    },
    {
     "name": "stdout",
     "output_type": "stream",
     "text": [
      "24/24 [==============================] - 11s 475ms/step - loss: 10.0966 - policy_loss: 3.8882 - value_loss: 0.6897 - policy_categorical_accuracy: 0.1698 - value_mse: 0.1179 - val_loss: 11.9377 - val_policy_loss: 5.6982 - val_value_loss: 0.6931 - val_policy_categorical_accuracy: 0.0415 - val_value_mse: 0.1198\n",
      "epoch 6\n"
     ]
    },
    {
     "name": "stderr",
     "output_type": "stream",
     "text": [
      "r.shape = (30000, 19, 19, 31)\n",
      "nbExamples = 30000\n"
     ]
    },
    {
     "name": "stdout",
     "output_type": "stream",
     "text": [
      "24/24 [==============================] - 11s 475ms/step - loss: 9.9519 - policy_loss: 3.7445 - value_loss: 0.6895 - policy_categorical_accuracy: 0.1970 - value_mse: 0.1173 - val_loss: 11.9125 - val_policy_loss: 5.6722 - val_value_loss: 0.6932 - val_policy_categorical_accuracy: 0.0485 - val_value_mse: 0.1225\n",
      "epoch 7\n"
     ]
    },
    {
     "name": "stderr",
     "output_type": "stream",
     "text": [
      "r.shape = (30000, 19, 19, 31)\n",
      "nbExamples = 30000\n"
     ]
    },
    {
     "name": "stdout",
     "output_type": "stream",
     "text": [
      "24/24 [==============================] - 11s 476ms/step - loss: 9.8292 - policy_loss: 3.6363 - value_loss: 0.6879 - policy_categorical_accuracy: 0.2140 - value_mse: 0.1177 - val_loss: 11.8861 - val_policy_loss: 5.6456 - val_value_loss: 0.6932 - val_policy_categorical_accuracy: 0.0615 - val_value_mse: 0.1196\n",
      "epoch 8\n"
     ]
    },
    {
     "name": "stderr",
     "output_type": "stream",
     "text": [
      "r.shape = (30000, 19, 19, 31)\n",
      "nbExamples = 30000\n"
     ]
    },
    {
     "name": "stdout",
     "output_type": "stream",
     "text": [
      "24/24 [==============================] - 11s 476ms/step - loss: 9.7232 - policy_loss: 3.5219 - value_loss: 0.6889 - policy_categorical_accuracy: 0.2303 - value_mse: 0.1172 - val_loss: 11.8451 - val_policy_loss: 5.6051 - val_value_loss: 0.6932 - val_policy_categorical_accuracy: 0.0717 - val_value_mse: 0.1184\n",
      "epoch 9\n"
     ]
    },
    {
     "name": "stderr",
     "output_type": "stream",
     "text": [
      "r.shape = (30000, 19, 19, 31)\n",
      "nbExamples = 30000\n"
     ]
    },
    {
     "name": "stdout",
     "output_type": "stream",
     "text": [
      "24/24 [==============================] - 11s 476ms/step - loss: 9.6185 - policy_loss: 3.4149 - value_loss: 0.6891 - policy_categorical_accuracy: 0.2506 - value_mse: 0.1178 - val_loss: 11.8014 - val_policy_loss: 5.5613 - val_value_loss: 0.6932 - val_policy_categorical_accuracy: 0.0870 - val_value_mse: 0.1193\n",
      "epoch 10\n"
     ]
    },
    {
     "name": "stderr",
     "output_type": "stream",
     "text": [
      "r.shape = (30000, 19, 19, 31)\n",
      "nbExamples = 30000\n"
     ]
    },
    {
     "name": "stdout",
     "output_type": "stream",
     "text": [
      "24/24 [==============================] - 11s 476ms/step - loss: 9.5343 - policy_loss: 3.3404 - value_loss: 0.6880 - policy_categorical_accuracy: 0.2618 - value_mse: 0.1170 - val_loss: 11.7464 - val_policy_loss: 5.5065 - val_value_loss: 0.6931 - val_policy_categorical_accuracy: 0.0922 - val_value_mse: 0.1204\n",
      "epoch 11\n"
     ]
    },
    {
     "name": "stderr",
     "output_type": "stream",
     "text": [
      "r.shape = (30000, 19, 19, 31)\n",
      "nbExamples = 30000\n"
     ]
    },
    {
     "name": "stdout",
     "output_type": "stream",
     "text": [
      "24/24 [==============================] - 11s 477ms/step - loss: 9.4652 - policy_loss: 3.2752 - value_loss: 0.6876 - policy_categorical_accuracy: 0.2720 - value_mse: 0.1171 - val_loss: 11.6719 - val_policy_loss: 5.4322 - val_value_loss: 0.6931 - val_policy_categorical_accuracy: 0.0987 - val_value_mse: 0.1179\n",
      "epoch 12\n"
     ]
    },
    {
     "name": "stderr",
     "output_type": "stream",
     "text": [
      "r.shape = (30000, 19, 19, 31)\n",
      "nbExamples = 30000\n"
     ]
    },
    {
     "name": "stdout",
     "output_type": "stream",
     "text": [
      "24/24 [==============================] - 11s 475ms/step - loss: 9.4046 - policy_loss: 3.2152 - value_loss: 0.6875 - policy_categorical_accuracy: 0.2822 - value_mse: 0.1178 - val_loss: 11.5870 - val_policy_loss: 5.3472 - val_value_loss: 0.6931 - val_policy_categorical_accuracy: 0.1028 - val_value_mse: 0.1187\n",
      "epoch 13\n"
     ]
    },
    {
     "name": "stderr",
     "output_type": "stream",
     "text": [
      "r.shape = (30000, 19, 19, 31)\n",
      "nbExamples = 30000\n"
     ]
    },
    {
     "name": "stdout",
     "output_type": "stream",
     "text": [
      "24/24 [==============================] - 11s 477ms/step - loss: 9.4003 - policy_loss: 3.2099 - value_loss: 0.6876 - policy_categorical_accuracy: 0.2814 - value_mse: 0.1166 - val_loss: 11.4876 - val_policy_loss: 5.2482 - val_value_loss: 0.6931 - val_policy_categorical_accuracy: 0.1047 - val_value_mse: 0.1192\n",
      "epoch 14\n"
     ]
    },
    {
     "name": "stderr",
     "output_type": "stream",
     "text": [
      "r.shape = (30000, 19, 19, 31)\n",
      "nbExamples = 30000\n"
     ]
    },
    {
     "name": "stdout",
     "output_type": "stream",
     "text": [
      "24/24 [==============================] - 11s 475ms/step - loss: 9.3216 - policy_loss: 3.1346 - value_loss: 0.6873 - policy_categorical_accuracy: 0.2910 - value_mse: 0.1176 - val_loss: 11.3526 - val_policy_loss: 5.1128 - val_value_loss: 0.6931 - val_policy_categorical_accuracy: 0.1128 - val_value_mse: 0.1206\n",
      "epoch 15\n"
     ]
    },
    {
     "name": "stderr",
     "output_type": "stream",
     "text": [
      "r.shape = (30000, 19, 19, 31)\n",
      "nbExamples = 30000\n"
     ]
    },
    {
     "name": "stdout",
     "output_type": "stream",
     "text": [
      "24/24 [==============================] - 11s 476ms/step - loss: 9.2913 - policy_loss: 3.1070 - value_loss: 0.6870 - policy_categorical_accuracy: 0.2960 - value_mse: 0.1169 - val_loss: 11.1981 - val_policy_loss: 4.9581 - val_value_loss: 0.6931 - val_policy_categorical_accuracy: 0.1317 - val_value_mse: 0.1191\n",
      "epoch 16\n"
     ]
    },
    {
     "name": "stderr",
     "output_type": "stream",
     "text": [
      "r.shape = (30000, 19, 19, 31)\n",
      "nbExamples = 30000\n"
     ]
    },
    {
     "name": "stdout",
     "output_type": "stream",
     "text": [
      "24/24 [==============================] - 11s 477ms/step - loss: 9.2444 - policy_loss: 3.0652 - value_loss: 0.6864 - policy_categorical_accuracy: 0.3009 - value_mse: 0.1169 - val_loss: 11.0435 - val_policy_loss: 4.8034 - val_value_loss: 0.6931 - val_policy_categorical_accuracy: 0.1327 - val_value_mse: 0.1216\n",
      "epoch 17\n"
     ]
    },
    {
     "name": "stderr",
     "output_type": "stream",
     "text": [
      "r.shape = (30000, 19, 19, 31)\n",
      "nbExamples = 30000\n"
     ]
    },
    {
     "name": "stdout",
     "output_type": "stream",
     "text": [
      "24/24 [==============================] - 11s 476ms/step - loss: 9.2397 - policy_loss: 3.0604 - value_loss: 0.6864 - policy_categorical_accuracy: 0.3020 - value_mse: 0.1166 - val_loss: 10.8702 - val_policy_loss: 4.6319 - val_value_loss: 0.6929 - val_policy_categorical_accuracy: 0.1453 - val_value_mse: 0.1213\n",
      "epoch 18\n"
     ]
    },
    {
     "name": "stderr",
     "output_type": "stream",
     "text": [
      "r.shape = (30000, 19, 19, 31)\n",
      "nbExamples = 30000\n"
     ]
    },
    {
     "name": "stdout",
     "output_type": "stream",
     "text": [
      "24/24 [==============================] - 11s 476ms/step - loss: 9.2264 - policy_loss: 3.0480 - value_loss: 0.6863 - policy_categorical_accuracy: 0.3027 - value_mse: 0.1164 - val_loss: 10.6655 - val_policy_loss: 4.4269 - val_value_loss: 0.6930 - val_policy_categorical_accuracy: 0.1838 - val_value_mse: 0.1221\n",
      "epoch 19\n"
     ]
    },
    {
     "name": "stderr",
     "output_type": "stream",
     "text": [
      "r.shape = (30000, 19, 19, 31)\n",
      "nbExamples = 30000\n"
     ]
    },
    {
     "name": "stdout",
     "output_type": "stream",
     "text": [
      "24/24 [==============================] - 11s 475ms/step - loss: 9.1928 - policy_loss: 3.0085 - value_loss: 0.6869 - policy_categorical_accuracy: 0.3067 - value_mse: 0.1175 - val_loss: 10.4343 - val_policy_loss: 4.1996 - val_value_loss: 0.6925 - val_policy_categorical_accuracy: 0.1998 - val_value_mse: 0.1174\n",
      "epoch 20\n"
     ]
    },
    {
     "name": "stderr",
     "output_type": "stream",
     "text": [
      "r.shape = (30000, 19, 19, 31)\n",
      "nbExamples = 30000\n"
     ]
    },
    {
     "name": "stdout",
     "output_type": "stream",
     "text": [
      "24/24 [==============================] - 11s 476ms/step - loss: 9.1470 - policy_loss: 2.9734 - value_loss: 0.6858 - policy_categorical_accuracy: 0.3112 - value_mse: 0.1163 - val_loss: 10.1980 - val_policy_loss: 3.9637 - val_value_loss: 0.6925 - val_policy_categorical_accuracy: 0.2130 - val_value_mse: 0.1194\n",
      "epoch 21\n"
     ]
    },
    {
     "name": "stderr",
     "output_type": "stream",
     "text": [
      "r.shape = (30000, 19, 19, 31)\n",
      "nbExamples = 30000\n"
     ]
    },
    {
     "name": "stdout",
     "output_type": "stream",
     "text": [
      "24/24 [==============================] - 11s 475ms/step - loss: 9.1417 - policy_loss: 2.9605 - value_loss: 0.6866 - policy_categorical_accuracy: 0.3166 - value_mse: 0.1167 - val_loss: 9.9619 - val_policy_loss: 3.7388 - val_value_loss: 0.6913 - val_policy_categorical_accuracy: 0.2350 - val_value_mse: 0.1214\n",
      "epoch 22\n"
     ]
    },
    {
     "name": "stderr",
     "output_type": "stream",
     "text": [
      "r.shape = (30000, 19, 19, 31)\n",
      "nbExamples = 30000\n"
     ]
    },
    {
     "name": "stdout",
     "output_type": "stream",
     "text": [
      "24/24 [==============================] - 11s 476ms/step - loss: 9.1156 - policy_loss: 2.9534 - value_loss: 0.6845 - policy_categorical_accuracy: 0.3165 - value_mse: 0.1144 - val_loss: 9.7929 - val_policy_loss: 3.5743 - val_value_loss: 0.6908 - val_policy_categorical_accuracy: 0.2468 - val_value_mse: 0.1220\n",
      "epoch 23\n"
     ]
    },
    {
     "name": "stderr",
     "output_type": "stream",
     "text": [
      "r.shape = (30000, 19, 19, 31)\n",
      "nbExamples = 30000\n"
     ]
    },
    {
     "name": "stdout",
     "output_type": "stream",
     "text": [
      "24/24 [==============================] - 11s 477ms/step - loss: 9.0970 - policy_loss: 2.9357 - value_loss: 0.6844 - policy_categorical_accuracy: 0.3178 - value_mse: 0.1153 - val_loss: 9.5818 - val_policy_loss: 3.3727 - val_value_loss: 0.6897 - val_policy_categorical_accuracy: 0.2643 - val_value_mse: 0.1195\n",
      "epoch 24\n"
     ]
    },
    {
     "name": "stderr",
     "output_type": "stream",
     "text": [
      "r.shape = (30000, 19, 19, 31)\n",
      "nbExamples = 30000\n"
     ]
    },
    {
     "name": "stdout",
     "output_type": "stream",
     "text": [
      "24/24 [==============================] - 11s 476ms/step - loss: 9.0765 - policy_loss: 2.9065 - value_loss: 0.6854 - policy_categorical_accuracy: 0.3257 - value_mse: 0.1152 - val_loss: 9.4200 - val_policy_loss: 3.2261 - val_value_loss: 0.6880 - val_policy_categorical_accuracy: 0.2850 - val_value_mse: 0.1168\n",
      "epoch 25\n"
     ]
    },
    {
     "name": "stderr",
     "output_type": "stream",
     "text": [
      "r.shape = (30000, 19, 19, 31)\n",
      "nbExamples = 30000\n"
     ]
    },
    {
     "name": "stdout",
     "output_type": "stream",
     "text": [
      "24/24 [==============================] - 11s 476ms/step - loss: 9.0563 - policy_loss: 2.9036 - value_loss: 0.6834 - policy_categorical_accuracy: 0.3250 - value_mse: 0.1141 - val_loss: 9.2747 - val_policy_loss: 3.1274 - val_value_loss: 0.6828 - val_policy_categorical_accuracy: 0.2947 - val_value_mse: 0.1139\n",
      "epoch 26\n"
     ]
    },
    {
     "name": "stderr",
     "output_type": "stream",
     "text": [
      "r.shape = (30000, 19, 19, 31)\n",
      "nbExamples = 30000\n"
     ]
    },
    {
     "name": "stdout",
     "output_type": "stream",
     "text": [
      "24/24 [==============================] - 11s 475ms/step - loss: 9.0219 - policy_loss: 2.8947 - value_loss: 0.6806 - policy_categorical_accuracy: 0.3233 - value_mse: 0.1132 - val_loss: 9.2762 - val_policy_loss: 3.0659 - val_value_loss: 0.6898 - val_policy_categorical_accuracy: 0.3013 - val_value_mse: 0.1167\n",
      "epoch 27\n"
     ]
    },
    {
     "name": "stderr",
     "output_type": "stream",
     "text": [
      "r.shape = (30000, 19, 19, 31)\n",
      "nbExamples = 30000\n"
     ]
    },
    {
     "name": "stdout",
     "output_type": "stream",
     "text": [
      "24/24 [==============================] - 11s 476ms/step - loss: 8.9946 - policy_loss: 2.8836 - value_loss: 0.6788 - policy_categorical_accuracy: 0.3248 - value_mse: 0.1125 - val_loss: 9.2290 - val_policy_loss: 3.0315 - val_value_loss: 0.6884 - val_policy_categorical_accuracy: 0.3048 - val_value_mse: 0.1153\n",
      "epoch 28\n"
     ]
    },
    {
     "name": "stderr",
     "output_type": "stream",
     "text": [
      "r.shape = (30000, 19, 19, 31)\n",
      "nbExamples = 30000\n"
     ]
    },
    {
     "name": "stdout",
     "output_type": "stream",
     "text": [
      "24/24 [==============================] - 11s 476ms/step - loss: 9.0383 - policy_loss: 2.8830 - value_loss: 0.6837 - policy_categorical_accuracy: 0.3252 - value_mse: 0.1151 - val_loss: 9.3135 - val_policy_loss: 2.9800 - val_value_loss: 0.7035 - val_policy_categorical_accuracy: 0.3093 - val_value_mse: 0.1217\n",
      "epoch 29\n"
     ]
    },
    {
     "name": "stderr",
     "output_type": "stream",
     "text": [
      "r.shape = (30000, 19, 19, 31)\n",
      "nbExamples = 30000\n"
     ]
    },
    {
     "name": "stdout",
     "output_type": "stream",
     "text": [
      "24/24 [==============================] - 11s 475ms/step - loss: 8.9187 - policy_loss: 2.8373 - value_loss: 0.6755 - policy_categorical_accuracy: 0.3305 - value_mse: 0.1115 - val_loss: 8.9775 - val_policy_loss: 2.8974 - val_value_loss: 0.6754 - val_policy_categorical_accuracy: 0.3232 - val_value_mse: 0.1126\n",
      "epoch 30\n"
     ]
    },
    {
     "name": "stderr",
     "output_type": "stream",
     "text": [
      "r.shape = (30000, 19, 19, 31)\n",
      "nbExamples = 30000\n"
     ]
    },
    {
     "name": "stdout",
     "output_type": "stream",
     "text": [
      "24/24 [==============================] - 11s 476ms/step - loss: 8.9384 - policy_loss: 2.8624 - value_loss: 0.6749 - policy_categorical_accuracy: 0.3307 - value_mse: 0.1119 - val_loss: 9.0260 - val_policy_loss: 2.9335 - val_value_loss: 0.6767 - val_policy_categorical_accuracy: 0.3240 - val_value_mse: 0.1132\n",
      "epoch 31\n"
     ]
    },
    {
     "name": "stderr",
     "output_type": "stream",
     "text": [
      "r.shape = (30000, 19, 19, 31)\n",
      "nbExamples = 30000\n"
     ]
    },
    {
     "name": "stdout",
     "output_type": "stream",
     "text": [
      "24/24 [==============================] - 11s 475ms/step - loss: 8.8858 - policy_loss: 2.8357 - value_loss: 0.6720 - policy_categorical_accuracy: 0.3293 - value_mse: 0.1098 - val_loss: 8.9597 - val_policy_loss: 2.9270 - val_value_loss: 0.6701 - val_policy_categorical_accuracy: 0.3225 - val_value_mse: 0.1083\n",
      "epoch 32\n"
     ]
    },
    {
     "name": "stderr",
     "output_type": "stream",
     "text": [
      "r.shape = (30000, 19, 19, 31)\n",
      "nbExamples = 30000\n"
     ]
    },
    {
     "name": "stdout",
     "output_type": "stream",
     "text": [
      "24/24 [==============================] - 11s 476ms/step - loss: 8.8555 - policy_loss: 2.8444 - value_loss: 0.6677 - policy_categorical_accuracy: 0.3315 - value_mse: 0.1077 - val_loss: 8.9379 - val_policy_loss: 2.8572 - val_value_loss: 0.6754 - val_policy_categorical_accuracy: 0.3273 - val_value_mse: 0.1109\n",
      "epoch 33\n"
     ]
    },
    {
     "name": "stderr",
     "output_type": "stream",
     "text": [
      "r.shape = (30000, 19, 19, 31)\n",
      "nbExamples = 30000\n"
     ]
    },
    {
     "name": "stdout",
     "output_type": "stream",
     "text": [
      "24/24 [==============================] - 11s 477ms/step - loss: 8.8148 - policy_loss: 2.8250 - value_loss: 0.6653 - policy_categorical_accuracy: 0.3366 - value_mse: 0.1067 - val_loss: 9.2166 - val_policy_loss: 2.9263 - val_value_loss: 0.6987 - val_policy_categorical_accuracy: 0.3168 - val_value_mse: 0.1173\n",
      "epoch 34\n"
     ]
    },
    {
     "name": "stderr",
     "output_type": "stream",
     "text": [
      "r.shape = (30000, 19, 19, 31)\n",
      "nbExamples = 30000\n"
     ]
    },
    {
     "name": "stdout",
     "output_type": "stream",
     "text": [
      "24/24 [==============================] - 11s 476ms/step - loss: 8.8236 - policy_loss: 2.8193 - value_loss: 0.6669 - policy_categorical_accuracy: 0.3329 - value_mse: 0.1067 - val_loss: 9.3411 - val_policy_loss: 2.8684 - val_value_loss: 0.7190 - val_policy_categorical_accuracy: 0.3318 - val_value_mse: 0.1222\n",
      "epoch 35\n"
     ]
    },
    {
     "name": "stderr",
     "output_type": "stream",
     "text": [
      "r.shape = (30000, 19, 19, 31)\n",
      "nbExamples = 30000\n"
     ]
    },
    {
     "name": "stdout",
     "output_type": "stream",
     "text": [
      "24/24 [==============================] - 11s 476ms/step - loss: 8.8112 - policy_loss: 2.8189 - value_loss: 0.6656 - policy_categorical_accuracy: 0.3350 - value_mse: 0.1073 - val_loss: 9.0772 - val_policy_loss: 2.9108 - val_value_loss: 0.6849 - val_policy_categorical_accuracy: 0.3213 - val_value_mse: 0.1161\n",
      "epoch 36\n"
     ]
    },
    {
     "name": "stderr",
     "output_type": "stream",
     "text": [
      "r.shape = (30000, 19, 19, 31)\n",
      "nbExamples = 30000\n"
     ]
    },
    {
     "name": "stdout",
     "output_type": "stream",
     "text": [
      "24/24 [==============================] - 11s 476ms/step - loss: 8.7639 - policy_loss: 2.8037 - value_loss: 0.6620 - policy_categorical_accuracy: 0.3357 - value_mse: 0.1059 - val_loss: 9.1936 - val_policy_loss: 2.8407 - val_value_loss: 0.7057 - val_policy_categorical_accuracy: 0.3382 - val_value_mse: 0.1211\n",
      "epoch 37\n"
     ]
    },
    {
     "name": "stderr",
     "output_type": "stream",
     "text": [
      "r.shape = (30000, 19, 19, 31)\n",
      "nbExamples = 30000\n"
     ]
    },
    {
     "name": "stdout",
     "output_type": "stream",
     "text": [
      "24/24 [==============================] - 11s 475ms/step - loss: 8.7591 - policy_loss: 2.8077 - value_loss: 0.6611 - policy_categorical_accuracy: 0.3393 - value_mse: 0.1040 - val_loss: 8.8621 - val_policy_loss: 2.8237 - val_value_loss: 0.6707 - val_policy_categorical_accuracy: 0.3355 - val_value_mse: 0.1082\n",
      "epoch 38\n"
     ]
    },
    {
     "name": "stderr",
     "output_type": "stream",
     "text": [
      "r.shape = (30000, 19, 19, 31)\n",
      "nbExamples = 30000\n"
     ]
    },
    {
     "name": "stdout",
     "output_type": "stream",
     "text": [
      "24/24 [==============================] - 11s 475ms/step - loss: 8.6870 - policy_loss: 2.7852 - value_loss: 0.6555 - policy_categorical_accuracy: 0.3388 - value_mse: 0.1018 - val_loss: 9.4208 - val_policy_loss: 2.8449 - val_value_loss: 0.7304 - val_policy_categorical_accuracy: 0.3257 - val_value_mse: 0.1271\n",
      "epoch 39\n"
     ]
    },
    {
     "name": "stderr",
     "output_type": "stream",
     "text": [
      "r.shape = (30000, 19, 19, 31)\n",
      "nbExamples = 30000\n"
     ]
    },
    {
     "name": "stdout",
     "output_type": "stream",
     "text": [
      "24/24 [==============================] - 11s 476ms/step - loss: 8.6785 - policy_loss: 2.7871 - value_loss: 0.6544 - policy_categorical_accuracy: 0.3388 - value_mse: 0.1011 - val_loss: 8.9925 - val_policy_loss: 2.8407 - val_value_loss: 0.6833 - val_policy_categorical_accuracy: 0.3300 - val_value_mse: 0.1117\n",
      "epoch 40\n"
     ]
    },
    {
     "name": "stderr",
     "output_type": "stream",
     "text": [
      "r.shape = (30000, 19, 19, 31)\n",
      "nbExamples = 30000\n"
     ]
    },
    {
     "name": "stdout",
     "output_type": "stream",
     "text": [
      "24/24 [==============================] - 11s 475ms/step - loss: 8.6934 - policy_loss: 2.7840 - value_loss: 0.6564 - policy_categorical_accuracy: 0.3383 - value_mse: 0.1019 - val_loss: 9.2331 - val_policy_loss: 2.8302 - val_value_loss: 0.7112 - val_policy_categorical_accuracy: 0.3320 - val_value_mse: 0.1198\n",
      "epoch 41\n"
     ]
    },
    {
     "name": "stderr",
     "output_type": "stream",
     "text": [
      "r.shape = (30000, 19, 19, 31)\n",
      "nbExamples = 30000\n"
     ]
    },
    {
     "name": "stdout",
     "output_type": "stream",
     "text": [
      "24/24 [==============================] - 11s 475ms/step - loss: 8.6482 - policy_loss: 2.7680 - value_loss: 0.6531 - policy_categorical_accuracy: 0.3414 - value_mse: 0.1015 - val_loss: 8.7581 - val_policy_loss: 2.7943 - val_value_loss: 0.6624 - val_policy_categorical_accuracy: 0.3393 - val_value_mse: 0.1062\n",
      "epoch 42\n"
     ]
    },
    {
     "name": "stderr",
     "output_type": "stream",
     "text": [
      "r.shape = (30000, 19, 19, 31)\n",
      "nbExamples = 30000\n"
     ]
    },
    {
     "name": "stdout",
     "output_type": "stream",
     "text": [
      "24/24 [==============================] - 11s 476ms/step - loss: 8.6557 - policy_loss: 2.7663 - value_loss: 0.6541 - policy_categorical_accuracy: 0.3439 - value_mse: 0.1022 - val_loss: 8.7506 - val_policy_loss: 2.7754 - val_value_loss: 0.6637 - val_policy_categorical_accuracy: 0.3460 - val_value_mse: 0.1045\n",
      "epoch 43\n"
     ]
    },
    {
     "name": "stderr",
     "output_type": "stream",
     "text": [
      "r.shape = (30000, 19, 19, 31)\n",
      "nbExamples = 30000\n"
     ]
    },
    {
     "name": "stdout",
     "output_type": "stream",
     "text": [
      "24/24 [==============================] - 11s 475ms/step - loss: 8.6164 - policy_loss: 2.7454 - value_loss: 0.6521 - policy_categorical_accuracy: 0.3487 - value_mse: 0.1009 - val_loss: 8.6815 - val_policy_loss: 2.8104 - val_value_loss: 0.6521 - val_policy_categorical_accuracy: 0.3335 - val_value_mse: 0.1012\n",
      "epoch 44\n"
     ]
    },
    {
     "name": "stderr",
     "output_type": "stream",
     "text": [
      "r.shape = (30000, 19, 19, 31)\n",
      "nbExamples = 30000\n"
     ]
    },
    {
     "name": "stdout",
     "output_type": "stream",
     "text": [
      "24/24 [==============================] - 11s 477ms/step - loss: 8.6417 - policy_loss: 2.7591 - value_loss: 0.6534 - policy_categorical_accuracy: 0.3450 - value_mse: 0.1011 - val_loss: 8.9675 - val_policy_loss: 2.7715 - val_value_loss: 0.6882 - val_policy_categorical_accuracy: 0.3373 - val_value_mse: 0.1138\n",
      "epoch 45\n"
     ]
    },
    {
     "name": "stderr",
     "output_type": "stream",
     "text": [
      "r.shape = (30000, 19, 19, 31)\n",
      "nbExamples = 30000\n"
     ]
    },
    {
     "name": "stdout",
     "output_type": "stream",
     "text": [
      "24/24 [==============================] - 11s 475ms/step - loss: 8.5932 - policy_loss: 2.7307 - value_loss: 0.6512 - policy_categorical_accuracy: 0.3445 - value_mse: 0.0995 - val_loss: 8.8977 - val_policy_loss: 2.7971 - val_value_loss: 0.6776 - val_policy_categorical_accuracy: 0.3360 - val_value_mse: 0.1095\n",
      "epoch 46\n"
     ]
    },
    {
     "name": "stderr",
     "output_type": "stream",
     "text": [
      "r.shape = (30000, 19, 19, 31)\n",
      "nbExamples = 30000\n"
     ]
    },
    {
     "name": "stdout",
     "output_type": "stream",
     "text": [
      "24/24 [==============================] - 11s 477ms/step - loss: 8.6011 - policy_loss: 2.7289 - value_loss: 0.6522 - policy_categorical_accuracy: 0.3515 - value_mse: 0.1006 - val_loss: 9.0185 - val_policy_loss: 2.7425 - val_value_loss: 0.6971 - val_policy_categorical_accuracy: 0.3483 - val_value_mse: 0.1198\n",
      "epoch 47\n"
     ]
    },
    {
     "name": "stderr",
     "output_type": "stream",
     "text": [
      "r.shape = (30000, 19, 19, 31)\n",
      "nbExamples = 30000\n"
     ]
    },
    {
     "name": "stdout",
     "output_type": "stream",
     "text": [
      "24/24 [==============================] - 11s 476ms/step - loss: 8.6094 - policy_loss: 2.7448 - value_loss: 0.6514 - policy_categorical_accuracy: 0.3422 - value_mse: 0.1015 - val_loss: 8.6482 - val_policy_loss: 2.7861 - val_value_loss: 0.6511 - val_policy_categorical_accuracy: 0.3387 - val_value_mse: 0.0998\n",
      "epoch 48\n"
     ]
    },
    {
     "name": "stderr",
     "output_type": "stream",
     "text": [
      "r.shape = (30000, 19, 19, 31)\n",
      "nbExamples = 30000\n"
     ]
    },
    {
     "name": "stdout",
     "output_type": "stream",
     "text": [
      "24/24 [==============================] - 11s 474ms/step - loss: 8.6058 - policy_loss: 2.7163 - value_loss: 0.6542 - policy_categorical_accuracy: 0.3489 - value_mse: 0.1011 - val_loss: 8.6892 - val_policy_loss: 2.7921 - val_value_loss: 0.6550 - val_policy_categorical_accuracy: 0.3308 - val_value_mse: 0.1031\n",
      "epoch 49\n"
     ]
    },
    {
     "name": "stderr",
     "output_type": "stream",
     "text": [
      "r.shape = (30000, 19, 19, 31)\n",
      "nbExamples = 30000\n"
     ]
    },
    {
     "name": "stdout",
     "output_type": "stream",
     "text": [
      "24/24 [==============================] - 11s 474ms/step - loss: 8.5630 - policy_loss: 2.7296 - value_loss: 0.6479 - policy_categorical_accuracy: 0.3477 - value_mse: 0.0995 - val_loss: 9.0759 - val_policy_loss: 2.7618 - val_value_loss: 0.7013 - val_policy_categorical_accuracy: 0.3355 - val_value_mse: 0.1205\n",
      "epoch 50\n"
     ]
    },
    {
     "name": "stderr",
     "output_type": "stream",
     "text": [
      "r.shape = (30000, 19, 19, 31)\n",
      "nbExamples = 30000\n"
     ]
    },
    {
     "name": "stdout",
     "output_type": "stream",
     "text": [
      "24/24 [==============================] - 11s 476ms/step - loss: 8.5768 - policy_loss: 2.7499 - value_loss: 0.6472 - policy_categorical_accuracy: 0.3450 - value_mse: 0.0987 - val_loss: 8.6133 - val_policy_loss: 2.7016 - val_value_loss: 0.6566 - val_policy_categorical_accuracy: 0.3510 - val_value_mse: 0.1030\n",
      "epoch 51\n"
     ]
    },
    {
     "name": "stderr",
     "output_type": "stream",
     "text": [
      "r.shape = (30000, 19, 19, 31)\n",
      "nbExamples = 30000\n"
     ]
    },
    {
     "name": "stdout",
     "output_type": "stream",
     "text": [
      "24/24 [==============================] - 11s 476ms/step - loss: 8.5456 - policy_loss: 2.7142 - value_loss: 0.6477 - policy_categorical_accuracy: 0.3494 - value_mse: 0.0994 - val_loss: 8.6100 - val_policy_loss: 2.7527 - val_value_loss: 0.6506 - val_policy_categorical_accuracy: 0.3363 - val_value_mse: 0.0997\n",
      "epoch 52\n"
     ]
    },
    {
     "name": "stderr",
     "output_type": "stream",
     "text": [
      "r.shape = (30000, 19, 19, 31)\n",
      "nbExamples = 30000\n"
     ]
    },
    {
     "name": "stdout",
     "output_type": "stream",
     "text": [
      "24/24 [==============================] - 11s 476ms/step - loss: 8.5254 - policy_loss: 2.6979 - value_loss: 0.6473 - policy_categorical_accuracy: 0.3548 - value_mse: 0.0984 - val_loss: 8.7115 - val_policy_loss: 2.7748 - val_value_loss: 0.6594 - val_policy_categorical_accuracy: 0.3395 - val_value_mse: 0.1049\n",
      "epoch 53\n"
     ]
    },
    {
     "name": "stderr",
     "output_type": "stream",
     "text": [
      "r.shape = (30000, 19, 19, 31)\n",
      "nbExamples = 30000\n"
     ]
    },
    {
     "name": "stdout",
     "output_type": "stream",
     "text": [
      "24/24 [==============================] - 11s 474ms/step - loss: 8.5255 - policy_loss: 2.7077 - value_loss: 0.6462 - policy_categorical_accuracy: 0.3509 - value_mse: 0.0988 - val_loss: 8.5781 - val_policy_loss: 2.7372 - val_value_loss: 0.6487 - val_policy_categorical_accuracy: 0.3445 - val_value_mse: 0.0991\n",
      "epoch 54\n"
     ]
    },
    {
     "name": "stderr",
     "output_type": "stream",
     "text": [
      "r.shape = (30000, 19, 19, 31)\n",
      "nbExamples = 30000\n"
     ]
    },
    {
     "name": "stdout",
     "output_type": "stream",
     "text": [
      "24/24 [==============================] - 11s 476ms/step - loss: 8.5445 - policy_loss: 2.7043 - value_loss: 0.6487 - policy_categorical_accuracy: 0.3509 - value_mse: 0.0997 - val_loss: 9.0136 - val_policy_loss: 2.7465 - val_value_loss: 0.6961 - val_policy_categorical_accuracy: 0.3523 - val_value_mse: 0.1172\n",
      "epoch 55\n"
     ]
    },
    {
     "name": "stderr",
     "output_type": "stream",
     "text": [
      "r.shape = (30000, 19, 19, 31)\n",
      "nbExamples = 30000\n"
     ]
    },
    {
     "name": "stdout",
     "output_type": "stream",
     "text": [
      "24/24 [==============================] - 11s 474ms/step - loss: 8.4962 - policy_loss: 2.6926 - value_loss: 0.6446 - policy_categorical_accuracy: 0.3520 - value_mse: 0.0985 - val_loss: 8.5000 - val_policy_loss: 2.7222 - val_value_loss: 0.6417 - val_policy_categorical_accuracy: 0.3530 - val_value_mse: 0.0968\n",
      "epoch 56\n"
     ]
    },
    {
     "name": "stderr",
     "output_type": "stream",
     "text": [
      "r.shape = (30000, 19, 19, 31)\n",
      "nbExamples = 30000\n"
     ]
    },
    {
     "name": "stdout",
     "output_type": "stream",
     "text": [
      "24/24 [==============================] - 11s 474ms/step - loss: 8.5212 - policy_loss: 2.7063 - value_loss: 0.6459 - policy_categorical_accuracy: 0.3488 - value_mse: 0.0978 - val_loss: 8.6536 - val_policy_loss: 2.7109 - val_value_loss: 0.6601 - val_policy_categorical_accuracy: 0.3413 - val_value_mse: 0.1028\n",
      "epoch 57\n"
     ]
    },
    {
     "name": "stderr",
     "output_type": "stream",
     "text": [
      "r.shape = (30000, 19, 19, 31)\n",
      "nbExamples = 30000\n"
     ]
    },
    {
     "name": "stdout",
     "output_type": "stream",
     "text": [
      "24/24 [==============================] - 11s 475ms/step - loss: 8.4820 - policy_loss: 2.6870 - value_loss: 0.6437 - policy_categorical_accuracy: 0.3518 - value_mse: 0.0966 - val_loss: 8.5631 - val_policy_loss: 2.7459 - val_value_loss: 0.6461 - val_policy_categorical_accuracy: 0.3475 - val_value_mse: 0.0979\n",
      "epoch 58\n"
     ]
    },
    {
     "name": "stderr",
     "output_type": "stream",
     "text": [
      "r.shape = (30000, 19, 19, 31)\n",
      "nbExamples = 30000\n"
     ]
    },
    {
     "name": "stdout",
     "output_type": "stream",
     "text": [
      "24/24 [==============================] - 11s 474ms/step - loss: 8.5049 - policy_loss: 2.6782 - value_loss: 0.6472 - policy_categorical_accuracy: 0.3576 - value_mse: 0.0989 - val_loss: 8.5621 - val_policy_loss: 2.7309 - val_value_loss: 0.6477 - val_policy_categorical_accuracy: 0.3475 - val_value_mse: 0.0989\n",
      "epoch 59\n"
     ]
    },
    {
     "name": "stderr",
     "output_type": "stream",
     "text": [
      "r.shape = (30000, 19, 19, 31)\n",
      "nbExamples = 30000\n"
     ]
    },
    {
     "name": "stdout",
     "output_type": "stream",
     "text": [
      "24/24 [==============================] - 11s 476ms/step - loss: 8.4902 - policy_loss: 2.7037 - value_loss: 0.6427 - policy_categorical_accuracy: 0.3457 - value_mse: 0.0967 - val_loss: 8.8897 - val_policy_loss: 2.7268 - val_value_loss: 0.6845 - val_policy_categorical_accuracy: 0.3488 - val_value_mse: 0.1132\n",
      "epoch 60\n"
     ]
    },
    {
     "name": "stderr",
     "output_type": "stream",
     "text": [
      "r.shape = (30000, 19, 19, 31)\n",
      "nbExamples = 30000\n"
     ]
    },
    {
     "name": "stdout",
     "output_type": "stream",
     "text": [
      "24/24 [==============================] - 11s 475ms/step - loss: 8.4670 - policy_loss: 2.6939 - value_loss: 0.6412 - policy_categorical_accuracy: 0.3505 - value_mse: 0.0966 - val_loss: 8.5002 - val_policy_loss: 2.7017 - val_value_loss: 0.6440 - val_policy_categorical_accuracy: 0.3543 - val_value_mse: 0.0995\n",
      "epoch 61\n"
     ]
    },
    {
     "name": "stderr",
     "output_type": "stream",
     "text": [
      "r.shape = (30000, 19, 19, 31)\n",
      "nbExamples = 30000\n"
     ]
    },
    {
     "name": "stdout",
     "output_type": "stream",
     "text": [
      "24/24 [==============================] - 11s 475ms/step - loss: 8.4765 - policy_loss: 2.6654 - value_loss: 0.6454 - policy_categorical_accuracy: 0.3544 - value_mse: 0.0982 - val_loss: 8.6568 - val_policy_loss: 2.7516 - val_value_loss: 0.6559 - val_policy_categorical_accuracy: 0.3427 - val_value_mse: 0.1016\n",
      "epoch 62\n"
     ]
    },
    {
     "name": "stderr",
     "output_type": "stream",
     "text": [
      "r.shape = (30000, 19, 19, 31)\n",
      "nbExamples = 30000\n"
     ]
    },
    {
     "name": "stdout",
     "output_type": "stream",
     "text": [
      "24/24 [==============================] - 11s 475ms/step - loss: 8.4713 - policy_loss: 2.6759 - value_loss: 0.6437 - policy_categorical_accuracy: 0.3539 - value_mse: 0.0975 - val_loss: 8.5170 - val_policy_loss: 2.6475 - val_value_loss: 0.6519 - val_policy_categorical_accuracy: 0.3648 - val_value_mse: 0.0986\n",
      "epoch 63\n"
     ]
    },
    {
     "name": "stderr",
     "output_type": "stream",
     "text": [
      "r.shape = (30000, 19, 19, 31)\n",
      "nbExamples = 30000\n"
     ]
    },
    {
     "name": "stdout",
     "output_type": "stream",
     "text": [
      "24/24 [==============================] - 11s 476ms/step - loss: 8.4407 - policy_loss: 2.6665 - value_loss: 0.6413 - policy_categorical_accuracy: 0.3562 - value_mse: 0.0979 - val_loss: 8.5054 - val_policy_loss: 2.6793 - val_value_loss: 0.6471 - val_policy_categorical_accuracy: 0.3518 - val_value_mse: 0.1009\n",
      "epoch 64\n"
     ]
    },
    {
     "name": "stderr",
     "output_type": "stream",
     "text": [
      "r.shape = (30000, 19, 19, 31)\n",
      "nbExamples = 30000\n"
     ]
    },
    {
     "name": "stdout",
     "output_type": "stream",
     "text": [
      "24/24 [==============================] - 11s 475ms/step - loss: 8.4390 - policy_loss: 2.6801 - value_loss: 0.6396 - policy_categorical_accuracy: 0.3566 - value_mse: 0.0959 - val_loss: 8.5461 - val_policy_loss: 2.6922 - val_value_loss: 0.6502 - val_policy_categorical_accuracy: 0.3498 - val_value_mse: 0.1025\n",
      "epoch 65\n"
     ]
    },
    {
     "name": "stderr",
     "output_type": "stream",
     "text": [
      "r.shape = (30000, 19, 19, 31)\n",
      "nbExamples = 30000\n"
     ]
    },
    {
     "name": "stdout",
     "output_type": "stream",
     "text": [
      "24/24 [==============================] - 11s 476ms/step - loss: 8.4904 - policy_loss: 2.6943 - value_loss: 0.6438 - policy_categorical_accuracy: 0.3502 - value_mse: 0.0979 - val_loss: 8.5611 - val_policy_loss: 2.6797 - val_value_loss: 0.6533 - val_policy_categorical_accuracy: 0.3533 - val_value_mse: 0.1027\n",
      "epoch 66\n"
     ]
    },
    {
     "name": "stderr",
     "output_type": "stream",
     "text": [
      "r.shape = (30000, 19, 19, 31)\n",
      "nbExamples = 30000\n"
     ]
    },
    {
     "name": "stdout",
     "output_type": "stream",
     "text": [
      "24/24 [==============================] - 11s 477ms/step - loss: 8.5174 - policy_loss: 2.6811 - value_loss: 0.6482 - policy_categorical_accuracy: 0.3507 - value_mse: 0.0987 - val_loss: 8.8004 - val_policy_loss: 2.6936 - val_value_loss: 0.6783 - val_policy_categorical_accuracy: 0.3493 - val_value_mse: 0.1108\n",
      "epoch 67\n"
     ]
    },
    {
     "name": "stderr",
     "output_type": "stream",
     "text": [
      "r.shape = (30000, 19, 19, 31)\n",
      "nbExamples = 30000\n"
     ]
    },
    {
     "name": "stdout",
     "output_type": "stream",
     "text": [
      "24/24 [==============================] - 11s 476ms/step - loss: 8.4145 - policy_loss: 2.6426 - value_loss: 0.6411 - policy_categorical_accuracy: 0.3612 - value_mse: 0.0965 - val_loss: 8.4251 - val_policy_loss: 2.6801 - val_value_loss: 0.6381 - val_policy_categorical_accuracy: 0.3578 - val_value_mse: 0.0957\n",
      "epoch 68\n"
     ]
    },
    {
     "name": "stderr",
     "output_type": "stream",
     "text": [
      "r.shape = (30000, 19, 19, 31)\n",
      "nbExamples = 30000\n"
     ]
    },
    {
     "name": "stdout",
     "output_type": "stream",
     "text": [
      "24/24 [==============================] - 11s 475ms/step - loss: 8.4575 - policy_loss: 2.6654 - value_loss: 0.6433 - policy_categorical_accuracy: 0.3542 - value_mse: 0.0965 - val_loss: 8.5019 - val_policy_loss: 2.6802 - val_value_loss: 0.6466 - val_policy_categorical_accuracy: 0.3580 - val_value_mse: 0.0968\n",
      "epoch 69\n"
     ]
    },
    {
     "name": "stderr",
     "output_type": "stream",
     "text": [
      "r.shape = (30000, 19, 19, 31)\n",
      "nbExamples = 30000\n"
     ]
    },
    {
     "name": "stdout",
     "output_type": "stream",
     "text": [
      "24/24 [==============================] - 11s 476ms/step - loss: 8.4048 - policy_loss: 2.6431 - value_loss: 0.6399 - policy_categorical_accuracy: 0.3599 - value_mse: 0.0972 - val_loss: 8.4612 - val_policy_loss: 2.5910 - val_value_loss: 0.6520 - val_policy_categorical_accuracy: 0.3740 - val_value_mse: 0.1038\n",
      "epoch 70\n"
     ]
    },
    {
     "name": "stderr",
     "output_type": "stream",
     "text": [
      "r.shape = (30000, 19, 19, 31)\n",
      "nbExamples = 30000\n"
     ]
    },
    {
     "name": "stdout",
     "output_type": "stream",
     "text": [
      "24/24 [==============================] - 11s 475ms/step - loss: 8.4014 - policy_loss: 2.6475 - value_loss: 0.6391 - policy_categorical_accuracy: 0.3576 - value_mse: 0.0959 - val_loss: 8.4070 - val_policy_loss: 2.6431 - val_value_loss: 0.6402 - val_policy_categorical_accuracy: 0.3585 - val_value_mse: 0.0955\n",
      "epoch 71\n"
     ]
    },
    {
     "name": "stderr",
     "output_type": "stream",
     "text": [
      "r.shape = (30000, 19, 19, 31)\n",
      "nbExamples = 30000\n"
     ]
    },
    {
     "name": "stdout",
     "output_type": "stream",
     "text": [
      "24/24 [==============================] - 11s 475ms/step - loss: 8.4080 - policy_loss: 2.6394 - value_loss: 0.6407 - policy_categorical_accuracy: 0.3602 - value_mse: 0.0972 - val_loss: 8.4628 - val_policy_loss: 2.6797 - val_value_loss: 0.6423 - val_policy_categorical_accuracy: 0.3477 - val_value_mse: 0.0980\n",
      "epoch 72\n"
     ]
    },
    {
     "name": "stderr",
     "output_type": "stream",
     "text": [
      "r.shape = (30000, 19, 19, 31)\n",
      "nbExamples = 30000\n"
     ]
    },
    {
     "name": "stdout",
     "output_type": "stream",
     "text": [
      "24/24 [==============================] - 11s 475ms/step - loss: 8.4413 - policy_loss: 2.6505 - value_loss: 0.6432 - policy_categorical_accuracy: 0.3565 - value_mse: 0.0966 - val_loss: 9.0573 - val_policy_loss: 2.6937 - val_value_loss: 0.7068 - val_policy_categorical_accuracy: 0.3480 - val_value_mse: 0.1216\n",
      "epoch 73\n"
     ]
    },
    {
     "name": "stderr",
     "output_type": "stream",
     "text": [
      "r.shape = (30000, 19, 19, 31)\n",
      "nbExamples = 30000\n"
     ]
    },
    {
     "name": "stdout",
     "output_type": "stream",
     "text": [
      "24/24 [==============================] - 11s 475ms/step - loss: 8.4078 - policy_loss: 2.6413 - value_loss: 0.6405 - policy_categorical_accuracy: 0.3571 - value_mse: 0.0971 - val_loss: 8.4713 - val_policy_loss: 2.7406 - val_value_loss: 0.6365 - val_policy_categorical_accuracy: 0.3383 - val_value_mse: 0.0929\n",
      "epoch 74\n"
     ]
    },
    {
     "name": "stderr",
     "output_type": "stream",
     "text": [
      "r.shape = (30000, 19, 19, 31)\n",
      "nbExamples = 30000\n"
     ]
    },
    {
     "name": "stdout",
     "output_type": "stream",
     "text": [
      "24/24 [==============================] - 11s 476ms/step - loss: 8.3937 - policy_loss: 2.6543 - value_loss: 0.6375 - policy_categorical_accuracy: 0.3580 - value_mse: 0.0942 - val_loss: 8.6694 - val_policy_loss: 2.6134 - val_value_loss: 0.6726 - val_policy_categorical_accuracy: 0.3712 - val_value_mse: 0.1073\n",
      "epoch 75\n"
     ]
    },
    {
     "name": "stderr",
     "output_type": "stream",
     "text": [
      "r.shape = (30000, 19, 19, 31)\n",
      "nbExamples = 30000\n"
     ]
    },
    {
     "name": "stdout",
     "output_type": "stream",
     "text": [
      "24/24 [==============================] - 11s 475ms/step - loss: 8.4300 - policy_loss: 2.6309 - value_loss: 0.6441 - policy_categorical_accuracy: 0.3587 - value_mse: 0.0979 - val_loss: 8.6473 - val_policy_loss: 2.6752 - val_value_loss: 0.6633 - val_policy_categorical_accuracy: 0.3463 - val_value_mse: 0.1047\n",
      "epoch 76\n"
     ]
    },
    {
     "name": "stderr",
     "output_type": "stream",
     "text": [
      "r.shape = (30000, 19, 19, 31)\n",
      "nbExamples = 30000\n"
     ]
    },
    {
     "name": "stdout",
     "output_type": "stream",
     "text": [
      "24/24 [==============================] - 11s 475ms/step - loss: 8.4095 - policy_loss: 2.6468 - value_loss: 0.6401 - policy_categorical_accuracy: 0.3590 - value_mse: 0.0958 - val_loss: 8.5576 - val_policy_loss: 2.6732 - val_value_loss: 0.6536 - val_policy_categorical_accuracy: 0.3607 - val_value_mse: 0.1016\n",
      "epoch 77\n"
     ]
    },
    {
     "name": "stderr",
     "output_type": "stream",
     "text": [
      "r.shape = (30000, 19, 19, 31)\n",
      "nbExamples = 30000\n"
     ]
    },
    {
     "name": "stdout",
     "output_type": "stream",
     "text": [
      "24/24 [==============================] - 11s 475ms/step - loss: 8.3838 - policy_loss: 2.6342 - value_loss: 0.6386 - policy_categorical_accuracy: 0.3602 - value_mse: 0.0945 - val_loss: 8.3925 - val_policy_loss: 2.6680 - val_value_loss: 0.6358 - val_policy_categorical_accuracy: 0.3560 - val_value_mse: 0.0953\n",
      "epoch 78\n"
     ]
    },
    {
     "name": "stderr",
     "output_type": "stream",
     "text": [
      "r.shape = (30000, 19, 19, 31)\n",
      "nbExamples = 30000\n"
     ]
    },
    {
     "name": "stdout",
     "output_type": "stream",
     "text": [
      "24/24 [==============================] - 11s 476ms/step - loss: 8.3822 - policy_loss: 2.6206 - value_loss: 0.6399 - policy_categorical_accuracy: 0.3643 - value_mse: 0.0956 - val_loss: 8.4848 - val_policy_loss: 2.6594 - val_value_loss: 0.6470 - val_policy_categorical_accuracy: 0.3597 - val_value_mse: 0.0987\n",
      "epoch 79\n"
     ]
    },
    {
     "name": "stderr",
     "output_type": "stream",
     "text": [
      "r.shape = (30000, 19, 19, 31)\n",
      "nbExamples = 30000\n"
     ]
    },
    {
     "name": "stdout",
     "output_type": "stream",
     "text": [
      "24/24 [==============================] - 11s 477ms/step - loss: 8.4052 - policy_loss: 2.6403 - value_loss: 0.6403 - policy_categorical_accuracy: 0.3607 - value_mse: 0.0955 - val_loss: 8.4474 - val_policy_loss: 2.6609 - val_value_loss: 0.6427 - val_policy_categorical_accuracy: 0.3640 - val_value_mse: 0.0968\n",
      "epoch 80\n"
     ]
    },
    {
     "name": "stderr",
     "output_type": "stream",
     "text": [
      "r.shape = (30000, 19, 19, 31)\n",
      "nbExamples = 30000\n"
     ]
    },
    {
     "name": "stdout",
     "output_type": "stream",
     "text": [
      "24/24 [==============================] - 11s 476ms/step - loss: 8.4144 - policy_loss: 2.6328 - value_loss: 0.6422 - policy_categorical_accuracy: 0.3565 - value_mse: 0.0955 - val_loss: 8.4602 - val_policy_loss: 2.6232 - val_value_loss: 0.6483 - val_policy_categorical_accuracy: 0.3583 - val_value_mse: 0.0996\n",
      "epoch 81\n"
     ]
    },
    {
     "name": "stderr",
     "output_type": "stream",
     "text": [
      "r.shape = (30000, 19, 19, 31)\n",
      "nbExamples = 30000\n"
     ]
    },
    {
     "name": "stdout",
     "output_type": "stream",
     "text": [
      "24/24 [==============================] - 11s 475ms/step - loss: 8.3791 - policy_loss: 2.6348 - value_loss: 0.6380 - policy_categorical_accuracy: 0.3585 - value_mse: 0.0945 - val_loss: 8.5041 - val_policy_loss: 2.6633 - val_value_loss: 0.6487 - val_policy_categorical_accuracy: 0.3505 - val_value_mse: 0.0993\n",
      "epoch 82\n"
     ]
    },
    {
     "name": "stderr",
     "output_type": "stream",
     "text": [
      "r.shape = (30000, 19, 19, 31)\n",
      "nbExamples = 30000\n"
     ]
    },
    {
     "name": "stdout",
     "output_type": "stream",
     "text": [
      "24/24 [==============================] - 11s 475ms/step - loss: 8.3776 - policy_loss: 2.6236 - value_loss: 0.6391 - policy_categorical_accuracy: 0.3630 - value_mse: 0.0958 - val_loss: 8.4147 - val_policy_loss: 2.6357 - val_value_loss: 0.6419 - val_policy_categorical_accuracy: 0.3592 - val_value_mse: 0.0978\n",
      "epoch 83\n"
     ]
    },
    {
     "name": "stderr",
     "output_type": "stream",
     "text": [
      "r.shape = (30000, 19, 19, 31)\n",
      "nbExamples = 30000\n"
     ]
    },
    {
     "name": "stdout",
     "output_type": "stream",
     "text": [
      "24/24 [==============================] - 11s 477ms/step - loss: 8.3642 - policy_loss: 2.6078 - value_loss: 0.6393 - policy_categorical_accuracy: 0.3618 - value_mse: 0.0954 - val_loss: 8.9834 - val_policy_loss: 2.6544 - val_value_loss: 0.7030 - val_policy_categorical_accuracy: 0.3538 - val_value_mse: 0.1192\n",
      "epoch 84\n"
     ]
    },
    {
     "name": "stderr",
     "output_type": "stream",
     "text": [
      "r.shape = (30000, 19, 19, 31)\n",
      "nbExamples = 30000\n"
     ]
    },
    {
     "name": "stdout",
     "output_type": "stream",
     "text": [
      "24/24 [==============================] - 11s 475ms/step - loss: 8.3460 - policy_loss: 2.6100 - value_loss: 0.6371 - policy_categorical_accuracy: 0.3626 - value_mse: 0.0944 - val_loss: 8.5109 - val_policy_loss: 2.6337 - val_value_loss: 0.6528 - val_policy_categorical_accuracy: 0.3622 - val_value_mse: 0.1016\n",
      "epoch 85\n"
     ]
    },
    {
     "name": "stderr",
     "output_type": "stream",
     "text": [
      "r.shape = (30000, 19, 19, 31)\n",
      "nbExamples = 30000\n"
     ]
    },
    {
     "name": "stdout",
     "output_type": "stream",
     "text": [
      "24/24 [==============================] - 11s 474ms/step - loss: 8.3772 - policy_loss: 2.6062 - value_loss: 0.6410 - policy_categorical_accuracy: 0.3632 - value_mse: 0.0966 - val_loss: 8.4956 - val_policy_loss: 2.6282 - val_value_loss: 0.6517 - val_policy_categorical_accuracy: 0.3657 - val_value_mse: 0.1019\n",
      "epoch 86\n"
     ]
    },
    {
     "name": "stderr",
     "output_type": "stream",
     "text": [
      "r.shape = (30000, 19, 19, 31)\n",
      "nbExamples = 30000\n"
     ]
    },
    {
     "name": "stdout",
     "output_type": "stream",
     "text": [
      "24/24 [==============================] - 11s 474ms/step - loss: 8.3455 - policy_loss: 2.6275 - value_loss: 0.6351 - policy_categorical_accuracy: 0.3573 - value_mse: 0.0933 - val_loss: 8.4027 - val_policy_loss: 2.6368 - val_value_loss: 0.6404 - val_policy_categorical_accuracy: 0.3542 - val_value_mse: 0.0962\n",
      "epoch 87\n"
     ]
    },
    {
     "name": "stderr",
     "output_type": "stream",
     "text": [
      "r.shape = (30000, 19, 19, 31)\n",
      "nbExamples = 30000\n"
     ]
    },
    {
     "name": "stdout",
     "output_type": "stream",
     "text": [
      "24/24 [==============================] - 11s 476ms/step - loss: 8.3680 - policy_loss: 2.6138 - value_loss: 0.6391 - policy_categorical_accuracy: 0.3579 - value_mse: 0.0950 - val_loss: 8.7652 - val_policy_loss: 2.6604 - val_value_loss: 0.6781 - val_policy_categorical_accuracy: 0.3513 - val_value_mse: 0.1087\n",
      "epoch 88\n"
     ]
    },
    {
     "name": "stderr",
     "output_type": "stream",
     "text": [
      "r.shape = (30000, 19, 19, 31)\n",
      "nbExamples = 30000\n"
     ]
    },
    {
     "name": "stdout",
     "output_type": "stream",
     "text": [
      "24/24 [==============================] - 11s 476ms/step - loss: 8.3783 - policy_loss: 2.6053 - value_loss: 0.6412 - policy_categorical_accuracy: 0.3635 - value_mse: 0.0958 - val_loss: 8.4706 - val_policy_loss: 2.5981 - val_value_loss: 0.6522 - val_policy_categorical_accuracy: 0.3642 - val_value_mse: 0.1016\n",
      "epoch 89\n"
     ]
    },
    {
     "name": "stderr",
     "output_type": "stream",
     "text": [
      "r.shape = (30000, 19, 19, 31)\n",
      "nbExamples = 30000\n"
     ]
    },
    {
     "name": "stdout",
     "output_type": "stream",
     "text": [
      "24/24 [==============================] - 11s 475ms/step - loss: 8.3434 - policy_loss: 2.5964 - value_loss: 0.6383 - policy_categorical_accuracy: 0.3682 - value_mse: 0.0940 - val_loss: 8.4784 - val_policy_loss: 2.6174 - val_value_loss: 0.6510 - val_policy_categorical_accuracy: 0.3637 - val_value_mse: 0.0981\n",
      "epoch 90\n"
     ]
    },
    {
     "name": "stderr",
     "output_type": "stream",
     "text": [
      "r.shape = (30000, 19, 19, 31)\n",
      "nbExamples = 30000\n"
     ]
    },
    {
     "name": "stdout",
     "output_type": "stream",
     "text": [
      "24/24 [==============================] - 11s 475ms/step - loss: 8.3631 - policy_loss: 2.6009 - value_loss: 0.6400 - policy_categorical_accuracy: 0.3643 - value_mse: 0.0949 - val_loss: 8.5012 - val_policy_loss: 2.5969 - val_value_loss: 0.6558 - val_policy_categorical_accuracy: 0.3620 - val_value_mse: 0.1022\n",
      "epoch 91\n"
     ]
    },
    {
     "name": "stderr",
     "output_type": "stream",
     "text": [
      "r.shape = (30000, 19, 19, 31)\n",
      "nbExamples = 30000\n"
     ]
    },
    {
     "name": "stdout",
     "output_type": "stream",
     "text": [
      "24/24 [==============================] - 11s 476ms/step - loss: 8.3586 - policy_loss: 2.6190 - value_loss: 0.6375 - policy_categorical_accuracy: 0.3623 - value_mse: 0.0952 - val_loss: 8.8294 - val_policy_loss: 2.6615 - val_value_loss: 0.6851 - val_policy_categorical_accuracy: 0.3497 - val_value_mse: 0.1133\n",
      "epoch 92\n"
     ]
    },
    {
     "name": "stderr",
     "output_type": "stream",
     "text": [
      "r.shape = (30000, 19, 19, 31)\n",
      "nbExamples = 30000\n"
     ]
    },
    {
     "name": "stdout",
     "output_type": "stream",
     "text": [
      "24/24 [==============================] - 11s 476ms/step - loss: 8.3371 - policy_loss: 2.5988 - value_loss: 0.6373 - policy_categorical_accuracy: 0.3662 - value_mse: 0.0942 - val_loss: 8.5469 - val_policy_loss: 2.6068 - val_value_loss: 0.6598 - val_policy_categorical_accuracy: 0.3672 - val_value_mse: 0.1027\n",
      "epoch 93\n"
     ]
    },
    {
     "name": "stderr",
     "output_type": "stream",
     "text": [
      "r.shape = (30000, 19, 19, 31)\n",
      "nbExamples = 30000\n"
     ]
    },
    {
     "name": "stdout",
     "output_type": "stream",
     "text": [
      "24/24 [==============================] - 11s 476ms/step - loss: 8.3094 - policy_loss: 2.5775 - value_loss: 0.6366 - policy_categorical_accuracy: 0.3669 - value_mse: 0.0945 - val_loss: 8.5577 - val_policy_loss: 2.5730 - val_value_loss: 0.6647 - val_policy_categorical_accuracy: 0.3673 - val_value_mse: 0.1076\n",
      "epoch 94\n"
     ]
    },
    {
     "name": "stderr",
     "output_type": "stream",
     "text": [
      "r.shape = (30000, 19, 19, 31)\n",
      "nbExamples = 30000\n"
     ]
    },
    {
     "name": "stdout",
     "output_type": "stream",
     "text": [
      "24/24 [==============================] - 11s 476ms/step - loss: 8.3901 - policy_loss: 2.6094 - value_loss: 0.6421 - policy_categorical_accuracy: 0.3605 - value_mse: 0.0966 - val_loss: 8.9272 - val_policy_loss: 2.6567 - val_value_loss: 0.6965 - val_policy_categorical_accuracy: 0.3587 - val_value_mse: 0.1154\n",
      "epoch 95\n"
     ]
    },
    {
     "name": "stderr",
     "output_type": "stream",
     "text": [
      "r.shape = (30000, 19, 19, 31)\n",
      "nbExamples = 30000\n"
     ]
    },
    {
     "name": "stdout",
     "output_type": "stream",
     "text": [
      "24/24 [==============================] - 11s 475ms/step - loss: 8.3405 - policy_loss: 2.5909 - value_loss: 0.6386 - policy_categorical_accuracy: 0.3669 - value_mse: 0.0961 - val_loss: 8.8775 - val_policy_loss: 2.5612 - val_value_loss: 0.7016 - val_policy_categorical_accuracy: 0.3673 - val_value_mse: 0.1141\n",
      "epoch 96\n"
     ]
    },
    {
     "name": "stderr",
     "output_type": "stream",
     "text": [
      "r.shape = (30000, 19, 19, 31)\n",
      "nbExamples = 30000\n"
     ]
    },
    {
     "name": "stdout",
     "output_type": "stream",
     "text": [
      "24/24 [==============================] - 11s 475ms/step - loss: 8.3352 - policy_loss: 2.6049 - value_loss: 0.6364 - policy_categorical_accuracy: 0.3605 - value_mse: 0.0933 - val_loss: 8.3321 - val_policy_loss: 2.6043 - val_value_loss: 0.6362 - val_policy_categorical_accuracy: 0.3683 - val_value_mse: 0.0956\n",
      "epoch 97\n"
     ]
    },
    {
     "name": "stderr",
     "output_type": "stream",
     "text": [
      "r.shape = (30000, 19, 19, 31)\n",
      "nbExamples = 30000\n"
     ]
    },
    {
     "name": "stdout",
     "output_type": "stream",
     "text": [
      "24/24 [==============================] - 11s 475ms/step - loss: 8.3399 - policy_loss: 2.5839 - value_loss: 0.6393 - policy_categorical_accuracy: 0.3688 - value_mse: 0.0951 - val_loss: 8.2985 - val_policy_loss: 2.5968 - val_value_loss: 0.6333 - val_policy_categorical_accuracy: 0.3575 - val_value_mse: 0.0907\n",
      "epoch 98\n"
     ]
    },
    {
     "name": "stderr",
     "output_type": "stream",
     "text": [
      "r.shape = (30000, 19, 19, 31)\n",
      "nbExamples = 30000\n"
     ]
    },
    {
     "name": "stdout",
     "output_type": "stream",
     "text": [
      "24/24 [==============================] - 11s 475ms/step - loss: 8.3609 - policy_loss: 2.5802 - value_loss: 0.6421 - policy_categorical_accuracy: 0.3688 - value_mse: 0.0959 - val_loss: 8.5334 - val_policy_loss: 2.5819 - val_value_loss: 0.6610 - val_policy_categorical_accuracy: 0.3697 - val_value_mse: 0.1060\n",
      "epoch 99\n"
     ]
    },
    {
     "name": "stderr",
     "output_type": "stream",
     "text": [
      "r.shape = (30000, 19, 19, 31)\n",
      "nbExamples = 30000\n"
     ]
    },
    {
     "name": "stdout",
     "output_type": "stream",
     "text": [
      "24/24 [==============================] - 11s 476ms/step - loss: 8.2958 - policy_loss: 2.5759 - value_loss: 0.6353 - policy_categorical_accuracy: 0.3682 - value_mse: 0.0941 - val_loss: 8.4953 - val_policy_loss: 2.5802 - val_value_loss: 0.6570 - val_policy_categorical_accuracy: 0.3662 - val_value_mse: 0.1043\n",
      "epoch 100\n"
     ]
    },
    {
     "name": "stderr",
     "output_type": "stream",
     "text": [
      "r.shape = (30000, 19, 19, 31)\n",
      "nbExamples = 30000\n"
     ]
    },
    {
     "name": "stdout",
     "output_type": "stream",
     "text": [
      "24/24 [==============================] - 11s 475ms/step - loss: 8.2798 - policy_loss: 2.5709 - value_loss: 0.6341 - policy_categorical_accuracy: 0.3670 - value_mse: 0.0933 - val_loss: 8.4516 - val_policy_loss: 2.5703 - val_value_loss: 0.6532 - val_policy_categorical_accuracy: 0.3737 - val_value_mse: 0.1011\n"
     ]
    },
    {
     "name": "stderr",
     "output_type": "stream",
     "text": [
      "r.shape = (30000, 19, 19, 31)\n",
      "nbExamples = 30000\n"
     ]
    },
    {
     "name": "stdout",
     "output_type": "stream",
     "text": [
      "30/30 [==============================] - 4s 104ms/step - loss: 8.4320 - policy_loss: 2.5879 - value_loss: 0.6491 - policy_categorical_accuracy: 0.3657 - value_mse: 0.0991\n",
      "val = [8.431989669799805, 2.587947368621826, 0.6490849852561951, 0.3657333254814148, 0.09914341568946838]\n"
     ]
    },
    {
     "name": "stderr",
     "output_type": "stream",
     "text": [
      "/opt/saturncloud/envs/saturn/lib/python3.10/site-packages/keras/src/engine/training.py:3103: UserWarning: You are saving your model as an HDF5 file via `model.save()`. This file format is considered legacy. We recommend using instead the native Keras format, e.g. `model.save('my_model.keras')`.\n",
      "  saving_api.save_model(\n"
     ]
    }
   ],
   "source": [
    "model.compile(optimizer=keras.optimizers.Adam(learning_rate=0.0008),\n",
    "              loss={'policy': 'categorical_crossentropy', 'value': 'binary_crossentropy'},\n",
    "              loss_weights={'policy': 1.0, 'value': 9.0},\n",
    "              metrics={'policy': 'categorical_accuracy', 'value': 'mse'})\n",
    "\n",
    "# Sauvegarde de l'historique\n",
    "csv_logger = tf.keras.callbacks.CSVLogger(\n",
    "    './history_residualNet_Edy_Diehl_TCHEUTCHOA_DEFFO.csv', append=True)\n",
    "\n",
    "early_stopping = tf.keras.callbacks.EarlyStopping(\n",
    "    min_delta=0.001,  # minimium amount of change to count as an improvement\n",
    "    patience=5,  # how many epochs to wait before stopping\n",
    "    restore_best_weights=True,\n",
    ")\n",
    "\n",
    "for i in range(1, epochs + 1):\n",
    "    print('epoch ' + str(i))\n",
    "    golois.getBatch(input_data, policy, value, end, groups, i * N)\n",
    "    history = model.fit(input_data,\n",
    "                        {'policy': policy, 'value': value},\n",
    "                        validation_split=0.2,\n",
    "                        epochs=1, batch_size=batch, verbose=1, callbacks=[csv_logger, early_stopping])\n",
    "\n",
    "    if (i % 2 == 0):\n",
    "        gc.collect()\n",
    "    if (i % 100 == 0):\n",
    "        golois.getValidation(input_data, policy, value, end)\n",
    "        val = model.evaluate(input_data,\n",
    "                             [policy, value], verbose=1, batch_size=batch)\n",
    "        print(\"val =\", val)\n",
    "        model.save('./residualNet_Edy_Diehl_TCHEUTCHOA_DEFFO.h5')"
   ]
  },
  {
   "cell_type": "markdown",
   "source": [
    "Pour les données de test, nous obtenons un modèle ResidualNet avec une Accuracy de 0.3657 pour la Policy et un MSE de 0.0991 pour la Value."
   ],
   "metadata": {
    "collapsed": false
   }
  },
  {
   "cell_type": "code",
   "execution_count": 6,
   "metadata": {
    "execution": {
     "iopub.execute_input": "2024-01-02T17:41:33.322076Z",
     "iopub.status.busy": "2024-01-02T17:41:33.321677Z",
     "iopub.status.idle": "2024-01-02T17:41:33.332989Z",
     "shell.execute_reply": "2024-01-02T17:41:33.332336Z",
     "shell.execute_reply.started": "2024-01-02T17:41:33.322049Z"
    },
    "id": "kYakPKZ0IJbQ",
    "tags": []
   },
   "outputs": [
    {
     "data": {
      "text/plain": [
       "Index(['epoch', 'loss', 'policy_categorical_accuracy', 'policy_loss',\n",
       "       'val_loss', 'val_policy_categorical_accuracy', 'val_policy_loss',\n",
       "       'val_value_loss', 'val_value_mse', 'value_loss', 'value_mse'],\n",
       "      dtype='object')"
      ]
     },
     "execution_count": 6,
     "metadata": {},
     "output_type": "execute_result"
    }
   ],
   "source": [
    "history_df_residualNet = pd.read_csv('./history_residualNet_Edy_Diehl_TCHEUTCHOA_DEFFO.csv')\n",
    "history_df_residualNet.columns"
   ]
  },
  {
   "cell_type": "code",
   "execution_count": 7,
   "metadata": {
    "execution": {
     "iopub.execute_input": "2024-01-02T17:41:37.447217Z",
     "iopub.status.busy": "2024-01-02T17:41:37.446824Z",
     "iopub.status.idle": "2024-01-02T17:41:38.141730Z",
     "shell.execute_reply": "2024-01-02T17:41:38.140836Z",
     "shell.execute_reply.started": "2024-01-02T17:41:37.447188Z"
    },
    "id": "_54DczBaIKAr",
    "tags": []
   },
   "outputs": [
    {
     "name": "stdout",
     "output_type": "stream",
     "text": [
      "Minimum Policy Validation Loss: 2.5612\n",
      "Maximum Policy Validation Accuracy: 0.3740\n"
     ]
    },
    {
     "data": {
      "image/png": "[encoded data removed]",
      "text/plain": [
       "<Figure size 640x480 with 1 Axes>"
      ]
     },
     "metadata": {},
     "output_type": "display_data"
    },
    {
     "data": {
      "image/png": "[encoded data removed]",
      "text/plain": [
       "<Figure size 640x480 with 1 Axes>"
      ]
     },
     "metadata": {},
     "output_type": "display_data"
    }
   ],
   "source": [
    "history_df_residualNet.loc[0:, ['policy_loss', 'val_policy_loss']].plot(title=\"Policy_cross_entropy\")\n",
    "history_df_residualNet.loc[:, ['policy_categorical_accuracy', 'val_policy_categorical_accuracy']].plot(\n",
    "    title=\"Policy_accuracy\")\n",
    "print(\"Minimum Policy Validation Loss: {:0.4f}\".format(history_df_residualNet['val_policy_loss'].min()));\n",
    "print(\"Maximum Policy Validation Accuracy: {:0.4f}\".format(\n",
    "    history_df_residualNet['val_policy_categorical_accuracy'].max()));"
   ]
  },
  {
   "cell_type": "code",
   "execution_count": 8,
   "metadata": {
    "execution": {
     "iopub.execute_input": "2024-01-02T17:41:47.878162Z",
     "iopub.status.busy": "2024-01-02T17:41:47.877547Z",
     "iopub.status.idle": "2024-01-02T17:41:48.242772Z",
     "shell.execute_reply": "2024-01-02T17:41:48.242044Z",
     "shell.execute_reply.started": "2024-01-02T17:41:47.878128Z"
    },
    "id": "fdOB2n0_IL-Y",
    "tags": []
   },
   "outputs": [
    {
     "name": "stdout",
     "output_type": "stream",
     "text": [
      "Minimum Value Validation Loss: 0.6333\n",
      "Minimum Value Validation MSE: 0.0907\n"
     ]
    },
    {
     "data": {
      "image/png": "[encoded data removed]",
      "text/plain": [
       "<Figure size 640x480 with 1 Axes>"
      ]
     },
     "metadata": {},
     "output_type": "display_data"
    },
    {
     "data": {
      "image/png": "[encoded data removed]",
      "text/plain": [
       "<Figure size 640x480 with 1 Axes>"
      ]
     },
     "metadata": {},
     "output_type": "display_data"
    }
   ],
   "source": [
    "history_df_residualNet.loc[0:, ['value_loss', 'val_value_loss']].plot(title=\"Value_cross_entropy\")\n",
    "history_df_residualNet.loc[:, ['value_mse', 'val_value_mse']].plot(title=\"Value_mse\")\n",
    "print(\"Minimum Value Validation Loss: {:0.4f}\".format(history_df_residualNet['val_value_loss'].min()));\n",
    "print(\"Minimum Value Validation MSE: {:0.4f}\".format(history_df_residualNet['val_value_mse'].min()));"
   ]
  },
  {
   "cell_type": "markdown",
   "source": [
    "## 4. Choix du modèle final\n",
    "\n",
    "Pour les données de test, nous avons obtenu : \n",
    "- un modèle MobileNet avec une Accuracy de 0.3564 pour la Policy et un MSE de 0.1165 pour la Value,\n",
    "- un modèle ShuffleNet avec une Accuracy de 0.3729 pour la Policy et un MSE de 0.1942 pour la Value.\n",
    "- un modèle ResidualNet avec une Accuracy de 0.3657 pour la Policy et un MSE de 0.0991 pour la Value.\n",
    "\n",
    "\n",
    "Nous choisissons donc le modèle ShuffleNet comme modèle final, car il a obtenu la meilleure précision dans sa Policy.\n",
    "\n"
   ],
   "metadata": {
    "collapsed": false
   }
  }
 ],
 "metadata": {
  "accelerator": "GPU",
  "colab": {
   "gpuType": "T4",
   "provenance": []
  },
  "kernelspec": {
   "display_name": "saturn (Python 3)",
   "language": "python",
   "name": "python3"
  },
  "language_info": {
   "codemirror_mode": {
    "name": "ipython",
    "version": 3
   },
   "file_extension": ".py",
   "mimetype": "text/x-python",
   "name": "python",
   "nbconvert_exporter": "python",
   "pygments_lexer": "ipython3",
   "version": "3.10.13"
  }
 },
 "nbformat": 4,
 "nbformat_minor": 4
}
